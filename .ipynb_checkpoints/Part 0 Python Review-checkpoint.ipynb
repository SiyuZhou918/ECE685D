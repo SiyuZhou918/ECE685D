{
 "cells": [
  {
   "cell_type": "markdown",
   "metadata": {},
   "source": [
    "# The material presented in this notebook is for Introduction to Deep Learning (ECE 685D) course, Duke University, Fall 2023."
   ]
  },
  {
   "cell_type": "markdown",
   "metadata": {},
   "source": [
    "# Part 0: Python Review (Programming prerequisite)"
   ]
  },
  {
   "cell_type": "markdown",
   "metadata": {},
   "source": [
    "Goals for today's discussion section:\n",
    "\n",
    "1. Setup Duke container\n",
    "2. Review Python"
   ]
  },
  {
   "cell_type": "markdown",
   "metadata": {},
   "source": [
    "## Using Duke GPUs"
   ]
  },
  {
   "cell_type": "markdown",
   "metadata": {},
   "source": [
    "You should now be able to reserve your Docker container for running GPU-enabled Python notebooks with the following instructions:\n",
    "\n",
    "1. Go to https://cmgr.oit.duke.edu/ and click on the \"Reserve a container\" tab.\n",
    "2. Reserve an \"ECE590\" container by selecting it from the “Reservations available”  section of the page.\n",
    "3. After you have a reservation, it will appear in the “My Reservations” section of the page, and you can launch the container from there."
   ]
  },
  {
   "cell_type": "markdown",
   "metadata": {},
   "source": [
    "## Why Python?\n",
    "+ Python is a widely used, general purpose programming language.\n",
    "+ Easy to start working with.\n",
    "+ Scientific computation functionality similar to Matlab and Octave.\n",
    "+ Used by major deep learning frameworks such as PyTorch and TensorFlow.\n"
   ]
  },
  {
   "cell_type": "code",
   "execution_count": 1,
   "metadata": {},
   "outputs": [
    {
     "name": "stdout",
     "output_type": "stream",
     "text": [
      "Hello World\n"
     ]
    }
   ],
   "source": [
    "print('Hello World')"
   ]
  },
  {
   "cell_type": "markdown",
   "metadata": {},
   "source": [
    "## Python Installation\n",
    "(Only install if you are using your own laptop/PC. Duke containers come with pre-installed libraries and modules.)"
   ]
  },
  {
   "cell_type": "markdown",
   "metadata": {},
   "source": [
    "### Anaconda\n",
    "Anaconda is a popular Python environment/package manager  \n",
    "Install from https://www.anaconda.com/download/  \n",
    "We suggest using Python 3.7"
   ]
  },
  {
   "cell_type": "markdown",
   "metadata": {},
   "source": [
    "## IDEs (Choose one of the following):\n",
    "\n",
    "### VSCode\n",
    "Link: https://code.visualstudio.com/\n",
    "\n",
    "### IDLE\n",
    "IDLE comes with Python installation by default\n",
    "\n",
    "### PyCharm\n",
    "PyCharm is a widely used IDE (Professional version free for Duke student).  \n",
    "\n",
    "https://www.jetbrains.com/pycharm/\n",
    "\n",
    "### Spyder \n",
    "Spyder already exists in Anaconda once it is installed. Spider is very simialr to Matlab.\n",
    "\n",
    "https://www.spyder-ide.org/"
   ]
  },
  {
   "cell_type": "markdown",
   "metadata": {},
   "source": [
    "## Code Editor (only for editing codes, not IDEs)"
   ]
  },
  {
   "cell_type": "markdown",
   "metadata": {},
   "source": [
    "### Sublime Text"
   ]
  },
  {
   "cell_type": "markdown",
   "metadata": {},
   "source": [
    "Sublime Text is a widely used text editor at:\n",
    "https://www.sublimetext.com/"
   ]
  },
  {
   "cell_type": "markdown",
   "metadata": {},
   "source": [
    "## Language Basics"
   ]
  },
  {
   "cell_type": "markdown",
   "metadata": {},
   "source": [
    "### Common Operations"
   ]
  },
  {
   "cell_type": "code",
   "execution_count": 2,
   "metadata": {},
   "outputs": [
    {
     "name": "stdout",
     "output_type": "stream",
     "text": [
      "13\n",
      "7\n",
      "1000\n",
      "3.3333333333333335\n",
      "3\n",
      "103\n"
     ]
    }
   ],
   "source": [
    "x = 10 # slower than Cpp\n",
    "y = 3\n",
    "\n",
    "# Standard mathematical operations in Python\n",
    "print(x + y) # Addition\n",
    "print(x - y) # Subtraction\n",
    "print(x ** y) # Power\n",
    "print(x / y) # Division\n",
    "print(x // y) # Floor division. Nearest integer after division\n",
    "\n",
    "\n",
    "print(str(x) + '' + '' + str(y)) # Typecast: Integer to String. String concatenation. Notice: output is a sting here."
   ]
  },
  {
   "cell_type": "markdown",
   "metadata": {},
   "source": [
    "### Built-in Values"
   ]
  },
  {
   "cell_type": "code",
   "execution_count": 3,
   "metadata": {},
   "outputs": [
    {
     "name": "stdout",
     "output_type": "stream",
     "text": [
      "Error\n"
     ]
    }
   ],
   "source": [
    "True, False # Usual true/false values\n",
    "\n",
    "None # Represents the absence of something\n",
    "\n",
    "x = None # Variables can be None\n",
    "\n",
    "array = [1,2,None] # Lists can contain None\n",
    "\n",
    "# Defining a function in Python.\n",
    "def func():\n",
    "    return None # Functions can return None\n",
    "\n",
    "# If statement\n",
    "if 1 != 2: # indentation matters\n",
    "    print('Error')"
   ]
  },
  {
   "cell_type": "markdown",
   "metadata": {},
   "source": [
    "### Code blocks are created using indents.\n",
    "### Indents can be 2 or 4 spaces, but should be consistent throughout the file."
   ]
  },
  {
   "cell_type": "code",
   "execution_count": 4,
   "metadata": {},
   "outputs": [],
   "source": [
    "def check_even_number(n):\n",
    "    \"\"\"Returns True if the input is even.\"\"\"\n",
    "    \n",
    "    # Indent level 1: function body\n",
    "    if n % 2 == 1:\n",
    "        # Indent level 2: if statement body\n",
    "        return False\n",
    "    else:\n",
    "        # Indent level 2: else statement body\n",
    "        return True"
   ]
  },
  {
   "cell_type": "code",
   "execution_count": 5,
   "metadata": {},
   "outputs": [
    {
     "data": {
      "text/plain": [
       "True"
      ]
     },
     "execution_count": 5,
     "metadata": {},
     "output_type": "execute_result"
    }
   ],
   "source": [
    "check_even_number(6)"
   ]
  },
  {
   "cell_type": "markdown",
   "metadata": {},
   "source": [
    "## Collections"
   ]
  },
  {
   "cell_type": "markdown",
   "metadata": {},
   "source": [
    "### List\n",
    "List is a collection which is ordered and changeable (Mutable). "
   ]
  },
  {
   "cell_type": "code",
   "execution_count": 6,
   "metadata": {},
   "outputs": [
    {
     "name": "stdout",
     "output_type": "stream",
     "text": [
      "['Zach', 'Jay', 'Richard']\n",
      "['Zach', 'Jay', 'Richard', 'Abi', 'Kevin']\n",
      "['Zach', 'Jay', 'Richard', 'Abi', 'Kevin', 'Luke', 'Happy']\n",
      "7\n",
      "['Zach', 'Jay', 'Richard', 'Abi', 'Kevin', 'Luke', 'Happy']\n",
      "['Austin', 'Jay', 'Richard', 'Abi', 'Kevin', 'Luke', 'Happy']\n"
     ]
    }
   ],
   "source": [
    "# define a list\n",
    "names = [] # Creates an empty list\n",
    "names = list() # Also creates an empty list\n",
    "names = ['Zach','Jay'] # Creates an list with predefined items\n",
    "stuff = [1, ['hi','bye'], -0.12, None] # Can mix types\n",
    "\n",
    "# couple ways to add elements to the list\n",
    "\n",
    "names.append('Richard') # extend it by adding one item\n",
    "print(names)\n",
    "names.extend(['Abi','Kevin']) # extend it with another list\n",
    "print(names)\n",
    "\n",
    "other_names = ['Luke','Happy']\n",
    "names = names + other_names # extend it with another list\n",
    "print(names)\n",
    "\n",
    "# check the length of a list\n",
    "print(len(names))\n",
    "\n",
    "## List is mutable\n",
    "print(names)\n",
    "names[0] = 'Austin' # asign a new element to replace the old one\n",
    "print(names)"
   ]
  },
  {
   "cell_type": "markdown",
   "metadata": {},
   "source": [
    "### List indexing and slicing\n",
    "### indexing\n",
    "List index starts from 0 (different with Matlab).\n",
    " "
   ]
  },
  {
   "cell_type": "code",
   "execution_count": 7,
   "metadata": {},
   "outputs": [
    {
     "name": "stdout",
     "output_type": "stream",
     "text": [
      "0\n",
      "3\n",
      "5\n"
     ]
    }
   ],
   "source": [
    "numbers = [0, 1, 2, 3, 4, 5, 6]\n",
    "print(numbers[0]) # first element\n",
    "print(numbers[3]) # fourth element\n",
    "\n",
    "print(numbers[-2]) # second last element"
   ]
  },
  {
   "cell_type": "markdown",
   "metadata": {},
   "source": [
    "### Slicing\n",
    "#### x[start:stop:step]  \n",
    " start - starting integer where the slicing of the object starts  \n",
    " stop - integer until which the slicing takes place. The slicing stops at index stop   \n",
    " step - integer value which determines the increment between each index for slicing  "
   ]
  },
  {
   "cell_type": "code",
   "execution_count": 8,
   "metadata": {},
   "outputs": [
    {
     "name": "stdout",
     "output_type": "stream",
     "text": [
      "[0, 1, 2]\n",
      "[5, 6]\n",
      "[0, 1, 2, 3, 4, 5, 6]\n",
      "[4, 5, 6]\n",
      "[3, 4]\n",
      "[0, 2, 4]\n"
     ]
    }
   ],
   "source": [
    "print(numbers[0:3]) # numbers[:3]\n",
    "print(numbers[5:]) # all the element after the sixth one (equals to numbers[5:7])\n",
    "\n",
    "print(numbers[:]) # equals to numbers\n",
    "\n",
    "print(numbers[-3:]) \n",
    "print(numbers[3:-2]) # Can mix and match\n",
    "print(numbers[0:5:2]) # numbers[:5:2]"
   ]
  },
  {
   "cell_type": "markdown",
   "metadata": {},
   "source": [
    "### Tuple\n",
    "A tuple is a collection which is ordered and unchangeable (Immutable)."
   ]
  },
  {
   "cell_type": "code",
   "execution_count": 9,
   "metadata": {},
   "outputs": [
    {
     "name": "stdout",
     "output_type": "stream",
     "text": [
      "True\n",
      "True\n",
      "('Zach', 'Jay')\n",
      "'tuple' object does not support item assignment\n",
      "(10,)\n"
     ]
    }
   ],
   "source": [
    "names = ('Zach', 'Jay') # Note the parentheses\n",
    "print(names[0] == 'Zach')\n",
    "print(len(names) == 2)\n",
    "print(names)\n",
    "try:\n",
    "    names[0] = 'Richard' # gives error since tuple is immutable!\n",
    "except TypeError as e:\n",
    "    print(e)\n",
    "empty = tuple() # Empty tuple\n",
    "single = (10,) # Single-element tuple. Comma matters!\n",
    "print(single)"
   ]
  },
  {
   "cell_type": "markdown",
   "metadata": {},
   "source": [
    "### Set\n",
    "A set is a collection which is unordered and unindexed. In Python sets are written with curly brackets.\n",
    "\n",
    "A set is usually used to check the existence of some specific elements.\n"
   ]
  },
  {
   "cell_type": "code",
   "execution_count": 10,
   "metadata": {},
   "outputs": [
    {
     "name": "stdout",
     "output_type": "stream",
     "text": [
      "Jay\n",
      "Zach\n",
      "'set' object is not subscriptable\n",
      "'set' object does not support item assignment\n",
      "True\n",
      "{'Jay', 'Zach', 'Nick'}\n"
     ]
    }
   ],
   "source": [
    "# create a set\n",
    "names = {'Zach', 'Jay', 'Zach'} # First method. Note the curly brackets and duplicates\n",
    "names = set(['Zach', 'Jay', 'Zach']) # Second Method\n",
    "\n",
    "\n",
    "for name in names:\n",
    "    print(name)\n",
    "try:\n",
    "    print(names[0]) # Set is not subscriptable\n",
    "except TypeError as e:\n",
    "    print(e)\n",
    "try:\n",
    "    names[0] = 'Richard' # Set does not support item assignment\n",
    "except TypeError as e:\n",
    "    print(e)\n",
    "    \n",
    "name_1 = 'Zach'\n",
    "\n",
    "print(name_1 in names) # fast check existence of a given element\n",
    "\n",
    "\n",
    "names.add(\"Nick\")\n",
    "print(names)\n",
    "names.remove(\"Nick\")"
   ]
  },
  {
   "cell_type": "markdown",
   "metadata": {},
   "source": [
    "### Dictionary\n",
    "A dictionary is a collection which is unordered, changeable and indexed. In Python, dictionaries are written with curly brackets, and they have keys and values (This is used for creating hash tables)."
   ]
  },
  {
   "cell_type": "code",
   "execution_count": 11,
   "metadata": {},
   "outputs": [
    {
     "name": "stdout",
     "output_type": "stream",
     "text": [
      "{'Zach': '12-37', 'Jay': '34-23'}\n",
      "True\n",
      "False\n",
      "34-23\n",
      "{'Jay': '34-23'}\n",
      "Jay 34-23\n",
      "Jay 44-22\n"
     ]
    }
   ],
   "source": [
    "phonebook = dict() # Empty dictionary\n",
    "phonebook = {'Zach': '12-37'} # Dictionary with one item\n",
    "phonebook['Jay'] = '34-23' # Add another item\n",
    "print(phonebook)\n",
    "print('Zach' in phonebook) # checking if specific key in the dict\n",
    "print('Kevin' in phonebook)\n",
    "print(phonebook['Jay'])\n",
    "del phonebook['Zach'] # Delete an item\n",
    "print(phonebook)\n",
    "for name, number in phonebook.items():\n",
    "    print(name, number)\n",
    "    \n",
    "    \n",
    "# the keys are immutable\n",
    "phonebook['Jay'] = '44-22' # the values are mutable\n",
    "for name, number in phonebook.items():\n",
    "    print(name, number)\n",
    "    "
   ]
  },
  {
   "cell_type": "markdown",
   "metadata": {},
   "source": [
    "## Loops"
   ]
  },
  {
   "cell_type": "code",
   "execution_count": 12,
   "metadata": {},
   "outputs": [
    {
     "name": "stdout",
     "output_type": "stream",
     "text": [
      "Hi Zack!\n",
      "Hi Jay!\n",
      "Hi Richard!\n"
     ]
    }
   ],
   "source": [
    "for name in ['Zack','Jay','Richard']:\n",
    "    print('Hi ' + name + '!') # string add\n"
   ]
  },
  {
   "cell_type": "code",
   "execution_count": 13,
   "metadata": {},
   "outputs": [
    {
     "name": "stdout",
     "output_type": "stream",
     "text": [
      "We are stuck in a loop...\n"
     ]
    }
   ],
   "source": [
    "while True:\n",
    "    print('We are stuck in a loop...')\n",
    "    break # Break out of the while loop"
   ]
  },
  {
   "cell_type": "markdown",
   "metadata": {},
   "source": [
    "#### What about for (i=0; i<10; i++)? Use range():"
   ]
  },
  {
   "cell_type": "code",
   "execution_count": 14,
   "metadata": {},
   "outputs": [
    {
     "name": "stdout",
     "output_type": "stream",
     "text": [
      "Line1\n",
      "Line3\n",
      "Line5\n",
      "0 1\n",
      "1 2\n",
      "2 3\n",
      "1 10\n",
      "2 20\n",
      "3 30\n"
     ]
    }
   ],
   "source": [
    "for i in range(1, 6, 2):\n",
    "    print('Line' + str(i))\n",
    "# Want an index also? Look at enumerate()!\n",
    "\n",
    "for index, i in enumerate([1, 2, 3]):\n",
    "    print(index, i)\n",
    "    \n",
    "# Looping over a list, unpacking tuples:\n",
    "for x, y in [(1,10), (2,20), (3,30)]:\n",
    "    print(x, y)\n"
   ]
  },
  {
   "cell_type": "markdown",
   "metadata": {},
   "source": [
    "## Classes and Objects\n",
    "Python is a object-oriented language! You will see a lot of class implementation in DL."
   ]
  },
  {
   "cell_type": "code",
   "execution_count": 37,
   "metadata": {},
   "outputs": [],
   "source": [
    "class Animal(object): # parenthese: the \"parent object\" of current object. All the properties are inherited\n",
    "    def __init__(self, species, age):\n",
    "        self.species = species # Refer to instance with `self`\n",
    "        self.age = age # All instance variables are public within this object\n",
    "        \n",
    "    def isPerson(self): # Invoked with `a.isPerson()`\n",
    "        return self.species == 'Homo Sapiens'\n",
    "    \n",
    "    def growup(self):\n",
    "        self.age += 1\n",
    "        "
   ]
  },
  {
   "cell_type": "code",
   "execution_count": 38,
   "metadata": {},
   "outputs": [
    {
     "name": "stdout",
     "output_type": "stream",
     "text": [
      "3\n",
      "cat\n",
      "False\n",
      "4\n"
     ]
    }
   ],
   "source": [
    "mycat = Animal(\"cat\",3) # create an Animal object\n",
    "print(mycat.age)\n",
    "print(mycat.species)\n",
    "\n",
    "print(mycat.isPerson())\n",
    "mycat.growup()\n",
    "print(mycat.age)"
   ]
  },
  {
   "cell_type": "code",
   "execution_count": 44,
   "metadata": {},
   "outputs": [],
   "source": [
    "class Dog(Animal): # Inherits Animal’s methods\n",
    "    def __init__(self, age): # self: Dog itself\n",
    "        super(Dog, self).__init__(self.__class__.__name__, age) # super: access the parent class.\n",
    "        \n",
    "    def growup(self): # Override for dog years\n",
    "        self.age += 7"
   ]
  },
  {
   "cell_type": "code",
   "execution_count": 45,
   "metadata": {},
   "outputs": [
    {
     "name": "stdout",
     "output_type": "stream",
     "text": [
      "Dog 5\n",
      "False\n",
      "12\n",
      "19\n"
     ]
    }
   ],
   "source": [
    "mydog = Dog(5)\n",
    "print(mydog.species, mydog.age)\n",
    "print(mydog.isPerson())\n",
    "mydog.growup()\n",
    "print(mydog.age)\n",
    "mydog.growup()\n",
    "print(mydog.age)"
   ]
  },
  {
   "cell_type": "markdown",
   "metadata": {},
   "source": [
    "## Functions"
   ]
  },
  {
   "cell_type": "code",
   "execution_count": 46,
   "metadata": {},
   "outputs": [],
   "source": [
    "# define a funtion\n",
    "def add(x,y): # function_name(your input):\n",
    "    return x+y"
   ]
  },
  {
   "cell_type": "code",
   "execution_count": 47,
   "metadata": {},
   "outputs": [
    {
     "data": {
      "text/plain": [
       "8"
      ]
     },
     "execution_count": 47,
     "metadata": {},
     "output_type": "execute_result"
    }
   ],
   "source": [
    "add(3,5) # calling a function"
   ]
  },
  {
   "cell_type": "markdown",
   "metadata": {},
   "source": [
    "## Importing Modules\n",
    "\n",
    "Import packages from third-parties/files from the specific root"
   ]
  },
  {
   "cell_type": "code",
   "execution_count": 19,
   "metadata": {},
   "outputs": [],
   "source": [
    "# Import ‘os’ and ‘time’ modules\n",
    "import os, time\n",
    "# Import under an alias\n",
    "import numpy as np\n",
    "# Import a sub-package from a package\n",
    "from os import path"
   ]
  },
  {
   "cell_type": "code",
   "execution_count": 20,
   "metadata": {},
   "outputs": [
    {
     "name": "stdout",
     "output_type": "stream",
     "text": [
      "[[0.27936314 0.96967514 0.90680208 0.66021292]\n",
      " [0.40283823 0.56309608 0.88605709 0.98010914]\n",
      " [0.87092883 0.33970475 0.66620715 0.55457647]\n",
      " [0.22853463 0.59583066 0.64223382 0.73542338]\n",
      " [0.77191172 0.69445351 0.25752068 0.43589948]]\n"
     ]
    }
   ],
   "source": [
    "# Sample from uniform distribution\n",
    "x = np.random.rand(5,4)\n",
    "print(x)"
   ]
  },
  {
   "cell_type": "markdown",
   "metadata": {},
   "source": [
    "## Numpy"
   ]
  },
  {
   "cell_type": "markdown",
   "metadata": {},
   "source": [
    "* Optimized library for matrix and vector computation.  \n",
    "* Makes use of C/C++ subroutines and memory-efficient data structures.  \n",
    "(Lots of computation can be efficiently represented as np.ndarray.)\n",
    "* This is the data type that you will use to represent matrix/vector computations.  \n",
    "Constructor function is np.array()  "
   ]
  },
  {
   "cell_type": "markdown",
   "metadata": {},
   "source": [
    "### np.ndarry"
   ]
  },
  {
   "cell_type": "code",
   "execution_count": 48,
   "metadata": {},
   "outputs": [
    {
     "name": "stdout",
     "output_type": "stream",
     "text": [
      "[1 2 3] [[1 2 3]] [[6 7]\n",
      " [8 9]]\n",
      "(3,)\n",
      "(1, 3)\n",
      "(2, 2)\n"
     ]
    }
   ],
   "source": [
    "x = np.array([1,2,3])\n",
    "y = np.array([[1,2,3]])\n",
    "z = np.array([[6,7],[8,9]])\n",
    "print(x,y,z)\n",
    "print(x.shape)\n",
    "print(y.shape)\n",
    "print(z.shape)"
   ]
  },
  {
   "cell_type": "code",
   "execution_count": 22,
   "metadata": {},
   "outputs": [
    {
     "name": "stdout",
     "output_type": "stream",
     "text": [
      "[[1 2 3]\n",
      " [4 5 6]]\n",
      "[3 6]\n",
      "[[3]\n",
      " [6]]\n"
     ]
    }
   ],
   "source": [
    "x = np.array([[1,2,3],[4,5,6]])\n",
    "print(x)\n",
    "print(np.max(x, axis = 1))\n",
    "print(np.max(x, axis = 1, keepdims = True))"
   ]
  },
  {
   "cell_type": "markdown",
   "metadata": {},
   "source": [
    "* Matrix Operations: np.dot, np.linalg.norm, .T, +, -, *, ...  \n",
    "* Infix operators (i.e. +, -, *, **, /) are element-wise.  \n",
    "* Matrix multiplication is done with np.dot(x, W) or x.dot(W). Transpose a matrix with x.T \n",
    "* Note: Shapes (N,) != (1, N) != (N,1)"
   ]
  },
  {
   "cell_type": "code",
   "execution_count": 23,
   "metadata": {},
   "outputs": [
    {
     "name": "stdout",
     "output_type": "stream",
     "text": [
      "(3,)\n",
      "(3,)\n",
      "(1, 3)\n",
      "(3, 1)\n"
     ]
    }
   ],
   "source": [
    "x = np.array([1,2,3])\n",
    "print(x.shape)\n",
    "print(x.T.shape)\n",
    "print(x.reshape((1,-1)).shape)\n",
    "print(x.reshape((-1,1)).shape)"
   ]
  },
  {
   "cell_type": "markdown",
   "metadata": {},
   "source": [
    "### Indexing\n",
    "https://docs.scipy.org/doc/numpy/reference/arrays.indexing.html"
   ]
  },
  {
   "cell_type": "code",
   "execution_count": 24,
   "metadata": {},
   "outputs": [
    {
     "name": "stdout",
     "output_type": "stream",
     "text": [
      "[[1 0 1 0]\n",
      " [4 2 0 4]\n",
      " [1 3 0 3]]\n",
      "[[1 0 1 0]\n",
      " [1 3 0 3]]\n",
      "[2 0]\n",
      "[array([[ True, False,  True, False],\n",
      "       [ True,  True, False,  True],\n",
      "       [ True,  True, False,  True]])]\n",
      "[1 1 4 2 4 1 3 3]\n"
     ]
    }
   ],
   "source": [
    "x = np.random.randint(5, size=(3, 4)) # Random (3,4) matrix with integars range from 0 to 5\n",
    "print(x)\n",
    "\n",
    "print(x[np.array([0, 2]), :]) # Selects the 0th and 2nd rows\n",
    "\n",
    "print(x[1, 1:3]) # Selects 1st row as 1-D vector and 1st through 2nd elements\n",
    "\n",
    "print([x > 0.5])\n",
    "print(x[x > 0.5]) # Boolean indexing"
   ]
  },
  {
   "cell_type": "markdown",
   "metadata": {},
   "source": [
    "### Operation between numpy arrays\n"
   ]
  },
  {
   "cell_type": "code",
   "execution_count": 25,
   "metadata": {},
   "outputs": [
    {
     "name": "stdout",
     "output_type": "stream",
     "text": [
      "matrix x is: \n",
      " [[2 2]\n",
      " [4 1]]\n",
      "matrix y is: \n",
      " [[2 3]\n",
      " [1 3]]\n",
      "element-wise addition: \n",
      "[[4 5]\n",
      " [5 4]]\n",
      "element-wise multiplication:\n",
      "[[4 6]\n",
      " [4 3]]\n"
     ]
    }
   ],
   "source": [
    "x = np.random.randint(5, size=(2, 2)) # Random (2,2) matrix with integars range from 0 to 5\n",
    "y = np.random.randint(5, size=(2, 2)) # Random (2,2) matrix with integars range from 0 to 5\n",
    "\n",
    "print(\"matrix x is: \\n\",x)\n",
    "print(\"matrix y is: \\n\",y)\n",
    "\n",
    "print(\"element-wise addition: \") \n",
    "print((x + y)) # \n",
    "print(\"element-wise multiplication:\") \n",
    "print((x * y)) # "
   ]
  },
  {
   "cell_type": "markdown",
   "metadata": {},
   "source": [
    "## Avoid explicit for-loops over indices/axes at all costs.\n",
    "## For-loops will dramatically slow down your code (~10-100x)"
   ]
  },
  {
   "cell_type": "code",
   "execution_count": 26,
   "metadata": {},
   "outputs": [
    {
     "name": "stdout",
     "output_type": "stream",
     "text": [
      "0.27609992027282715\n",
      "0.0008871555328369141\n"
     ]
    }
   ],
   "source": [
    "import time\n",
    "\n",
    "s = time.time()\n",
    "\n",
    "x = np.random.rand(1000,1000)\n",
    "for i in range(x.shape[0]):\n",
    "    for j in range(x.shape[1]):\n",
    "        x[i,j] **= 2\n",
    "print(time.time()-s)\n",
    "\n",
    "s = time.time()\n",
    "x **= 2\n",
    "print(time.time()-s)"
   ]
  },
  {
   "cell_type": "code",
   "execution_count": 27,
   "metadata": {},
   "outputs": [
    {
     "name": "stdout",
     "output_type": "stream",
     "text": [
      "0.22102713584899902\n",
      "0.0029909610748291016\n"
     ]
    }
   ],
   "source": [
    "s = time.time()\n",
    "for i in range(100, 1000):\n",
    "    for j in range(x.shape[1]):\n",
    "        x[i, j] += 5\n",
    "print(time.time()-s)\n",
    "\n",
    "s = time.time()\n",
    "x[np.arange(100,1000), :] += 5\n",
    "print(time.time()-s)"
   ]
  },
  {
   "cell_type": "markdown",
   "metadata": {},
   "source": [
    "## Tricks"
   ]
  },
  {
   "cell_type": "markdown",
   "metadata": {},
   "source": [
    "### List Comprehension"
   ]
  },
  {
   "cell_type": "code",
   "execution_count": 28,
   "metadata": {},
   "outputs": [
    {
     "name": "stdout",
     "output_type": "stream",
     "text": [
      "[0, 1, 4, 9, 16, 25, 36, 49, 64, 81]\n",
      "[0, 1, 4, 9, 16, 25, 36, 49, 64, 81]\n"
     ]
    }
   ],
   "source": [
    "# Format: [func(x) for x in some_list]\n",
    "# Following are equivalent:\n",
    "squares = []\n",
    "for i in range(10):\n",
    "    squares.append(i**2)\n",
    "print(squares)\n",
    "\n",
    "squares = [i**2 for i in range(10)]\n",
    "print(squares)\n",
    "# Can be conditional:\n",
    "odds = [i**2 for i in range(10) if i%2 == 1]"
   ]
  },
  {
   "cell_type": "markdown",
   "metadata": {},
   "source": [
    "### Lambda\n",
    "A lambda function is a small anonymous function.  \n",
    "A lambda function can take any number of arguments, but can only have one expression."
   ]
  },
  {
   "cell_type": "code",
   "execution_count": 29,
   "metadata": {},
   "outputs": [
    {
     "name": "stdout",
     "output_type": "stream",
     "text": [
      "13\n",
      "13\n"
     ]
    }
   ],
   "source": [
    "# These two operations are identical\n",
    "def add(a,b,c):\n",
    "    return a + b + c\n",
    "print(add(5, 6, 2))\n",
    "\n",
    "add = lambda a, b, c : a + b + c\n",
    "print(add(5, 6, 2))"
   ]
  },
  {
   "cell_type": "code",
   "execution_count": 30,
   "metadata": {},
   "outputs": [
    {
     "name": "stdout",
     "output_type": "stream",
     "text": [
      "2\n",
      "2\n"
     ]
    }
   ],
   "source": [
    "def multiplier(input, option):\n",
    "    if option =='double':\n",
    "        return 2*input\n",
    "    elif option =='triple':\n",
    "        return 3*input\n",
    "print(multiplier(1,'double'))\n",
    "\n",
    "# To handle multiple expressions\n",
    "multiplierDict = { 'double' : lambda x : 2*x,  'triple' : lambda x : 3*x}\n",
    "def multiplier(input, option):\n",
    "    return multiplierDict[option](input)\n",
    "\n",
    "print(multiplier(1,'double'))"
   ]
  },
  {
   "cell_type": "markdown",
   "metadata": {},
   "source": [
    "### Convenient Syntax"
   ]
  },
  {
   "cell_type": "code",
   "execution_count": 31,
   "metadata": {},
   "outputs": [
    {
     "name": "stdout",
     "output_type": "stream",
     "text": [
      "['1', '2', '3']\n",
      "1,2,3\n",
      "['1', '2', '3']\n",
      "I like \"single\" quotes.\n",
      "I prefer 'double' quotes.\n"
     ]
    }
   ],
   "source": [
    "# Multiple assignment / unpacking iterables\n",
    "x, y, z = ['Tensorflow', 'PyTorch', 'Chainer']\n",
    "age, name, pets = 20, 'Joy', ['cat']\n",
    "\n",
    "# Returning multiple items from a function\n",
    "def some_func():\n",
    "    return 10, 1\n",
    "ten, one = some_func()\n",
    "\n",
    "# Joining and splitting list of strings with a delimiter\n",
    "x = ['1', '2', '3']\n",
    "print(x)\n",
    "x = ','.join(x)\n",
    "print(x)\n",
    "y = x.split(',')\n",
    "print(y)\n",
    "\n",
    "# String literals with both single and double quotes\n",
    "message = 'I like \"single\" quotes.'\n",
    "reply = \"I prefer 'double' quotes.\"\n",
    "print(message)\n",
    "print(reply)"
   ]
  },
  {
   "cell_type": "markdown",
   "metadata": {},
   "source": [
    "## Matplotlib for plotting \n",
    "\n",
    "https://matplotlib.org/"
   ]
  },
  {
   "cell_type": "markdown",
   "metadata": {},
   "source": [
    "## Import pyplot module from matplotlib package"
   ]
  },
  {
   "cell_type": "code",
   "execution_count": 32,
   "metadata": {},
   "outputs": [],
   "source": [
    "import matplotlib.pyplot as plt\n",
    "import numpy as np\n",
    "%matplotlib inline"
   ]
  },
  {
   "cell_type": "code",
   "execution_count": 33,
   "metadata": {},
   "outputs": [],
   "source": [
    "x = np.linspace(-5,5, 100) # get 100 evenly-distributed points between [-5,5]"
   ]
  },
  {
   "cell_type": "code",
   "execution_count": 34,
   "metadata": {},
   "outputs": [],
   "source": [
    "y1 = 1/(1+np.exp(-x))\n",
    "y2 = np.log(1+np.exp(x))"
   ]
  },
  {
   "cell_type": "code",
   "execution_count": 35,
   "metadata": {},
   "outputs": [
    {
     "data": {
      "text/plain": [
       "((100,), (100,), (100,))"
      ]
     },
     "execution_count": 35,
     "metadata": {},
     "output_type": "execute_result"
    }
   ],
   "source": [
    "x.shape, y1.shape, y2.shape"
   ]
  },
  {
   "cell_type": "code",
   "execution_count": 36,
   "metadata": {},
   "outputs": [
    {
     "data": {
      "text/plain": [
       "<matplotlib.legend.Legend at 0x7fae29fb4940>"
      ]
     },
     "execution_count": 36,
     "metadata": {},
     "output_type": "execute_result"
    },
    {
     "data": {
      "image/png": "[encoded data removed]",
      "text/plain": [
       "<Figure size 640x480 with 1 Axes>"
      ]
     },
     "metadata": {},
     "output_type": "display_data"
    }
   ],
   "source": [
    "plt.plot(x, y1, 'r-', x, y2, 'b--', linewidth=2)\n",
    "plt.grid()\n",
    "plt.legend(['Sigmoid Function', 'Softplus Function'])"
   ]
  }
 ],
 "metadata": {
  "kernelspec": {
   "display_name": "Python 3 (ipykernel)",
   "language": "python",
   "name": "python3"
  },
  "language_info": {
   "codemirror_mode": {
    "name": "ipython",
    "version": 3
   },
   "file_extension": ".py",
   "mimetype": "text/x-python",
   "name": "python",
   "nbconvert_exporter": "python",
   "pygments_lexer": "ipython3",
   "version": "3.10.6"
  },
  "vscode": {
   "interpreter": {
    "hash": "aee8b7b246df8f9039afb4144a1f6fd8d2ca17a180786b69acc140d282b71a49"
   }
  }
 },
 "nbformat": 4,
 "nbformat_minor": 4
}
