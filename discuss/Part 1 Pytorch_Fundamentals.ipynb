{
 "cells": [
  {
   "cell_type": "markdown",
   "metadata": {
    "id": "Q6uoVN0u3LB_"
   },
   "source": [
    "# The material presented in this notebook is for use in Introduction to Deep Learning ECE.685D course, Duke University, Fall 2023."
   ]
  },
  {
   "cell_type": "markdown",
   "metadata": {
    "id": "eRqGH8043LCB"
   },
   "source": [
    "* ### Static frameworks such as Theano, Caffe, and TensorFlow require the computational graph to be first declared, compiled, and then executed.\n",
    "* ### This leads to very efficient implementations (in production and mobile settings), it can become very painful during research and development. \n",
    "* ### Modern frameworks such as Chainer, DyNet, and PyTorch implement dynamic computational graphs. These are more flexible, and provide imperative style of coding.\n",
    "* ### We do not need to compile the models before every execution.\n",
    "* ### __PyTorch is a library (framework) which is optimized for tensor manipulation, and it provides a series of packages for deep learning.__"
   ]
  },
  {
   "cell_type": "markdown",
   "metadata": {
    "id": "AtdCbJJZ3LCB"
   },
   "source": [
    "## __Modules and packages in Pytorch__\n",
    "* ### __torch :__  a Tensor library like Numpy, with strong GPU support\n",
    "* ### __torch.autograd :__ an automatic differentiation library that supports all differentiable Tensor operations in torch\n",
    "* ### __torch.nn :__ a neural networks library integrated with autograd\n",
    "* ### __torch.nn.functional :__ implementation of many useful mathematical functions such as Relu, Tanh, and so on.\n",
    "* ### __torch.optim :__ an optimization package to be used with torch.nn with standard optimization methods such as SGD, RMSProp, Adam, and so on.\n",
    "* ### __torch.utils :__ DataLoader, Trainer and other utility functions for convenience\n",
    "* ### __torchvision :__ Consists of popular datasets, model architectures, and common image transformations for computer vision.\n",
    "* ### __torchaudio:__ Consists of I/O, popular datasets and common audio transformations (oading sound files in the wav and mp3 format). \n",
    "* ### __torchtext:__ Consists of  data processing utilities and popular datasets for natural language"
   ]
  },
  {
   "cell_type": "markdown",
   "metadata": {
    "id": "vxfPpa7i3LCB"
   },
   "source": [
    "## __Importing modules and packages__"
   ]
  },
  {
   "cell_type": "code",
   "execution_count": 1,
   "metadata": {
    "id": "mwtPedQx3LCC"
   },
   "outputs": [],
   "source": [
    "import torch\n",
    "import torch.nn.functional as F\n",
    "import torch.nn as nn\n",
    "import numpy as np"
   ]
  },
  {
   "cell_type": "markdown",
   "metadata": {
    "id": "1XpdGrah3LCC"
   },
   "source": [
    "## __Diffferent level of abstractions__ \n",
    "* ### __Tensor:__ Like array in Numpy, but runs on a GPU to accelerate computing\n",
    "* ### __Module:__ A neural network layer --> storing states or learnable weights"
   ]
  },
  {
   "cell_type": "markdown",
   "metadata": {
    "id": "PZZXVLVf3LCC"
   },
   "source": [
    "## __Getting started with Tensors__ \n",
    "https://pytorch.org/docs/stable/tensors.html"
   ]
  },
  {
   "cell_type": "markdown",
   "metadata": {
    "id": "8WNQCdKb3LCD"
   },
   "source": [
    "## Constructing tensor directly using torch makes the data type as (default data type):\n",
    "* ### 32-bit floating point\n",
    "* ### torch.float32 or torch.float\n",
    "* ### torch.FloatTensor"
   ]
  },
  {
   "cell_type": "markdown",
   "metadata": {
    "id": "Tuh3HNd23LCD"
   },
   "source": [
    "## Construct a 10x3 matrix, uninitialized:"
   ]
  },
  {
   "cell_type": "code",
   "execution_count": 2,
   "metadata": {
    "id": "quvHCmHF3LCE"
   },
   "outputs": [],
   "source": [
    "x = torch.empty(10, 3)"
   ]
  },
  {
   "cell_type": "code",
   "execution_count": 3,
   "metadata": {
    "colab": {
     "base_uri": "https://localhost:8080/"
    },
    "id": "BiY1UgNj3LCE",
    "outputId": "1e9a6d44-b503-46b2-f9fa-54d2a1d318b4"
   },
   "outputs": [
    {
     "data": {
      "text/plain": [
       "tensor([[-7.8484e-08,  4.5664e-41, -4.7191e+27],\n",
       "        [ 4.5663e-41, -6.7662e-08,  4.5664e-41],\n",
       "        [-6.5862e-08,  4.5664e-41, -7.7374e-08],\n",
       "        [ 4.5664e-41, -7.6593e-08,  4.5664e-41],\n",
       "        [-3.0326e-08,  4.5664e-41, -7.4315e-08],\n",
       "        [ 4.5664e-41, -7.9082e-08,  4.5664e-41],\n",
       "        [-4.6956e+27,  4.5663e-41, -1.7355e-03],\n",
       "        [ 4.5663e-41, -6.6381e-08,  4.5664e-41],\n",
       "        [-1.7392e-03,  4.5663e-41, -7.9065e-08],\n",
       "        [ 4.5664e-41, -4.7175e+27,  4.5663e-41]])"
      ]
     },
     "execution_count": 3,
     "metadata": {},
     "output_type": "execute_result"
    }
   ],
   "source": [
    "x"
   ]
  },
  {
   "cell_type": "markdown",
   "metadata": {
    "id": "r_v8XVgr3LCF"
   },
   "source": [
    "## Construct a a randomly (uniform distribution on the interval [0, 1]) initialized $5\\times 3$:"
   ]
  },
  {
   "cell_type": "code",
   "execution_count": 4,
   "metadata": {
    "id": "RJj9Qmu73LCF"
   },
   "outputs": [],
   "source": [
    "x = torch.rand(5,3)"
   ]
  },
  {
   "cell_type": "code",
   "execution_count": 5,
   "metadata": {
    "colab": {
     "base_uri": "https://localhost:8080/"
    },
    "id": "NWIn-EWE3LCF",
    "outputId": "06368a1a-9634-4fdc-ef73-407b1bf010db"
   },
   "outputs": [
    {
     "data": {
      "text/plain": [
       "tensor([[0.3912, 0.0060, 0.6137],\n",
       "        [0.6692, 0.0526, 0.4943],\n",
       "        [0.2612, 0.8139, 0.3615],\n",
       "        [0.5248, 0.0060, 0.2203],\n",
       "        [0.3428, 0.8901, 0.4727]])"
      ]
     },
     "execution_count": 5,
     "metadata": {},
     "output_type": "execute_result"
    }
   ],
   "source": [
    "x"
   ]
  },
  {
   "cell_type": "markdown",
   "metadata": {
    "id": "kFDOGghg3LCG"
   },
   "source": [
    "## Construct a one matrix:"
   ]
  },
  {
   "cell_type": "code",
   "execution_count": 9,
   "metadata": {
    "id": "0PW_OK-j3LCG"
   },
   "outputs": [],
   "source": [
    "x = torch.ones(5, 3)"
   ]
  },
  {
   "cell_type": "code",
   "execution_count": 10,
   "metadata": {
    "colab": {
     "base_uri": "https://localhost:8080/"
    },
    "id": "iNQy_pgt3LCG",
    "outputId": "e3b5ce00-2db8-4958-d0f1-ee415a17e995"
   },
   "outputs": [
    {
     "data": {
      "text/plain": [
       "tensor([[1., 1., 1.],\n",
       "        [1., 1., 1.],\n",
       "        [1., 1., 1.],\n",
       "        [1., 1., 1.],\n",
       "        [1., 1., 1.]])"
      ]
     },
     "execution_count": 10,
     "metadata": {},
     "output_type": "execute_result"
    }
   ],
   "source": [
    "x"
   ]
  },
  {
   "cell_type": "markdown",
   "metadata": {
    "id": "N1xHw2Xi3LCG"
   },
   "source": [
    "## Construct a tensor from data (a 3-d tensor):"
   ]
  },
  {
   "cell_type": "code",
   "execution_count": 11,
   "metadata": {
    "id": "nDiLTdrt3LCG"
   },
   "outputs": [],
   "source": [
    "y = torch.tensor([[[5.5, 3],[-3.8, 100]],[[1, 30],[023.8, 10]]])"
   ]
  },
  {
   "cell_type": "markdown",
   "metadata": {
    "id": "61O2Orj63LCG"
   },
   "source": [
    "## The size or shape of a tensor"
   ]
  },
  {
   "cell_type": "code",
   "execution_count": 14,
   "metadata": {
    "colab": {
     "base_uri": "https://localhost:8080/"
    },
    "id": "zzxOw20R3LCG",
    "outputId": "03ac03d6-f1be-4007-8046-6477e58fd064"
   },
   "outputs": [
    {
     "name": "stdout",
     "output_type": "stream",
     "text": [
      "torch.Size([5, 3])\n",
      "****************************************\n"
     ]
    },
    {
     "data": {
      "text/plain": [
       "torch.Size([5, 3])"
      ]
     },
     "execution_count": 14,
     "metadata": {},
     "output_type": "execute_result"
    }
   ],
   "source": [
    "print(x.size())\n",
    "print('*'*40)\n",
    "x.shape  # shape built-in method in Numpy"
   ]
  },
  {
   "cell_type": "markdown",
   "metadata": {
    "id": "b-x1whac3LCG"
   },
   "source": [
    "## Construct a tensor based on an existing tensor:"
   ]
  },
  {
   "cell_type": "markdown",
   "metadata": {
    "id": "Uv77JGQz3LCG"
   },
   "source": [
    "###  Creating a filled tensor \n",
    "* ### Any PyTorch method with an underscore (_) means an in-place operation (it modifies the content without creating a new object)."
   ]
  },
  {
   "cell_type": "code",
   "execution_count": 99,
   "metadata": {
    "colab": {
     "base_uri": "https://localhost:8080/"
    },
    "id": "nc3TUQUd3LCG",
    "outputId": "ad65ad60-ef58-4dc5-b4fc-a275cb752d90"
   },
   "outputs": [
    {
     "data": {
      "text/plain": [
       "tensor([[[5.],\n",
       "         [5.],\n",
       "         [5.]],\n",
       "\n",
       "        [[5.],\n",
       "         [5.],\n",
       "         [5.]],\n",
       "\n",
       "        [[5.],\n",
       "         [5.],\n",
       "         [5.]],\n",
       "\n",
       "        [[5.],\n",
       "         [5.],\n",
       "         [5.]]])"
      ]
     },
     "execution_count": 99,
     "metadata": {},
     "output_type": "execute_result"
    }
   ],
   "source": [
    "x = torch.ones(4,3,1)\n",
    "x.fill_(5)\n",
    "x"
   ]
  },
  {
   "cell_type": "markdown",
   "metadata": {
    "id": "BViuQNEA3LCG"
   },
   "source": [
    "###  Reusing the properties of the input tensor, e.g. dtype, unless new values are provided by user\n"
   ]
  },
  {
   "cell_type": "code",
   "execution_count": 97,
   "metadata": {
    "colab": {
     "base_uri": "https://localhost:8080/",
     "height": 35
    },
    "id": "lulionR_vPwH",
    "outputId": "36f0ad9d-c746-4558-f027-85197042c5ac"
   },
   "outputs": [
    {
     "data": {
      "application/vnd.google.colaboratory.intrinsic+json": {
       "type": "string"
      },
      "text/plain": [
       "'torch.FloatTensor'"
      ]
     },
     "execution_count": 97,
     "metadata": {},
     "output_type": "execute_result"
    }
   ],
   "source": [
    "x.type()"
   ]
  },
  {
   "cell_type": "code",
   "execution_count": 15,
   "metadata": {
    "colab": {
     "base_uri": "https://localhost:8080/"
    },
    "id": "ioiXkC7m3LCH",
    "outputId": "e4c4b9f2-1d3a-499b-b6db-9f34c7cd4ae2"
   },
   "outputs": [],
   "source": [
    "def describe(x):\n",
    "    print(\"Type: {}\".format(x.type()))\n",
    "    print(\"Shape/size: {}\".format(x.shape))\n",
    "    print(\"Values: \\n{}\".format(x))\n",
    "    "
   ]
  },
  {
   "cell_type": "markdown",
   "metadata": {
    "id": "stPc6Q3K3LCH"
   },
   "source": [
    "### Changing the data type of a tensor in different ways:"
   ]
  },
  {
   "cell_type": "code",
   "execution_count": 108,
   "metadata": {
    "id": "DEjbjJ6D3LCH"
   },
   "outputs": [],
   "source": [
    "x = torch.ones(1,5)\n",
    "y = torch.randn_like(x) \n",
    "z = torch.randn_like(x, dtype=torch.double) \n",
    "t = y.long()"
   ]
  },
  {
   "cell_type": "code",
   "execution_count": 107,
   "metadata": {
    "colab": {
     "base_uri": "https://localhost:8080/"
    },
    "id": "EgHPM5D7v0nw",
    "outputId": "9c069178-0cbc-4abb-9430-8d75abe67d4d"
   },
   "outputs": [
    {
     "name": "stdout",
     "output_type": "stream",
     "text": [
      "Type: torch.DoubleTensor\n",
      "Shape/size: torch.Size([1, 5])\n",
      "Values: \n",
      "tensor([[ 1.9739,  1.0703, -1.7379,  0.1841, -0.1563]], dtype=torch.float64)\n"
     ]
    }
   ],
   "source": [
    "describe(z)"
   ]
  },
  {
   "cell_type": "code",
   "execution_count": 109,
   "metadata": {
    "colab": {
     "base_uri": "https://localhost:8080/"
    },
    "id": "dO03uq_M3LCH",
    "outputId": "044031fd-2f34-4ae3-d5d1-2663fbddfc11"
   },
   "outputs": [
    {
     "name": "stdout",
     "output_type": "stream",
     "text": [
      "Type: torch.FloatTensor\n",
      "Shape/size: torch.Size([1, 5])\n",
      "Values: \n",
      "tensor([[1., 1., 1., 1., 1.]])\n",
      "****************************************\n",
      "Type: torch.FloatTensor\n",
      "Shape/size: torch.Size([1, 5])\n",
      "Values: \n",
      "tensor([[-0.6681,  1.2135,  0.7924, -0.4401,  0.4996]])\n",
      "****************************************\n",
      "Type: torch.DoubleTensor\n",
      "Shape/size: torch.Size([1, 5])\n",
      "Values: \n",
      "tensor([[-0.7581,  0.9989, -0.8793,  0.7486, -1.3375]], dtype=torch.float64)\n",
      "****************************************\n",
      "Type: torch.LongTensor\n",
      "Shape/size: torch.Size([1, 5])\n",
      "Values: \n",
      "tensor([[0, 1, 0, 0, 0]])\n"
     ]
    }
   ],
   "source": [
    "describe(x)\n",
    "print('*'*40)\n",
    "describe(y)\n",
    "print('*'*40)\n",
    "describe(z)\n",
    "print('*'*40)\n",
    "describe(t)"
   ]
  },
  {
   "cell_type": "markdown",
   "metadata": {
    "id": "D6rqMCZ83LCH"
   },
   "source": [
    "# Getting started with Operations"
   ]
  },
  {
   "cell_type": "markdown",
   "metadata": {
    "id": "tIZX2Zbo3LCH"
   },
   "source": [
    "## Adding, subtracting,multiplying, deviding of two tensors (elementwise)"
   ]
  },
  {
   "cell_type": "code",
   "execution_count": 111,
   "metadata": {
    "colab": {
     "base_uri": "https://localhost:8080/"
    },
    "id": "V5FADkF83LCH",
    "outputId": "c5c873c5-69b4-46af-cbf2-3b808eea3c34"
   },
   "outputs": [
    {
     "name": "stdout",
     "output_type": "stream",
     "text": [
      "tensor([[ 2.3270,  0.1976,  3.9246],\n",
      "        [ 0.2015,  0.4331,  0.9733],\n",
      "        [-0.5460, -1.1799,  1.2074],\n",
      "        [-0.9844,  0.8183,  1.4280],\n",
      "        [ 1.2545,  1.0662, -0.2704]])\n",
      "tensor([[ 1.3270, -0.8024,  2.9246],\n",
      "        [-0.7985, -0.5669, -0.0267],\n",
      "        [-1.5460, -2.1799,  0.2074],\n",
      "        [-1.9844, -0.1817,  0.4280],\n",
      "        [ 0.2545,  0.0662, -1.2704]])\n",
      "tensor([[ 1.3270, -0.8024,  2.9246],\n",
      "        [-0.7985, -0.5669, -0.0267],\n",
      "        [-1.5460, -2.1799,  0.2074],\n",
      "        [-1.9844, -0.1817,  0.4280],\n",
      "        [ 0.2545,  0.0662, -1.2704]])\n"
     ]
    }
   ],
   "source": [
    "x = torch.randn(5,3)\n",
    "y = torch.ones(5,3)\n",
    "a = x + y\n",
    "print(a)\n",
    "b = x * y\n",
    "print(b)\n",
    "c = x/y\n",
    "print(c)"
   ]
  },
  {
   "cell_type": "markdown",
   "metadata": {
    "id": "A3D5EoUw3LCH"
   },
   "source": [
    "## item() to get the value form a 0-rank tenser as a Python number"
   ]
  },
  {
   "cell_type": "code",
   "execution_count": null,
   "metadata": {
    "id": "phrqARqQ3LCH",
    "outputId": "65e82229-a553-4200-fece-83cf68994ec5"
   },
   "outputs": [
    {
     "name": "stdout",
     "output_type": "stream",
     "text": [
      "tensor([0.0637])\n",
      "0.06369499862194061\n"
     ]
    }
   ],
   "source": [
    "x = torch.randn(1)\n",
    "print(x)\n",
    "print(x.item())"
   ]
  },
  {
   "cell_type": "markdown",
   "metadata": {
    "id": "AJ2AWXdl3LCH"
   },
   "source": [
    "### Reshaping a torch tensor using __view__ (buit-in function in torch), or using __reshape__ (built-in method in Numpy)"
   ]
  },
  {
   "cell_type": "code",
   "execution_count": 122,
   "metadata": {
    "colab": {
     "base_uri": "https://localhost:8080/"
    },
    "id": "KfRVHhjC3LCH",
    "outputId": "fe32abc9-220b-48b5-d15e-069fa347d174"
   },
   "outputs": [
    {
     "name": "stdout",
     "output_type": "stream",
     "text": [
      "Type: torch.LongTensor\n",
      "Shape/size: torch.Size([10])\n",
      "Values: \n",
      "tensor([0, 1, 2, 3, 4, 5, 6, 7, 8, 9])\n",
      "****************************************\n",
      "Type: torch.LongTensor\n",
      "Shape/size: torch.Size([5, 2])\n",
      "Values: \n",
      "tensor([[0, 1],\n",
      "        [2, 3],\n",
      "        [4, 5],\n",
      "        [6, 7],\n",
      "        [8, 9]])\n",
      "****************************************\n",
      "Type: torch.LongTensor\n",
      "Shape/size: torch.Size([5, 2, 1, 1])\n",
      "Values: \n",
      "tensor([[[[0]],\n",
      "\n",
      "         [[1]]],\n",
      "\n",
      "\n",
      "        [[[2]],\n",
      "\n",
      "         [[3]]],\n",
      "\n",
      "\n",
      "        [[[4]],\n",
      "\n",
      "         [[5]]],\n",
      "\n",
      "\n",
      "        [[[6]],\n",
      "\n",
      "         [[7]]],\n",
      "\n",
      "\n",
      "        [[[8]],\n",
      "\n",
      "         [[9]]]])\n"
     ]
    }
   ],
   "source": [
    "x = torch.arange(10)   ## similar to \"range\" in python\n",
    "y = x.view(5,2)\n",
    "z = x.reshape(5,2,1,1)\n",
    "describe(x)\n",
    "print('*'*40)\n",
    "describe(y)\n",
    "print('*'*40)\n",
    "describe(z)"
   ]
  },
  {
   "cell_type": "markdown",
   "metadata": {
    "id": "ena6MbRk3LCH"
   },
   "source": [
    "### Applying to a specific dimension of a tensor\n"
   ]
  },
  {
   "cell_type": "code",
   "execution_count": 124,
   "metadata": {
    "colab": {
     "base_uri": "https://localhost:8080/"
    },
    "id": "uQoB9CLa3LCI",
    "outputId": "4eab5838-982c-46b3-8eb8-d95405b47195"
   },
   "outputs": [
    {
     "name": "stdout",
     "output_type": "stream",
     "text": [
      "tensor(12)\n",
      "****************************************\n",
      "Type: torch.LongTensor\n",
      "Shape/size: torch.Size([2])\n",
      "Values: \n",
      "tensor([7, 5])\n",
      "****************************************\n",
      "Type: torch.LongTensor\n",
      "Shape/size: torch.Size([2])\n",
      "Values: \n",
      "tensor([5, 7])\n",
      "****************************************\n",
      "Type: torch.LongTensor\n",
      "Shape/size: torch.Size([])\n",
      "Values: \n",
      "12\n",
      "****************************************\n"
     ]
    }
   ],
   "source": [
    "x = torch.tensor([[3,2],[4,3]])\n",
    "print(torch.sum(x))\n",
    "print('*'*40)\n",
    "describe(torch.sum(x, dim=0))\n",
    "print('*'*40)\n",
    "describe(torch.sum(x, dim=1))\n",
    "print('*'*40)\n",
    "describe(torch.sum(x))\n",
    "print('*'*40)"
   ]
  },
  {
   "cell_type": "markdown",
   "metadata": {
    "id": "dRpV_mNl3LCI"
   },
   "source": [
    "## Converting a Torch Tensor to a NumPy array and vice versa\n",
    "https://pytorch.org/docs/stable/notes/cuda.html"
   ]
  },
  {
   "cell_type": "markdown",
   "metadata": {
    "id": "yApsdj3E3LCI"
   },
   "source": [
    "### From Tensor to Numpy"
   ]
  },
  {
   "cell_type": "code",
   "execution_count": 125,
   "metadata": {
    "id": "y91Ff4E83LCI"
   },
   "outputs": [],
   "source": [
    "a = torch.ones(5)\n",
    "x = a.numpy()"
   ]
  },
  {
   "cell_type": "code",
   "execution_count": 126,
   "metadata": {
    "colab": {
     "base_uri": "https://localhost:8080/"
    },
    "id": "J9LSPr2e3LCI",
    "outputId": "2b765fd9-e63a-45da-97a4-fdc77692708a"
   },
   "outputs": [
    {
     "name": "stdout",
     "output_type": "stream",
     "text": [
      "Type: torch.FloatTensor\n",
      "Shape/size: torch.Size([5])\n",
      "Values: \n",
      "tensor([1., 1., 1., 1., 1.])\n"
     ]
    }
   ],
   "source": [
    "describe(a)"
   ]
  },
  {
   "cell_type": "markdown",
   "metadata": {
    "id": "HMS-gsQ53LCI"
   },
   "source": [
    "### preserving the data type after converting to the numpy array"
   ]
  },
  {
   "cell_type": "code",
   "execution_count": null,
   "metadata": {
    "id": "T0mGxgWA3LCI",
    "outputId": "b0d97f03-c54e-4b2a-bf72-c69d73f687ce"
   },
   "outputs": [
    {
     "data": {
      "text/plain": [
       "array([1., 1., 1., 1., 1.], dtype=float32)"
      ]
     },
     "execution_count": 52,
     "metadata": {},
     "output_type": "execute_result"
    }
   ],
   "source": [
    "x"
   ]
  },
  {
   "cell_type": "markdown",
   "metadata": {
    "id": "gsV452RL3LCI"
   },
   "source": [
    "### From Numpy to Tensor\n",
    "* ### Construcitng a tensor from a numpy array with float data type makes tensor data type as torch.DoubleTensor (float64)\n",
    "* ### Construcitng a tensor from a numpy array with integr data type makes tensor data type as torch.LongTensor (int64)"
   ]
  },
  {
   "cell_type": "code",
   "execution_count": null,
   "metadata": {
    "id": "hs269zsk3LCI",
    "outputId": "d7f6fe30-1a25-4bf6-80dd-e8b17d229466"
   },
   "outputs": [
    {
     "name": "stdout",
     "output_type": "stream",
     "text": [
      "Type: torch.DoubleTensor\n",
      "Shape/size: torch.Size([5])\n",
      "Values: \n",
      "tensor([1., 1., 1., 1., 1.], dtype=torch.float64)\n"
     ]
    }
   ],
   "source": [
    "import numpy as np\n",
    "a = np.ones(5)\n",
    "b = torch.from_numpy(a)\n",
    "describe(b) "
   ]
  },
  {
   "cell_type": "markdown",
   "metadata": {
    "id": "ojA5zU3G3LCI"
   },
   "source": [
    "## Removing dimension with size 1 from a Tensor"
   ]
  },
  {
   "cell_type": "code",
   "execution_count": 138,
   "metadata": {
    "colab": {
     "base_uri": "https://localhost:8080/"
    },
    "id": "PMh-q_Ti3LCI",
    "outputId": "55b5cef0-14f3-4cb2-c29f-f1c88d8a3fc3"
   },
   "outputs": [
    {
     "name": "stdout",
     "output_type": "stream",
     "text": [
      "torch.Size([5, 1, 2])\n",
      "torch.Size([5, 1, 2])\n"
     ]
    }
   ],
   "source": [
    "a = torch.rand(5,1,2)\n",
    "print(a.size())\n",
    "b = torch.squeeze(a, dim=0)\n",
    "print(b.size())"
   ]
  },
  {
   "cell_type": "markdown",
   "metadata": {
    "id": "PvfjMnac3LCJ"
   },
   "source": [
    "## Expanding dimension a Tensor"
   ]
  },
  {
   "cell_type": "code",
   "execution_count": 140,
   "metadata": {
    "colab": {
     "base_uri": "https://localhost:8080/"
    },
    "id": "Q9E8gu5n3LCJ",
    "outputId": "ac62c26c-6427-4892-e60e-85d40e9e08e0"
   },
   "outputs": [
    {
     "name": "stdout",
     "output_type": "stream",
     "text": [
      "torch.Size([5, 2, 1])\n",
      "torch.Size([5, 2, 1, 1])\n"
     ]
    }
   ],
   "source": [
    "a = torch.rand(5,2,1)\n",
    "print(a.size())\n",
    "b = torch.unsqueeze(a, dim=2)\n",
    "print(b.size())"
   ]
  },
  {
   "cell_type": "markdown",
   "metadata": {
    "id": "odYCr-xq3LCJ"
   },
   "source": [
    "## Indexing, Slicing, and Joining (very familiar to Numpy)"
   ]
  },
  {
   "cell_type": "markdown",
   "metadata": {
    "id": "JmrLNL5y3LCJ"
   },
   "source": [
    "* ### Simple indexing"
   ]
  },
  {
   "cell_type": "code",
   "execution_count": 144,
   "metadata": {
    "colab": {
     "base_uri": "https://localhost:8080/"
    },
    "id": "nL4B5hAw3LCJ",
    "outputId": "f45a960a-bf71-4c7e-c8bb-6d4d1da667ab"
   },
   "outputs": [
    {
     "name": "stdout",
     "output_type": "stream",
     "text": [
      "Type: torch.LongTensor\n",
      "Shape/size: torch.Size([2, 3])\n",
      "Values: \n",
      "tensor([[0, 1, 2],\n",
      "        [3, 4, 5]])\n",
      "****************************************\n",
      "Type: torch.LongTensor\n",
      "Shape/size: torch.Size([])\n",
      "Values: \n",
      "0\n",
      "****************************************\n",
      "Type: torch.LongTensor\n",
      "Shape/size: torch.Size([])\n",
      "Values: \n",
      "4\n"
     ]
    }
   ],
   "source": [
    "x = torch.arange(6).view(2, 3)\n",
    "describe(x)\n",
    "print('*'*40)\n",
    "y = x[0, 0]\n",
    "describe(y)\n",
    "print('*'*40)\n",
    "z = x[1, 1]\n",
    "describe(z)"
   ]
  },
  {
   "cell_type": "markdown",
   "metadata": {
    "id": "OevoRWki3LCJ"
   },
   "source": [
    "* ### Joining torch tensors using __torch.cat__ and __torch.stack__ "
   ]
  },
  {
   "cell_type": "code",
   "execution_count": null,
   "metadata": {
    "id": "tGfjqNWy3LCJ",
    "outputId": "01bac80d-7837-4ac6-98bf-e2ec9e14e6bd"
   },
   "outputs": [
    {
     "name": "stdout",
     "output_type": "stream",
     "text": [
      "Type: torch.LongTensor\n",
      "Shape/size: torch.Size([2, 3])\n",
      "Values: \n",
      "tensor([[0, 1, 2],\n",
      "        [3, 4, 5]])\n",
      "****************************************\n",
      "Type: torch.LongTensor\n",
      "Shape/size: torch.Size([2, 6])\n",
      "Values: \n",
      "tensor([[0, 1, 2, 0, 1, 2],\n",
      "        [3, 4, 5, 3, 4, 5]])\n",
      "****************************************\n",
      "Type: torch.LongTensor\n",
      "Shape/size: torch.Size([4, 3])\n",
      "Values: \n",
      "tensor([[0, 1, 2],\n",
      "        [3, 4, 5],\n",
      "        [0, 1, 2],\n",
      "        [3, 4, 5]])\n",
      "****************************************\n",
      "Type: torch.LongTensor\n",
      "Shape/size: torch.Size([2, 2, 3])\n",
      "Values: \n",
      "tensor([[[0, 1, 2],\n",
      "         [3, 4, 5]],\n",
      "\n",
      "        [[0, 1, 2],\n",
      "         [3, 4, 5]]])\n"
     ]
    }
   ],
   "source": [
    "x = torch.arange(6).view(2,3)\n",
    "describe(x)\n",
    "print('*'*40)\n",
    "describe(torch.cat((x,x), dim=1))\n",
    "print('*'*40)\n",
    "describe(torch.cat((x,x), dim=0))\n",
    "print('*'*40)\n",
    "describe(torch.stack((x, x)))"
   ]
  },
  {
   "cell_type": "code",
   "execution_count": 150,
   "metadata": {
    "colab": {
     "base_uri": "https://localhost:8080/"
    },
    "id": "RUysgrU_060X",
    "outputId": "5d3a9e28-2f71-4a31-be71-ee0c19118530"
   },
   "outputs": [
    {
     "data": {
      "text/plain": [
       "tensor([1, 3])"
      ]
     },
     "execution_count": 150,
     "metadata": {},
     "output_type": "execute_result"
    }
   ],
   "source": [
    "torch.arange(1,5,2)"
   ]
  },
  {
   "cell_type": "code",
   "execution_count": 145,
   "metadata": {
    "colab": {
     "base_uri": "https://localhost:8080/"
    },
    "id": "SSwVwFRv0nKV",
    "outputId": "5cd7a991-0875-431b-9917-9c0ce7a9f3d7"
   },
   "outputs": [
    {
     "data": {
      "text/plain": [
       "tensor([[0, 1, 2],\n",
       "        [3, 4, 5]])"
      ]
     },
     "execution_count": 145,
     "metadata": {},
     "output_type": "execute_result"
    }
   ],
   "source": [
    "x"
   ]
  },
  {
   "cell_type": "markdown",
   "metadata": {
    "id": "GAZxP4f33LCJ"
   },
   "source": [
    "## CUDA Tensors and GPUs"
   ]
  },
  {
   "cell_type": "markdown",
   "metadata": {
    "id": "UIaYmm9g3LCJ"
   },
   "source": [
    "* ### Access to the GPUs is accomplished by an API called CUDA. \n",
    "* ### NVIDIA has created the CUDA API for only NVIDIA GPUs.\n",
    "* ### PyTorch offers CUDA tensor objects that are not different from the regular CPU-bound tensors except for end user.\n",
    "* ### Transfering Tensors to different devices, e.g., GPU, CPU using the __''.to''__ method.\n",
    "* ### To run on GPU, just cast tensors to a cuda data type!"
   ]
  },
  {
   "cell_type": "markdown",
   "metadata": {
    "id": "1nHJv65I3LCK"
   },
   "source": [
    "### First check if the CUDA interface exists on your system (__cuda.FloatTensor__ is a defualt data type for created toech tensors in GPU)"
   ]
  },
  {
   "cell_type": "code",
   "execution_count": 16,
   "metadata": {
    "id": "Z8wiRyKc3LCK"
   },
   "outputs": [],
   "source": [
    "import torch\n",
    "if torch.cuda.is_available():\n",
    "    device = torch.device(\"cuda\")          # a CUDA device object\n",
    "    dtype = torch.cuda.FloatTensor         # casting tensors to a cuda data type\n",
    "else:\n",
    "    device = torch.device(\"cpu\")"
   ]
  },
  {
   "cell_type": "code",
   "execution_count": 17,
   "metadata": {
    "colab": {
     "base_uri": "https://localhost:8080/"
    },
    "id": "NrzLH8cr1XBU",
    "outputId": "8d180902-1e1e-4990-c0d1-1d08bc9c8576"
   },
   "outputs": [
    {
     "data": {
      "text/plain": [
       "device(type='cuda')"
      ]
     },
     "execution_count": 17,
     "metadata": {},
     "output_type": "execute_result"
    }
   ],
   "source": [
    "device"
   ]
  },
  {
   "cell_type": "markdown",
   "metadata": {
    "id": "g_9npF6B3LCK"
   },
   "source": [
    "### Directly create a tensor on GPU, or use strings ``.to(\"cuda\")``"
   ]
  },
  {
   "cell_type": "code",
   "execution_count": 18,
   "metadata": {
    "id": "9qQahaqN3LCK"
   },
   "outputs": [],
   "source": [
    "b = torch.ones(3,4)\n",
    "y = torch.ones_like(b, device='cpu', dtype=torch.float)  \n",
    "x = torch.randn(y.size()).to('cuda') # or .to(y.device)"
   ]
  },
  {
   "cell_type": "markdown",
   "metadata": {},
   "source": [
    "### Operation between tensors should on the same device"
   ]
  },
  {
   "cell_type": "code",
   "execution_count": 19,
   "metadata": {
    "colab": {
     "base_uri": "https://localhost:8080/",
     "height": 187
    },
    "id": "wKQkUoQD3LCK",
    "outputId": "50d77c4f-156e-4aec-d334-e058ebc4666e"
   },
   "outputs": [
    {
     "ename": "RuntimeError",
     "evalue": "Expected all tensors to be on the same device, but found at least two devices, cuda:0 and cpu!",
     "output_type": "error",
     "traceback": [
      "\u001b[0;31m---------------------------------------------------------------------------\u001b[0m",
      "\u001b[0;31mRuntimeError\u001b[0m                              Traceback (most recent call last)",
      "Cell \u001b[0;32mIn[19], line 1\u001b[0m\n\u001b[0;32m----> 1\u001b[0m z \u001b[38;5;241m=\u001b[39m \u001b[43mx\u001b[49m\u001b[43m \u001b[49m\u001b[38;5;241;43m+\u001b[39;49m\u001b[43m \u001b[49m\u001b[43my\u001b[49m\n\u001b[1;32m      2\u001b[0m \u001b[38;5;28mprint\u001b[39m(z)\n",
      "\u001b[0;31mRuntimeError\u001b[0m: Expected all tensors to be on the same device, but found at least two devices, cuda:0 and cpu!"
     ]
    }
   ],
   "source": [
    "z = x + y\n",
    "print(z)"
   ]
  },
  {
   "cell_type": "markdown",
   "metadata": {
    "id": "-IXyON7D3LCK"
   },
   "source": [
    "## AUTOGRAD: AUTOMATIC DIFFERENTIATION\n",
    "https://pytorch.org/docs/stable/autograd.html"
   ]
  },
  {
   "cell_type": "markdown",
   "metadata": {
    "id": "G3IN8CDm3LCK"
   },
   "source": [
    "* ### Central to all neural networks in PyTorch is the autograd package.\n",
    "* ### Every Tensor has an attribute called __.requires_grad__ which can be True or False.\n",
    "* ### When it is True, starts to track all operations on it (bookkeeping).\n",
    "* ### When finishing the computation, one can call __.backward()__ and have all the gradients computed automatically\n",
    "* ### The gradient for the tensors will be accumulated into __.grad__ attribute"
   ]
  },
  {
   "cell_type": "markdown",
   "metadata": {
    "id": "SbjNGjC83LCK"
   },
   "source": [
    "### __To stop a tensor from tracking history:__"
   ]
  },
  {
   "cell_type": "markdown",
   "metadata": {
    "id": "yfUexJKS3LCK"
   },
   "source": [
    "* ## First approach:\n",
    "###    - calling .detach() to detach it from the computation history\n",
    "###    - It also prevents future computation from being tracked\n",
    "\n",
    "* ## Second  approach:\n",
    "###   - wrap the code block using __with torch.no_grad()__ \n",
    "###   - Deactivating computation of the gradient for trainable parameters with __requires_grad=False__"
   ]
  },
  {
   "cell_type": "markdown",
   "metadata": {
    "id": "am_wyFuo3LCK"
   },
   "source": [
    "## Each tensor has a .grad_fn attribute that references a Function that has created the Tensor \n",
    "(grad_fn is None for Tensors created by the user)"
   ]
  },
  {
   "cell_type": "code",
   "execution_count": 20,
   "metadata": {
    "colab": {
     "base_uri": "https://localhost:8080/"
    },
    "id": "o3wAs5Wg3LCK",
    "outputId": "b32eef33-e90a-4cb9-ae74-fa6fc0ae69f8"
   },
   "outputs": [
    {
     "data": {
      "text/plain": [
       "tensor([[1., 1.],\n",
       "        [1., 1.]], requires_grad=True)"
      ]
     },
     "execution_count": 20,
     "metadata": {},
     "output_type": "execute_result"
    }
   ],
   "source": [
    "x = torch.ones(2, 2, requires_grad=True)\n",
    "x"
   ]
  },
  {
   "cell_type": "markdown",
   "metadata": {
    "id": "ptkXp3K63LCK"
   },
   "source": [
    "### Operating a function on x makes the resulting tensor have __grad_fn__ attribute"
   ]
  },
  {
   "cell_type": "code",
   "execution_count": 21,
   "metadata": {
    "colab": {
     "base_uri": "https://localhost:8080/"
    },
    "id": "gi_oUZxT3LCK",
    "outputId": "0e4136d1-924f-409d-b335-a3a9fb5926e3"
   },
   "outputs": [
    {
     "data": {
      "text/plain": [
       "tensor([[3., 3.],\n",
       "        [3., 3.]], grad_fn=<AddBackward0>)"
      ]
     },
     "execution_count": 21,
     "metadata": {},
     "output_type": "execute_result"
    }
   ],
   "source": [
    "y = x + 2\n",
    "y"
   ]
  },
  {
   "cell_type": "markdown",
   "metadata": {
    "id": "9rKDdXX83LCK"
   },
   "source": [
    "### __requires_grad_(.)__ changes an existing Tensor’s requires_grad flag in-place. \n",
    "### The input flag defaults to False if not given"
   ]
  },
  {
   "cell_type": "code",
   "execution_count": 22,
   "metadata": {
    "colab": {
     "base_uri": "https://localhost:8080/"
    },
    "id": "ElekpnWU3LCK",
    "outputId": "bdbbd8dc-b092-4ca0-de3d-623ec4e2f757"
   },
   "outputs": [
    {
     "name": "stdout",
     "output_type": "stream",
     "text": [
      "tensor([[0., 1.],\n",
      "        [2., 3.]])\n",
      "False\n"
     ]
    }
   ],
   "source": [
    "x = torch.arange(4).float().view(2,2)\n",
    "print(x)\n",
    "print(x.requires_grad)"
   ]
  },
  {
   "cell_type": "code",
   "execution_count": 23,
   "metadata": {
    "colab": {
     "base_uri": "https://localhost:8080/"
    },
    "id": "cZcqowua3LCK",
    "outputId": "454c37b7-56d3-4cb5-f2a8-4a0c300cb559"
   },
   "outputs": [
    {
     "name": "stdout",
     "output_type": "stream",
     "text": [
      "True\n"
     ]
    }
   ],
   "source": [
    "x.requires_grad_(True)\n",
    "print(x.requires_grad)"
   ]
  },
  {
   "cell_type": "code",
   "execution_count": 24,
   "metadata": {
    "colab": {
     "base_uri": "https://localhost:8080/"
    },
    "id": "yFl6eEfy3LCK",
    "outputId": "2c0378b9-a29e-4fbb-c781-e4d2bdd36cc5"
   },
   "outputs": [
    {
     "name": "stdout",
     "output_type": "stream",
     "text": [
      "tensor(14., grad_fn=<SumBackward0>)\n",
      "<SumBackward0 object at 0x7f4ab12b5780>\n",
      "True\n"
     ]
    }
   ],
   "source": [
    "y = (x * x).sum()\n",
    "print(y)\n",
    "print(y.grad_fn)\n",
    "print(y.requires_grad)"
   ]
  },
  {
   "cell_type": "markdown",
   "metadata": {
    "id": "VlhA_x3M3LCK"
   },
   "source": [
    "### The backward pass is started by using the __backward()__ method \n",
    "###  __backward()__ method operates on a tensor resulting from the evaluation of a loss function. \n",
    "### The backward pass calculates a gradient value for a tensor object that involved in the forward pass."
   ]
  },
  {
   "cell_type": "code",
   "execution_count": 41,
   "metadata": {
    "colab": {
     "base_uri": "https://localhost:8080/"
    },
    "id": "sxHGpg3j3QHZ",
    "outputId": "b85b117a-8949-4b4e-991a-38fcf1d9052c"
   },
   "outputs": [
    {
     "data": {
      "text/plain": [
       "tensor([[0., 1.],\n",
       "        [2., 3.]], requires_grad=True)"
      ]
     },
     "execution_count": 41,
     "metadata": {},
     "output_type": "execute_result"
    }
   ],
   "source": [
    "x"
   ]
  },
  {
   "cell_type": "code",
   "execution_count": 42,
   "metadata": {
    "colab": {
     "base_uri": "https://localhost:8080/"
    },
    "id": "tTi8rM1B3RSn",
    "outputId": "7bf3d01c-fcce-4164-cbf1-5dc850e82edb"
   },
   "outputs": [
    {
     "data": {
      "text/plain": [
       "tensor([[0., 1.],\n",
       "        [4., 9.]], grad_fn=<MulBackward0>)"
      ]
     },
     "execution_count": 42,
     "metadata": {},
     "output_type": "execute_result"
    }
   ],
   "source": [
    "x*x"
   ]
  },
  {
   "cell_type": "markdown",
   "metadata": {},
   "source": [
    "## What is needed in calculating the gradient?\n",
    "1. Input & output\n",
    "2. The intermediate values\n",
    "3. The Input-output mapping (e.g., computational graph)"
   ]
  },
  {
   "cell_type": "code",
   "execution_count": 49,
   "metadata": {
    "colab": {
     "base_uri": "https://localhost:8080/"
    },
    "id": "djpwZRtF3LCL",
    "outputId": "1887516e-8242-4e0e-c993-acb14fe06807"
   },
   "outputs": [
    {
     "name": "stdout",
     "output_type": "stream",
     "text": [
      "tensor(14., grad_fn=<SumBackward0>)\n",
      "tensor([[0., 2.],\n",
      "        [4., 6.]])\n"
     ]
    }
   ],
   "source": [
    "if x.grad is not None:\n",
    "    x.grad.zero_() # comment this line will accumulate gradients\n",
    "\n",
    "out = (x * x).sum()\n",
    "out2 = out + 3\n",
    "out2.backward()\n",
    "print(out)\n",
    "print(x.grad)"
   ]
  },
  {
   "cell_type": "markdown",
   "metadata": {},
   "source": [
    "## Backward(): back propagate the gradient, and (defalut) clean the intermediate variables and computational graph. Unless the retain_graph option is stored as true"
   ]
  },
  {
   "cell_type": "code",
   "execution_count": 50,
   "metadata": {},
   "outputs": [
    {
     "ename": "RuntimeError",
     "evalue": "Trying to backward through the graph a second time (or directly access saved tensors after they have already been freed). Saved intermediate values of the graph are freed when you call .backward() or autograd.grad(). Specify retain_graph=True if you need to backward through the graph a second time or if you need to access saved tensors after calling backward.",
     "output_type": "error",
     "traceback": [
      "\u001b[0;31m---------------------------------------------------------------------------\u001b[0m",
      "\u001b[0;31mRuntimeError\u001b[0m                              Traceback (most recent call last)",
      "Cell \u001b[0;32mIn[50], line 1\u001b[0m\n\u001b[0;32m----> 1\u001b[0m x_grad \u001b[38;5;241m=\u001b[39m \u001b[43mtorch\u001b[49m\u001b[38;5;241;43m.\u001b[39;49m\u001b[43mautograd\u001b[49m\u001b[38;5;241;43m.\u001b[39;49m\u001b[43mgrad\u001b[49m\u001b[43m(\u001b[49m\u001b[43mout\u001b[49m\u001b[43m,\u001b[49m\u001b[43mx\u001b[49m\u001b[43m)\u001b[49m\n\u001b[1;32m      2\u001b[0m \u001b[38;5;28mprint\u001b[39m(x_grad)\n",
      "File \u001b[0;32m~/.local/lib/python3.10/site-packages/torch/autograd/__init__.py:303\u001b[0m, in \u001b[0;36mgrad\u001b[0;34m(outputs, inputs, grad_outputs, retain_graph, create_graph, only_inputs, allow_unused, is_grads_batched)\u001b[0m\n\u001b[1;32m    301\u001b[0m     \u001b[38;5;28;01mreturn\u001b[39;00m _vmap_internals\u001b[38;5;241m.\u001b[39m_vmap(vjp, \u001b[38;5;241m0\u001b[39m, \u001b[38;5;241m0\u001b[39m, allow_none_pass_through\u001b[38;5;241m=\u001b[39m\u001b[38;5;28;01mTrue\u001b[39;00m)(grad_outputs_)\n\u001b[1;32m    302\u001b[0m \u001b[38;5;28;01melse\u001b[39;00m:\n\u001b[0;32m--> 303\u001b[0m     \u001b[38;5;28;01mreturn\u001b[39;00m \u001b[43mVariable\u001b[49m\u001b[38;5;241;43m.\u001b[39;49m\u001b[43m_execution_engine\u001b[49m\u001b[38;5;241;43m.\u001b[39;49m\u001b[43mrun_backward\u001b[49m\u001b[43m(\u001b[49m\u001b[43m  \u001b[49m\u001b[38;5;66;43;03m# Calls into the C++ engine to run the backward pass\u001b[39;49;00m\n\u001b[1;32m    304\u001b[0m \u001b[43m        \u001b[49m\u001b[43mt_outputs\u001b[49m\u001b[43m,\u001b[49m\u001b[43m \u001b[49m\u001b[43mgrad_outputs_\u001b[49m\u001b[43m,\u001b[49m\u001b[43m \u001b[49m\u001b[43mretain_graph\u001b[49m\u001b[43m,\u001b[49m\u001b[43m \u001b[49m\u001b[43mcreate_graph\u001b[49m\u001b[43m,\u001b[49m\u001b[43m \u001b[49m\u001b[43mt_inputs\u001b[49m\u001b[43m,\u001b[49m\n\u001b[1;32m    305\u001b[0m \u001b[43m        \u001b[49m\u001b[43mallow_unused\u001b[49m\u001b[43m,\u001b[49m\u001b[43m \u001b[49m\u001b[43maccumulate_grad\u001b[49m\u001b[38;5;241;43m=\u001b[39;49m\u001b[38;5;28;43;01mFalse\u001b[39;49;00m\u001b[43m)\u001b[49m\n",
      "\u001b[0;31mRuntimeError\u001b[0m: Trying to backward through the graph a second time (or directly access saved tensors after they have already been freed). Saved intermediate values of the graph are freed when you call .backward() or autograd.grad(). Specify retain_graph=True if you need to backward through the graph a second time or if you need to access saved tensors after calling backward."
     ]
    }
   ],
   "source": [
    "x_grad = torch.autograd.grad(out,x)\n",
    "print(x_grad)"
   ]
  },
  {
   "cell_type": "code",
   "execution_count": 52,
   "metadata": {},
   "outputs": [
    {
     "name": "stdout",
     "output_type": "stream",
     "text": [
      "(tensor([[0., 2.],\n",
      "        [4., 6.]]),)\n"
     ]
    }
   ],
   "source": [
    "out = (x * x).sum()\n",
    "out2 = out + 3\n",
    "x_grad = torch.autograd.grad(out,x)\n",
    "print(x_grad)"
   ]
  },
  {
   "cell_type": "markdown",
   "metadata": {
    "id": "W9qvX0eL3LCL"
   },
   "source": [
    "### To explicitly compute gradients"
   ]
  },
  {
   "cell_type": "code",
   "execution_count": 43,
   "metadata": {
    "colab": {
     "base_uri": "https://localhost:8080/"
    },
    "id": "N3pxUvos3LCL",
    "outputId": "d9a8a75b-f921-48f3-a5fa-26d1f08fb794"
   },
   "outputs": [
    {
     "name": "stdout",
     "output_type": "stream",
     "text": [
      "tensor([[ 2.,  7.],\n",
      "        [12., 17.]], grad_fn=<AddBackward0>)\n",
      "(tensor([[ 20.,  70.],\n",
      "        [120., 170.]]),)\n"
     ]
    }
   ],
   "source": [
    "z = 5*x + 2\n",
    "print(z)\n",
    "out = (z* z).sum()\n",
    "x_grad = torch.autograd.grad(out,x)\n",
    "print(x_grad)"
   ]
  },
  {
   "cell_type": "markdown",
   "metadata": {},
   "source": [
    "# Why do we need gradient?"
   ]
  },
  {
   "cell_type": "code",
   "execution_count": null,
   "metadata": {},
   "outputs": [],
   "source": []
  },
  {
   "cell_type": "markdown",
   "metadata": {
    "id": "QYyGbbqeg8PJ"
   },
   "source": [
    "# Why we need gradient? -- A Simple ML Model Example\n"
   ]
  },
  {
   "cell_type": "code",
   "execution_count": 60,
   "metadata": {
    "id": "ZmJ2OuqLg-D7"
   },
   "outputs": [],
   "source": [
    "# define a \n",
    "x1 = torch.randn(1000)\n",
    "x2 = torch.randn(1000) * 2 + 15\n",
    "y = x1**2 + x2\n",
    "\n",
    "data = torch.stack((x1,x2),dim=1)\n",
    "target = y\n",
    "train_data = torch.cat((data,target.unsqueeze(1)),dim=1)"
   ]
  },
  {
   "cell_type": "code",
   "execution_count": 61,
   "metadata": {
    "colab": {
     "base_uri": "https://localhost:8080/"
    },
    "id": "fT34mzcLjquG",
    "outputId": "f850a3f3-f239-40ea-f283-870da1b414cb"
   },
   "outputs": [
    {
     "data": {
      "text/plain": [
       "torch.Size([1000, 3])"
      ]
     },
     "execution_count": 61,
     "metadata": {},
     "output_type": "execute_result"
    }
   ],
   "source": [
    "train_data.shape"
   ]
  },
  {
   "cell_type": "code",
   "execution_count": 62,
   "metadata": {
    "id": "DBk1DFuOhUWP"
   },
   "outputs": [],
   "source": [
    "class net(nn.Module):\n",
    "  def __init__(self, input_dim, output_dim, hidden_dim=3):\n",
    "    '''\n",
    "    input_dim, output_dim:self-evident; \n",
    "    hidden_dim: all neural networks in this model are using the same hidden layer dimension for simplicity \n",
    "    '''\n",
    "    super().__init__()\n",
    "    \n",
    "    neuralnet = [nn.Linear(input_dim,hidden_dim),nn.ELU(),nn.Linear(hidden_dim, output_dim)]\n",
    "    self.neuralnet = nn.Sequential(*neuralnet)\n",
    "\n",
    "    \n",
    "  def forward(self,X):\n",
    "\n",
    "    y = self.neuralnet(X)\n",
    "\n",
    "    return y"
   ]
  },
  {
   "cell_type": "code",
   "execution_count": 63,
   "metadata": {
    "id": "zYR1Lri8iSP0"
   },
   "outputs": [],
   "source": [
    "from torch.nn import MSELoss as MSE\n",
    "mse = MSE()"
   ]
  },
  {
   "cell_type": "code",
   "execution_count": 67,
   "metadata": {
    "colab": {
     "base_uri": "https://localhost:8080/"
    },
    "id": "_prEZTaYiVXy",
    "outputId": "a785e2d8-792f-4f2d-c608-782c9fbc1bd1"
   },
   "outputs": [],
   "source": [
    "import tqdm\n",
    "from torch.utils.data import Dataset, DataLoader\n",
    "\n",
    "# CUDA for PyTorch\n",
    "use_cuda = torch.cuda.is_available()\n",
    "device = torch.device(\"cuda:0\" if use_cuda else \"cpu\")\n",
    "#define a dataloader\n",
    "loader = DataLoader(train_data,batch_size=100, shuffle=True)\n",
    "\n",
    "torch.manual_seed(42)\n",
    "model = net(input_dim=2, output_dim=1)\n",
    "EPOCHS = 50\n",
    "optimizer = torch.optim.Adam(model.parameters(), lr=1e-3)\n",
    "MSE = []\n"
   ]
  },
  {
   "cell_type": "code",
   "execution_count": 68,
   "metadata": {},
   "outputs": [
    {
     "name": "stderr",
     "output_type": "stream",
     "text": [
      "\n",
      "  0%|                                                    | 0/50 [00:09<?, ?it/s]\u001b[A\n",
      "/home/ziyun/.local/lib/python3.10/site-packages/torch/nn/modules/loss.py:536: UserWarning: Using a target size (torch.Size([100])) that is different to the input size (torch.Size([100, 1])). This will likely lead to incorrect results due to broadcasting. Please ensure they have the same size.\n",
      "  return F.mse_loss(input, target, reduction=self.reduction)\n",
      "\n",
      " 24%|██████████                                | 12/50 [00:00<00:00, 113.87it/s]\u001b[A\n",
      " 48%|████████████████████▏                     | 24/50 [00:00<00:00, 114.62it/s]\u001b[A\n",
      " 72%|██████████████████████████████▏           | 36/50 [00:00<00:00, 114.09it/s]\u001b[A\n",
      "100%|██████████████████████████████████████████| 50/50 [00:00<00:00, 112.37it/s]\u001b[A\n"
     ]
    }
   ],
   "source": [
    "tqdm_epoch = tqdm.trange(EPOCHS)\n",
    "for _ in tqdm_epoch:\n",
    "  for tr in loader:  \n",
    "    X = tr[:,0:2] # data\n",
    "    y = tr[:,2] # target\n",
    "    optimizer.zero_grad()  \n",
    "    y_est = model(X)\n",
    "    loss =  mse(y_est,y)\n",
    "    loss.backward()\n",
    "    optimizer.step()\n",
    "  MSE.append(loss.detach().numpy())"
   ]
  },
  {
   "cell_type": "code",
   "execution_count": 65,
   "metadata": {
    "colab": {
     "base_uri": "https://localhost:8080/",
     "height": 283
    },
    "id": "QidCQoI4icoA",
    "outputId": "e77de688-55d4-40f1-b291-2b664a4e5b8a"
   },
   "outputs": [
    {
     "data": {
      "text/plain": [
       "[<matplotlib.lines.Line2D at 0x7f4b8c1ee9b0>]"
      ]
     },
     "execution_count": 65,
     "metadata": {},
     "output_type": "execute_result"
    },
    {
     "data": {
      "image/png": "[encoded data removed]",
      "text/plain": [
       "<Figure size 640x480 with 1 Axes>"
      ]
     },
     "metadata": {},
     "output_type": "display_data"
    }
   ],
   "source": [
    "import matplotlib.pyplot as plt\n",
    "plt.plot(MSE)"
   ]
  },
  {
   "cell_type": "code",
   "execution_count": null,
   "metadata": {
    "id": "-_N0D3jpkN6M"
   },
   "outputs": [],
   "source": []
  },
  {
   "cell_type": "code",
   "execution_count": null,
   "metadata": {},
   "outputs": [],
   "source": []
  }
 ],
 "metadata": {
  "accelerator": "GPU",
  "colab": {
   "provenance": []
  },
  "gpuClass": "standard",
  "kernelspec": {
   "display_name": "Python 3 (ipykernel)",
   "language": "python",
   "name": "python3"
  },
  "language_info": {
   "codemirror_mode": {
    "name": "ipython",
    "version": 3
   },
   "file_extension": ".py",
   "mimetype": "text/x-python",
   "name": "python",
   "nbconvert_exporter": "python",
   "pygments_lexer": "ipython3",
   "version": "3.9.7"
  }
 },
 "nbformat": 4,
 "nbformat_minor": 4
}
