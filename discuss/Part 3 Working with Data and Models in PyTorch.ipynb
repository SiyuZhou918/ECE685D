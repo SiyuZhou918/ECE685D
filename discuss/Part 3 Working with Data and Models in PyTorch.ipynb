{
 "cells": [
  {
   "cell_type": "markdown",
   "metadata": {},
   "source": [
    "# The material presented in this notebook is for using in Introduction to Deep Learning ECE.685D course, Duke University, Fall 2023."
   ]
  },
  {
   "cell_type": "markdown",
   "metadata": {},
   "source": [
    "# Working with Data and Models in Pytorch"
   ]
  },
  {
   "cell_type": "markdown",
   "metadata": {},
   "source": [
    "* ## Continue: a general learning procedure.\n",
    "* ## Loading data:\n",
    "    * ### Public common datasets: \n",
    "    access the data by the Pytorch build-in package torchvision, torchaudio and torchtext, and then load it by torch.utils.data.DataLoader;\n",
    "    * ### Private datasets:\n",
    "    access and load the data by adding new custom datasets. The dataset should inherit from the standard torch.utils.data.Dataset class, including \"__getitem__\" and \"__len__\".\n",
    "* ## Saving and loading models:\n",
    "    * ### save and load the entire model including the model architecture.\n",
    "    * ### save and load trained parameters of the model."
   ]
  },
  {
   "cell_type": "markdown",
   "metadata": {},
   "source": [
    "## I. Training and Testing for supervised learning"
   ]
  },
  {
   "cell_type": "markdown",
   "metadata": {},
   "source": [
    "### Training,\n",
    "Train a model to fit given data, $\\{(x_i, y_i)\\}_{i=1}^n\\to \\text{Algorithm} \\to f$. \n",
    "\n",
    "#### The training process takes time in a form of iteratively training with the data.   \n",
    "**One batch**: one minibatch (usually shuffled) of data  \n",
    "**One iteration**: train the model with one batch of data  \n",
    "**One epoch**: train the model iteratively till traversed the entire dataset\n",
    "\n",
    "\n",
    "    for epoch in range(total_epoch): # one epoch\n",
    "\n",
    "        for i_batch, batch in enumerate(trainloader):  # one iteration\n",
    "            ...\n",
    "        \n",
    "### Testing,\n",
    "Evaluate how well the model match some new income data, $\\mathcal{L}(f(x), y)$.\n",
    "\n",
    "    for epoch in range(total_epoch):\n",
    "\n",
    "        for i_batch, batch in enumerate(trainloader):   \n",
    "            ...\n",
    "        for i_batch, batch in enumerate(testloader):\n",
    "            ...\n",
    "\n",
    "After learning, we hope\n",
    "1. The algorithm is able to train $f$ well, saying small training errors.\n",
    "2. The trained model $f$ is able to match the pattern of new data well, saying small testing errors.\n",
    "\n",
    "With small training error, hopefully the testing error will be small.\n",
    "\n",
    "### Dataloader\n",
    "Original data -> random shuffle -> queue of minibatches for iterative training. \n",
    "### How to get such a Dataloader?"
   ]
  },
  {
   "cell_type": "markdown",
   "metadata": {},
   "source": [
    "## II. Loading Data\n",
    "### 1. Custom the Dataloader\n",
    "(1) Define the class of data inheriting from the standard torch.utils.data.Dataset class.\n",
    "\n",
    "    a. define __init__ to store the path of the downloaded/local dataset.\n",
    "    \n",
    "    b. define __getitem__, return index of items in the dataset.\n",
    "    \n",
    "    c. define __len__, return the size of the dataset.\n",
    "(2) Pass it to torch.utils.data.DataLoader and get the dataloader of your private dataset.\n"
   ]
  },
  {
   "cell_type": "code",
   "execution_count": 1,
   "metadata": {},
   "outputs": [],
   "source": [
    "# class dataset(torch.utils.data.Dataset):\n",
    "#     def __init__(self, root, transform=None):\n",
    "        \n",
    "#         self.image_list = ...# usually the path\n",
    "#         self.label_list = ...\n",
    "\n",
    "#     def __getitem__(self, index):      \n",
    "#         image = imread(self.image_list[index]) # load data from the path you defined\n",
    "#         label = imread(self.label_list[index])\n",
    "\n",
    "#         Your data pre-processing here...\n",
    "\n",
    "#         return image, label\n",
    "\n",
    "#     def __len__(self):        \n",
    "#         return len(self.image_list) # use size of your dataset to generate index"
   ]
  },
  {
   "cell_type": "markdown",
   "metadata": {},
   "source": [
    "\n",
    "### 2. Pytorch build-in packages, such as torchvision, torchtext, torchaudio"
   ]
  },
  {
   "cell_type": "markdown",
   "metadata": {},
   "source": [
    "### An Example of datasets in torchvision, MNIST"
   ]
  },
  {
   "cell_type": "code",
   "execution_count": 1,
   "metadata": {},
   "outputs": [],
   "source": [
    "import torch\n",
    "import torch.nn as nn\n",
    "import torch.optim\n",
    "import torchvision\n",
    "import torchvision.transforms as transforms\n",
    "import matplotlib.pyplot as plt\n",
    "import numpy as np\n",
    "import pandas as pd"
   ]
  },
  {
   "cell_type": "markdown",
   "metadata": {},
   "source": [
    "All datasets are subclasses of torch.utils.data.Dataset, with name of the format torchvision.datasets.\"__Name of Dataset__\"\n",
    "* They have __getitem__ and __len__ methods implemented. \n",
    "* They can all be passed to a torch.utils.data.DataLoader\n",
    "https://pytorch.org/docs/stable/torchvision/datasets.html\n",
    "\n",
    "\"__Name of Dataset__\" includes many datasets such as MNIST, Fashion-MNIST, ImageNet, CIFAR10, SVHN, COCO, LSUN, and so on."
   ]
  },
  {
   "cell_type": "code",
   "execution_count": 2,
   "metadata": {
    "scrolled": true
   },
   "outputs": [
    {
     "name": "stdout",
     "output_type": "stream",
     "text": [
      "Downloading http://yann.lecun.com/exdb/mnist/train-images-idx3-ubyte.gz\n",
      "Downloading http://yann.lecun.com/exdb/mnist/train-images-idx3-ubyte.gz to ./data/MNIST/raw/train-images-idx3-ubyte.gz\n"
     ]
    },
    {
     "name": "stderr",
     "output_type": "stream",
     "text": [
      "100%|███████████████████████████| 9912422/9912422 [00:00<00:00, 14666462.74it/s]\n"
     ]
    },
    {
     "name": "stdout",
     "output_type": "stream",
     "text": [
      "Extracting ./data/MNIST/raw/train-images-idx3-ubyte.gz to ./data/MNIST/raw\n",
      "\n",
      "Downloading http://yann.lecun.com/exdb/mnist/train-labels-idx1-ubyte.gz\n",
      "Downloading http://yann.lecun.com/exdb/mnist/train-labels-idx1-ubyte.gz to ./data/MNIST/raw/train-labels-idx1-ubyte.gz\n"
     ]
    },
    {
     "name": "stderr",
     "output_type": "stream",
     "text": [
      "100%|███████████████████████████████| 28881/28881 [00:00<00:00, 78303615.92it/s]"
     ]
    },
    {
     "name": "stdout",
     "output_type": "stream",
     "text": [
      "Extracting ./data/MNIST/raw/train-labels-idx1-ubyte.gz to ./data/MNIST/raw\n",
      "\n",
      "Downloading http://yann.lecun.com/exdb/mnist/t10k-images-idx3-ubyte.gz\n"
     ]
    },
    {
     "name": "stderr",
     "output_type": "stream",
     "text": [
      "\n"
     ]
    },
    {
     "name": "stdout",
     "output_type": "stream",
     "text": [
      "Downloading http://yann.lecun.com/exdb/mnist/t10k-images-idx3-ubyte.gz to ./data/MNIST/raw/t10k-images-idx3-ubyte.gz\n"
     ]
    },
    {
     "name": "stderr",
     "output_type": "stream",
     "text": [
      "100%|███████████████████████████| 1648877/1648877 [00:00<00:00, 11919162.47it/s]\n"
     ]
    },
    {
     "name": "stdout",
     "output_type": "stream",
     "text": [
      "Extracting ./data/MNIST/raw/t10k-images-idx3-ubyte.gz to ./data/MNIST/raw\n",
      "\n",
      "Downloading http://yann.lecun.com/exdb/mnist/t10k-labels-idx1-ubyte.gz\n",
      "Downloading http://yann.lecun.com/exdb/mnist/t10k-labels-idx1-ubyte.gz to ./data/MNIST/raw/t10k-labels-idx1-ubyte.gz\n"
     ]
    },
    {
     "name": "stderr",
     "output_type": "stream",
     "text": [
      "100%|█████████████████████████████████| 4542/4542 [00:00<00:00, 10986464.11it/s]\n"
     ]
    },
    {
     "name": "stdout",
     "output_type": "stream",
     "text": [
      "Extracting ./data/MNIST/raw/t10k-labels-idx1-ubyte.gz to ./data/MNIST/raw\n",
      "\n"
     ]
    }
   ],
   "source": [
    "trainset = torchvision.datasets.MNIST(root='./data', train=True, download=True, transform = transforms.ToTensor())\n",
    "testset = torchvision.datasets.MNIST(root='./data', train=False, download=True, transform = transforms.ToTensor())\n",
    "\n",
    "trainloader = torch.utils.data.DataLoader(trainset, batch_size=64, shuffle=True)\n",
    "testloader = torch.utils.data.DataLoader(testset, batch_size=64, shuffle=False)"
   ]
  },
  {
   "cell_type": "code",
   "execution_count": 3,
   "metadata": {},
   "outputs": [
    {
     "name": "stdout",
     "output_type": "stream",
     "text": [
      "length of trainset: 60000\n"
     ]
    },
    {
     "data": {
      "image/png": "[encoded data removed]",
      "text/plain": [
       "<Figure size 640x480 with 1 Axes>"
      ]
     },
     "metadata": {},
     "output_type": "display_data"
    },
    {
     "name": "stdout",
     "output_type": "stream",
     "text": [
      "label: 3\n"
     ]
    }
   ],
   "source": [
    "# check len of and data at index 10 of trainset\n",
    "print(f'length of trainset: {len(trainset)}')\n",
    "data, label = trainset[10]\n",
    "fig = plt.figure()\n",
    "plt.imshow(data[0], cmap='gray')\n",
    "plt.show()\n",
    "print(f'label: {label}')"
   ]
  },
  {
   "cell_type": "code",
   "execution_count": 5,
   "metadata": {},
   "outputs": [
    {
     "data": {
      "image/png": "[encoded data removed]",
      "text/plain": [
       "<Figure size 640x480 with 4 Axes>"
      ]
     },
     "metadata": {},
     "output_type": "display_data"
    },
    {
     "name": "stdout",
     "output_type": "stream",
     "text": [
      "tensor([0, 0, 9, 7])\n",
      "number of items in batch: torch.Size([64])\n"
     ]
    }
   ],
   "source": [
    "#iterate over one batch of training set\n",
    "dataiter = iter(trainloader)\n",
    "images, labels = next(dataiter)\n",
    "im = images[0:4]\n",
    "fig , ax = plt.subplots(1,4)\n",
    "for i in range(4):\n",
    "    ax[i].imshow(im[i][0], cmap='gray')\n",
    "plt.show()\n",
    "print(labels[0:4])\n",
    "\n",
    "print(f'number of items in batch: {labels.shape}')"
   ]
  },
  {
   "cell_type": "markdown",
   "metadata": {},
   "source": [
    "Note that Transforms are common image transformations for data augmentation. \n",
    "\n",
    "* __transforms.CenterCrop__ :  Crops the given image at the center according to the given size. \n",
    "* __transforms.ColorJitter__ :  Randomly change the brightness, contrast and saturation of an image.\n",
    "* __transforms.Grayscale__ : Convert image to grayscale.\n",
    "* __transforms.Resize__ : Resize the input image to the given size.\n",
    "* __transforms.Normalize(mean, std, inplace=False)__ : Normalize tensor images with mean and standard deviation. It cannot take PIL image, so you need to transform the images into tensors first\n",
    "\n",
    "\n",
    "They can be chained together by transforms.Compose():"
   ]
  },
  {
   "cell_type": "code",
   "execution_count": 6,
   "metadata": {},
   "outputs": [
    {
     "data": {
      "text/plain": [
       "Compose(\n",
       "    CenterCrop(size=(10, 10))\n",
       "    ToTensor()\n",
       ")"
      ]
     },
     "execution_count": 6,
     "metadata": {},
     "output_type": "execute_result"
    }
   ],
   "source": [
    "\n",
    "transforms.Compose([\n",
    "    transforms.CenterCrop(10),\n",
    "    transforms.ToTensor()\n",
    "])"
   ]
  },
  {
   "cell_type": "code",
   "execution_count": 7,
   "metadata": {},
   "outputs": [],
   "source": [
    "trainset = torchvision.datasets.MNIST(root='./data', train=True, download=True, \n",
    "transform = transforms.Compose([\n",
    "    transforms.CenterCrop(10),\n",
    "    transforms.ToTensor()\n",
    "]))"
   ]
  },
  {
   "cell_type": "code",
   "execution_count": 8,
   "metadata": {},
   "outputs": [
    {
     "data": {
      "image/png": "[encoded data removed]",
      "text/plain": [
       "<Figure size 640x480 with 3 Axes>"
      ]
     },
     "metadata": {},
     "output_type": "display_data"
    }
   ],
   "source": [
    "# Visualize transforms and Composed transform\n",
    "trainingset = torchvision.datasets.MNIST(root='./data', train=True, download=True)\n",
    "img = trainingset[0][0]\n",
    "\n",
    "CCrop = transforms.CenterCrop(10)\n",
    "RandomRotation = transforms.RandomRotation(degrees=30)\n",
    "Compose = transforms.Compose([CCrop,\n",
    "                             RandomRotation])\n",
    "fig , ax = plt.subplots(1,3)\n",
    "for i, transform in enumerate([CCrop, RandomRotation, Compose]):\n",
    "    ax[i].imshow(transform(img), cmap='gray')\n",
    "plt.show()"
   ]
  },
  {
   "cell_type": "markdown",
   "metadata": {},
   "source": [
    "### Defining and Loading Custom Dataset"
   ]
  },
  {
   "cell_type": "code",
   "execution_count": 9,
   "metadata": {},
   "outputs": [],
   "source": [
    "X = np.random.rand(100,10)\n",
    "Y = np.random.rand(100)\n",
    "\n",
    "class CustomDataset(torch.utils.data.Dataset):\n",
    "\n",
    "    def __init__(self, X, Y, transform = None):\n",
    "        self.X = X\n",
    "        self.Y = Y\n",
    "        self.transform = transform\n",
    "\n",
    "    def __len__(self):\n",
    "        return len(self.Y)\n",
    "\n",
    "    def __getitem__(self, idx):\n",
    "        data = torch.tensor(X[idx,:])\n",
    "        label = Y[idx]\n",
    "        return data, label"
   ]
  },
  {
   "cell_type": "code",
   "execution_count": 10,
   "metadata": {},
   "outputs": [],
   "source": [
    "custom_dataset = CustomDataset(X,Y)\n",
    "custom_dataloader = torch.utils.data.DataLoader(custom_dataset, batch_size=20, shuffle=True)"
   ]
  },
  {
   "cell_type": "markdown",
   "metadata": {},
   "source": [
    "## III. Saving and Loading a Model"
   ]
  },
  {
   "cell_type": "markdown",
   "metadata": {},
   "source": [
    "What we want to save and load?\n",
    "1. The model parameters, including weights and biases.\n",
    "2. The model architecture.\n",
    "\n",
    "Three functions to be familiar with:\n",
    "* torch.save(arg, PATH)\n",
    "* torch.load(PATH)\n",
    "* model.load_state_dict(arg)"
   ]
  },
  {
   "cell_type": "markdown",
   "metadata": {},
   "source": [
    "What is state_dict?\n",
    "model.state_dict() is simply a Python dictionary object that maps each layer to its parameter tensor."
   ]
  },
  {
   "cell_type": "markdown",
   "metadata": {},
   "source": [
    "### An example of a linear regression model"
   ]
  },
  {
   "cell_type": "code",
   "execution_count": 11,
   "metadata": {},
   "outputs": [
    {
     "name": "stdout",
     "output_type": "stream",
     "text": [
      "Model's state_dict:\n",
      "linear.weight \t torch.Size([1, 10])\n",
      "tensor([[ 0.2033,  0.1998, -0.2908, -0.1588, -0.1895, -0.1075,  0.1582,  0.1943,\n",
      "          0.1961,  0.2011]]) \t\n",
      "linear.bias \t torch.Size([1])\n",
      "tensor([0.2929]) \t\n",
      "linear.weight \t Parameter containing:\n",
      "tensor([[ 0.2033,  0.1998, -0.2908, -0.1588, -0.1895, -0.1075,  0.1582,  0.1943,\n",
      "          0.1961,  0.2011]], requires_grad=True)\n",
      "linear.bias \t Parameter containing:\n",
      "tensor([0.2929], requires_grad=True)\n"
     ]
    }
   ],
   "source": [
    "# Define model2\n",
    "class Linear_Reg(nn.Module):\n",
    "    def __init__(self):\n",
    "        super(Linear_Reg, self).__init__()\n",
    "        self.linear = nn.Linear(10, 1)\n",
    "\n",
    "    def forward(self, x):\n",
    "        x = self.linear(x)\n",
    "        return x\n",
    "\n",
    "# Initialize model\n",
    "model = Linear_Reg()\n",
    "\n",
    "# Print model's state_dict\n",
    "print(\"Model's state_dict:\")\n",
    "for param_tensor in model.state_dict():\n",
    "    print(param_tensor, \"\\t\", model.state_dict()[param_tensor].size())\n",
    "    print(model.state_dict()[param_tensor], \"\\t\")\n",
    "    \n",
    "# Print model's parameters()\n",
    "for param, value in model.named_parameters():\n",
    "    print(param, \"\\t\", value)"
   ]
  },
  {
   "cell_type": "markdown",
   "metadata": {},
   "source": [
    "###  1- Save/Load state_dict "
   ]
  },
  {
   "cell_type": "code",
   "execution_count": 12,
   "metadata": {},
   "outputs": [],
   "source": [
    "PATH = './ckpt_state_dics.pth'\n",
    "torch.save(model.state_dict(), PATH)   # Saving"
   ]
  },
  {
   "cell_type": "code",
   "execution_count": 13,
   "metadata": {},
   "outputs": [
    {
     "name": "stdout",
     "output_type": "stream",
     "text": [
      "linear.weight \t Parameter containing:\n",
      "tensor([[ 0.2246, -0.1855,  0.2951,  0.1379, -0.1256,  0.0055, -0.0836,  0.2026,\n",
      "          0.0479,  0.1728]], requires_grad=True)\n",
      "linear.bias \t Parameter containing:\n",
      "tensor([0.0107], requires_grad=True)\n"
     ]
    }
   ],
   "source": [
    "model = Linear_Reg()\n",
    "# Print model's parameters() before loading state dict\n",
    "for param, value in model.named_parameters():\n",
    "    print(param, \"\\t\", value)"
   ]
  },
  {
   "cell_type": "code",
   "execution_count": 14,
   "metadata": {},
   "outputs": [
    {
     "name": "stdout",
     "output_type": "stream",
     "text": [
      "linear.weight \t Parameter containing:\n",
      "tensor([[ 0.2033,  0.1998, -0.2908, -0.1588, -0.1895, -0.1075,  0.1582,  0.1943,\n",
      "          0.1961,  0.2011]], requires_grad=True)\n",
      "linear.bias \t Parameter containing:\n",
      "tensor([0.2929], requires_grad=True)\n"
     ]
    }
   ],
   "source": [
    "model.load_state_dict(torch.load(PATH))  # Loading\n",
    "model.eval()\n",
    "\n",
    "# Print model's parameters() after loading saved state dict\n",
    "for param, value in model.named_parameters():\n",
    "    print(param, \"\\t\", value)"
   ]
  },
  {
   "cell_type": "markdown",
   "metadata": {},
   "source": [
    "When saving a model for inference, it is only necessary to save the trained model’s learned parameters. Saving the model’s __state_dict__ with the __torch.save()__ function will give you the most flexibility for restoring the model later, which is why it is the recommended method for saving models."
   ]
  },
  {
   "cell_type": "markdown",
   "metadata": {},
   "source": [
    "###  2- Save/Load Entire Model"
   ]
  },
  {
   "cell_type": "code",
   "execution_count": 15,
   "metadata": {},
   "outputs": [],
   "source": [
    "PATH = './ckpt_entire.pth'\n",
    "torch.save(model, PATH)\n"
   ]
  },
  {
   "cell_type": "code",
   "execution_count": 16,
   "metadata": {},
   "outputs": [
    {
     "data": {
      "text/plain": [
       "Linear_Reg(\n",
       "  (linear): Linear(in_features=10, out_features=1, bias=True)\n",
       ")"
      ]
     },
     "execution_count": 16,
     "metadata": {},
     "output_type": "execute_result"
    }
   ],
   "source": [
    "#Model class must be defined somewhere\n",
    "model = torch.load(PATH)\n",
    "model.eval()"
   ]
  },
  {
   "cell_type": "markdown",
   "metadata": {},
   "source": [
    "### 3- Load Exitsing Model from TorchVision"
   ]
  },
  {
   "cell_type": "code",
   "execution_count": 17,
   "metadata": {},
   "outputs": [
    {
     "name": "stderr",
     "output_type": "stream",
     "text": [
      "/opt/anaconda3/envs/octproj/lib/python3.10/site-packages/torchvision/models/_utils.py:208: UserWarning: The parameter 'pretrained' is deprecated since 0.13 and will be removed in 0.15, please use 'weights' instead.\n",
      "  warnings.warn(\n",
      "/opt/anaconda3/envs/octproj/lib/python3.10/site-packages/torchvision/models/_utils.py:223: UserWarning: Arguments other than a weight enum or `None` for 'weights' are deprecated since 0.13 and will be removed in 0.15. The current behavior is equivalent to passing `weights=AlexNet_Weights.IMAGENET1K_V1`. You can also use `weights=AlexNet_Weights.DEFAULT` to get the most up-to-date weights.\n",
      "  warnings.warn(msg)\n"
     ]
    },
    {
     "name": "stdout",
     "output_type": "stream",
     "text": [
      "AlexNet(\n",
      "  (features): Sequential(\n",
      "    (0): Conv2d(3, 64, kernel_size=(11, 11), stride=(4, 4), padding=(2, 2))\n",
      "    (1): ReLU(inplace=True)\n",
      "    (2): MaxPool2d(kernel_size=3, stride=2, padding=0, dilation=1, ceil_mode=False)\n",
      "    (3): Conv2d(64, 192, kernel_size=(5, 5), stride=(1, 1), padding=(2, 2))\n",
      "    (4): ReLU(inplace=True)\n",
      "    (5): MaxPool2d(kernel_size=3, stride=2, padding=0, dilation=1, ceil_mode=False)\n",
      "    (6): Conv2d(192, 384, kernel_size=(3, 3), stride=(1, 1), padding=(1, 1))\n",
      "    (7): ReLU(inplace=True)\n",
      "    (8): Conv2d(384, 256, kernel_size=(3, 3), stride=(1, 1), padding=(1, 1))\n",
      "    (9): ReLU(inplace=True)\n",
      "    (10): Conv2d(256, 256, kernel_size=(3, 3), stride=(1, 1), padding=(1, 1))\n",
      "    (11): ReLU(inplace=True)\n",
      "    (12): MaxPool2d(kernel_size=3, stride=2, padding=0, dilation=1, ceil_mode=False)\n",
      "  )\n",
      "  (avgpool): AdaptiveAvgPool2d(output_size=(6, 6))\n",
      "  (classifier): Sequential(\n",
      "    (0): Dropout(p=0.5, inplace=False)\n",
      "    (1): Linear(in_features=9216, out_features=4096, bias=True)\n",
      "    (2): ReLU(inplace=True)\n",
      "    (3): Dropout(p=0.5, inplace=False)\n",
      "    (4): Linear(in_features=4096, out_features=4096, bias=True)\n",
      "    (5): ReLU(inplace=True)\n",
      "    (6): Linear(in_features=4096, out_features=1000, bias=True)\n",
      "  )\n",
      ")\n",
      "Parameter containing:\n",
      "tensor([[[[ 1.1864e-01,  9.4069e-02,  9.5435e-02,  ...,  5.5822e-02,\n",
      "            2.1575e-02,  4.9963e-02],\n",
      "          [ 7.4882e-02,  3.8940e-02,  5.2979e-02,  ...,  2.5709e-02,\n",
      "           -1.1299e-02,  4.1590e-03],\n",
      "          [ 7.5425e-02,  3.8779e-02,  5.4930e-02,  ...,  4.3596e-02,\n",
      "            1.0225e-02,  1.3251e-02],\n",
      "          ...,\n",
      "          [ 9.3155e-02,  1.0374e-01,  6.7547e-02,  ..., -2.0277e-01,\n",
      "           -1.2839e-01, -1.1220e-01],\n",
      "          [ 4.3544e-02,  6.4916e-02,  3.6164e-02,  ..., -2.0248e-01,\n",
      "           -1.1376e-01, -1.0719e-01],\n",
      "          [ 4.7369e-02,  6.2543e-02,  2.4758e-02,  ..., -1.1844e-01,\n",
      "           -9.5567e-02, -8.3890e-02]],\n",
      "\n",
      "         [[-7.2634e-02, -5.7996e-02, -8.0661e-02,  ..., -6.0304e-04,\n",
      "           -2.5309e-02,  2.5471e-02],\n",
      "          [-6.9042e-02, -6.7562e-02, -7.6367e-02,  ..., -3.9616e-03,\n",
      "           -3.0402e-02,  1.0477e-02],\n",
      "          [-9.9517e-02, -8.5592e-02, -1.0521e-01,  ..., -2.6587e-02,\n",
      "           -2.2777e-02,  6.6451e-03],\n",
      "          ...,\n",
      "          [-1.5121e-01, -8.8735e-02, -9.6737e-02,  ...,  3.0853e-01,\n",
      "            1.8096e-01,  8.4297e-02],\n",
      "          [-1.4309e-01, -7.5710e-02, -7.2215e-02,  ...,  2.0417e-01,\n",
      "            1.6447e-01,  9.5166e-02],\n",
      "          [-8.5925e-02, -4.0134e-02, -5.1491e-02,  ...,  1.6352e-01,\n",
      "            1.4822e-01,  1.0196e-01]],\n",
      "\n",
      "         [[-2.3596e-02, -2.1258e-03, -2.7761e-02,  ...,  3.9940e-02,\n",
      "           -7.1123e-03,  3.2207e-02],\n",
      "          [ 2.5705e-04,  2.2468e-02,  8.9070e-03,  ...,  1.8771e-02,\n",
      "           -1.4155e-02,  1.8275e-02],\n",
      "          [ 5.4084e-03,  2.9397e-02,  3.3051e-04,  ...,  1.2054e-02,\n",
      "           -2.5237e-03,  8.3515e-03],\n",
      "          ...,\n",
      "          [-6.2826e-02, -1.1655e-02, -6.2080e-02,  ...,  1.0332e-01,\n",
      "           -9.4987e-03, -7.9570e-02],\n",
      "          [-4.5691e-02,  3.3726e-03, -3.9632e-02,  ..., -2.6448e-02,\n",
      "           -3.3500e-02, -7.6398e-02],\n",
      "          [-1.8700e-02,  1.1365e-02, -3.9671e-02,  ..., -6.8563e-02,\n",
      "           -4.1289e-02, -5.5473e-02]]],\n",
      "\n",
      "\n",
      "        [[[-1.9950e-03,  2.9262e-03,  4.8212e-02,  ...,  6.1402e-02,\n",
      "            2.6121e-02,  1.9558e-02],\n",
      "          [-1.2579e-02, -4.8879e-03,  1.8490e-02,  ...,  5.3881e-02,\n",
      "            1.6377e-02,  2.3768e-02],\n",
      "          [ 3.6561e-03, -7.7510e-04,  2.6360e-02,  ..., -2.5849e-02,\n",
      "           -6.1798e-02,  2.6103e-02],\n",
      "          ...,\n",
      "          [-1.0812e-02, -4.6008e-03,  1.5122e-02,  ...,  2.9561e-02,\n",
      "            5.3272e-03,  6.8561e-02],\n",
      "          [ 2.7364e-04, -1.4850e-02,  7.8180e-03,  ...,  2.7172e-02,\n",
      "           -1.8095e-02,  5.2485e-02],\n",
      "          [-5.2470e-02, -4.6578e-02, -1.0951e-02,  ...,  4.3038e-03,\n",
      "           -2.6379e-03,  1.4406e-02]],\n",
      "\n",
      "         [[ 2.3965e-02,  2.2740e-02,  5.7586e-03,  ...,  7.2087e-03,\n",
      "           -2.4652e-02,  4.4658e-02],\n",
      "          [ 2.6914e-02,  4.4892e-02, -1.0872e-03,  ...,  4.4243e-02,\n",
      "           -2.1168e-02,  6.4538e-02],\n",
      "          [ 1.2421e-02,  1.0247e-02, -4.1554e-02,  ..., -1.2134e-01,\n",
      "           -1.6294e-01,  2.6266e-02],\n",
      "          ...,\n",
      "          [ 3.5926e-02,  5.3235e-02,  1.1016e-02,  ...,  1.2710e-02,\n",
      "           -2.9737e-02,  8.5926e-02],\n",
      "          [ 1.5623e-02,  2.1743e-02, -8.2941e-03,  ..., -3.2744e-03,\n",
      "           -5.4099e-02,  5.7634e-02],\n",
      "          [ 7.5254e-02,  8.7784e-02,  5.5804e-02,  ...,  5.2849e-02,\n",
      "            1.0612e-02,  9.3531e-02]],\n",
      "\n",
      "         [[-3.6488e-02,  6.6332e-03, -3.9035e-02,  ..., -1.5678e-02,\n",
      "           -7.9994e-02, -8.8658e-04],\n",
      "          [-5.1740e-03,  5.7395e-02,  8.9841e-03,  ...,  7.4166e-02,\n",
      "           -3.1792e-03,  4.2777e-02],\n",
      "          [-7.9446e-02, -2.2924e-02, -7.3370e-02,  ..., -5.6738e-02,\n",
      "           -1.2923e-01,  1.8896e-02],\n",
      "          ...,\n",
      "          [-3.9394e-02,  3.0981e-02, -2.7901e-02,  ..., -1.6774e-02,\n",
      "           -1.0236e-01,  4.0128e-02],\n",
      "          [-6.0751e-02, -2.3034e-02, -7.6838e-02,  ..., -7.9069e-02,\n",
      "           -1.6195e-01, -1.3746e-02],\n",
      "          [ 7.9522e-03,  4.6969e-02, -1.2460e-02,  ..., -4.6956e-02,\n",
      "           -1.0082e-01,  1.9832e-02]]],\n",
      "\n",
      "\n",
      "        [[[-5.1702e-02,  1.3825e-02,  9.0514e-03,  ..., -9.6401e-02,\n",
      "           -1.1277e-01, -2.1596e-01],\n",
      "          [-9.0091e-02, -1.3136e-02, -3.2812e-02,  ..., -7.5263e-02,\n",
      "           -1.4803e-01, -2.9966e-01],\n",
      "          [-1.3155e-01, -4.2686e-02, -4.7744e-02,  ...,  2.1429e-01,\n",
      "            3.2543e-02, -1.7151e-01],\n",
      "          ...,\n",
      "          [-1.0621e-01, -9.7966e-02, -2.5551e-01,  ...,  1.2277e-01,\n",
      "            1.9287e-01,  1.2671e-01],\n",
      "          [-8.0761e-02, -6.1498e-02, -2.2312e-01,  ...,  3.5376e-02,\n",
      "            1.0532e-01,  1.0669e-01],\n",
      "          [ 3.8186e-02,  4.9957e-02, -1.2802e-01,  ..., -3.2927e-02,\n",
      "            1.8685e-02,  4.7146e-02]],\n",
      "\n",
      "         [[ 3.9013e-02,  6.4311e-03, -3.1710e-03,  ..., -2.1245e-02,\n",
      "            4.0516e-02,  1.1092e-01],\n",
      "          [ 6.5689e-02,  2.2132e-02,  6.6539e-03,  ..., -3.9448e-02,\n",
      "            2.7749e-02,  1.1404e-01],\n",
      "          [ 7.7954e-02,  4.0220e-02,  1.4047e-02,  ..., -1.5417e-01,\n",
      "           -9.2291e-02,  3.4460e-02],\n",
      "          ...,\n",
      "          [ 1.2836e-01,  9.4449e-02,  1.4659e-01,  ..., -6.0067e-02,\n",
      "           -9.0891e-02, -6.1129e-02],\n",
      "          [ 1.2683e-01,  1.0044e-01,  1.3754e-01,  ..., -2.2507e-02,\n",
      "           -6.6664e-02, -1.9906e-02],\n",
      "          [ 8.0509e-02,  7.8203e-02,  9.8934e-02,  ...,  9.2865e-03,\n",
      "           -3.4635e-02, -1.2395e-02]],\n",
      "\n",
      "         [[ 1.1535e-02, -2.6993e-02,  1.4820e-02,  ...,  9.4833e-02,\n",
      "            1.2044e-01,  1.1027e-01],\n",
      "          [ 9.2629e-03, -2.6680e-02,  1.2218e-02,  ...,  8.7219e-02,\n",
      "            1.5435e-01,  1.8049e-01],\n",
      "          [ 6.9946e-02,  1.3250e-02,  4.8007e-02,  ..., -5.6851e-02,\n",
      "            3.2596e-02,  1.6812e-01],\n",
      "          ...,\n",
      "          [-1.2187e-02, -3.3265e-02,  1.1284e-01,  ..., -6.7740e-02,\n",
      "           -1.0240e-01, -7.6188e-02],\n",
      "          [-6.0069e-03, -2.8631e-02,  1.1643e-01,  ..., -6.7597e-03,\n",
      "           -4.3772e-02, -3.1101e-02],\n",
      "          [-1.3355e-01, -1.4825e-01, -1.0060e-03,  ...,  1.8809e-02,\n",
      "           -6.4637e-03, -2.7061e-02]]],\n",
      "\n",
      "\n",
      "        ...,\n",
      "\n",
      "\n",
      "        [[[ 9.0948e-03,  1.4823e-02,  4.7374e-03,  ...,  1.5540e-02,\n",
      "           -5.8369e-04, -1.9922e-02],\n",
      "          [ 2.8962e-04,  2.1229e-02, -1.3210e-02,  ...,  2.4388e-03,\n",
      "           -5.8485e-03, -2.0373e-02],\n",
      "          [-1.1050e-02,  1.0094e-02, -2.9625e-02,  ..., -1.4471e-02,\n",
      "           -1.7187e-02, -3.0534e-02],\n",
      "          ...,\n",
      "          [ 1.0013e-01,  9.1407e-02,  1.3077e-01,  ...,  1.5798e-01,\n",
      "            9.0361e-02,  7.8365e-02],\n",
      "          [ 1.1610e-01,  8.1846e-02,  8.2892e-02,  ..., -6.0174e-02,\n",
      "           -6.9412e-02, -5.0151e-02],\n",
      "          [-1.0564e-01, -1.1848e-01, -1.7681e-01,  ..., -2.0837e-01,\n",
      "           -1.8036e-01, -1.6691e-01]],\n",
      "\n",
      "         [[-1.1495e-02,  2.4917e-03, -8.2400e-03,  ..., -7.5865e-03,\n",
      "           -1.7387e-02, -1.7026e-02],\n",
      "          [-2.7461e-03, -1.1415e-02, -6.0670e-03,  ..., -2.8248e-02,\n",
      "           -2.2555e-02, -2.2559e-02],\n",
      "          [-8.4246e-03, -2.2378e-03, -3.5825e-02,  ..., -1.8462e-02,\n",
      "           -1.9795e-02, -2.4990e-02],\n",
      "          ...,\n",
      "          [ 1.2956e-01,  9.8057e-02,  1.4888e-01,  ...,  1.5655e-01,\n",
      "            7.9547e-02,  9.6928e-02],\n",
      "          [ 1.6080e-01,  1.0522e-01,  1.0264e-01,  ..., -6.5226e-02,\n",
      "           -6.4314e-02, -3.9066e-02],\n",
      "          [-1.2880e-01, -1.4656e-01, -1.9475e-01,  ..., -2.4177e-01,\n",
      "           -2.0277e-01, -1.9324e-01]],\n",
      "\n",
      "         [[-5.4209e-03, -1.7648e-03,  4.3163e-03,  ...,  9.8182e-03,\n",
      "            5.2347e-03,  6.3336e-03],\n",
      "          [ 9.3478e-03,  1.5920e-03, -2.1660e-03,  ...,  7.1244e-03,\n",
      "            9.3521e-04, -5.7647e-03],\n",
      "          [-1.3668e-03,  3.8899e-03, -7.7412e-03,  ...,  3.0651e-03,\n",
      "            1.4989e-02, -8.1730e-03],\n",
      "          ...,\n",
      "          [ 4.3937e-02,  7.9544e-04,  6.0613e-02,  ...,  7.4787e-02,\n",
      "            4.3960e-02,  5.6071e-02],\n",
      "          [ 1.0077e-01,  7.5126e-02,  1.0962e-01,  ...,  4.9886e-03,\n",
      "            1.0789e-02,  1.3402e-02],\n",
      "          [-8.8773e-02, -7.2790e-02, -9.2907e-02,  ..., -6.6530e-02,\n",
      "           -3.8977e-02, -4.8370e-02]]],\n",
      "\n",
      "\n",
      "        [[[ 4.5712e-03,  4.6908e-02, -1.6075e-02,  ...,  7.7790e-03,\n",
      "           -1.9798e-02,  6.8000e-03],\n",
      "          [ 6.2769e-02,  4.5108e-02,  4.7187e-02,  ...,  6.0599e-02,\n",
      "            2.9275e-02,  5.5794e-02],\n",
      "          [ 3.6748e-03,  1.2952e-02,  1.8988e-05,  ..., -8.3492e-03,\n",
      "           -1.9689e-03,  8.0830e-03],\n",
      "          ...,\n",
      "          [-4.4365e-02, -5.8858e-02, -2.4772e-02,  ..., -2.8423e-02,\n",
      "           -3.0897e-02, -5.2936e-02],\n",
      "          [-9.7572e-03, -4.3227e-02,  9.0068e-03,  ..., -4.2596e-02,\n",
      "           -1.8114e-02, -2.8028e-02],\n",
      "          [-2.2007e-02, -3.3594e-02,  1.3479e-02,  ..., -4.1530e-02,\n",
      "           -1.7819e-02, -5.1977e-02]],\n",
      "\n",
      "         [[-9.0596e-02, -5.1485e-02, -1.6459e-01,  ..., -1.1970e-01,\n",
      "           -1.1150e-01, -4.3914e-02],\n",
      "          [ 1.3835e-02,  2.6007e-02, -1.9440e-02,  ...,  2.3757e-02,\n",
      "            6.3709e-03,  5.4287e-02],\n",
      "          [-9.3225e-02, -4.7454e-02, -1.1274e-01,  ..., -8.6459e-02,\n",
      "           -7.3958e-02, -6.6610e-02],\n",
      "          ...,\n",
      "          [ 2.7382e-02,  1.0310e-02,  4.3906e-02,  ...,  2.7094e-02,\n",
      "            4.4510e-02,  1.5977e-02],\n",
      "          [ 9.8431e-02,  6.1433e-02,  1.1413e-01,  ...,  9.6398e-02,\n",
      "            1.0725e-01,  9.5719e-02],\n",
      "          [-1.5100e-02, -1.1830e-02,  4.8571e-02,  ...,  2.9060e-02,\n",
      "            5.6323e-02, -2.1631e-03]],\n",
      "\n",
      "         [[-1.3693e-01, -7.9341e-02, -2.1245e-01,  ..., -1.3633e-01,\n",
      "           -1.5123e-01, -6.3938e-02],\n",
      "          [ 1.5745e-02,  5.1443e-02, -1.8209e-02,  ...,  4.9085e-02,\n",
      "            1.9585e-02,  7.8095e-02],\n",
      "          [-1.7127e-01, -8.8734e-02, -1.7467e-01,  ..., -1.4431e-01,\n",
      "           -1.3364e-01, -1.1878e-01],\n",
      "          ...,\n",
      "          [ 5.1982e-02,  1.5912e-02,  7.0009e-02,  ...,  4.4396e-02,\n",
      "            6.5429e-02,  2.6919e-02],\n",
      "          [ 1.3144e-01,  9.1333e-02,  1.6228e-01,  ...,  1.4230e-01,\n",
      "            1.5500e-01,  1.3808e-01],\n",
      "          [ 3.7818e-03, -2.0365e-02,  7.8663e-02,  ...,  8.6037e-02,\n",
      "            1.2596e-01,  3.8774e-02]]],\n",
      "\n",
      "\n",
      "        [[[-9.5081e-02,  5.6581e-02,  1.4016e-01,  ..., -1.4826e-02,\n",
      "            1.0425e-02, -3.7919e-03],\n",
      "          [ 6.0412e-02,  1.2531e-01, -1.2366e-01,  ...,  7.8628e-02,\n",
      "           -1.0564e-02, -2.2228e-02],\n",
      "          [ 1.0304e-01, -1.3654e-01, -1.9601e-01,  ..., -5.1919e-02,\n",
      "           -8.3287e-02,  3.9678e-02],\n",
      "          ...,\n",
      "          [-1.8598e-01,  1.5479e-02,  3.3912e-01,  ...,  2.7509e-01,\n",
      "            1.0493e-01, -1.6863e-01],\n",
      "          [ 6.8278e-02,  1.3989e-01,  1.1350e-02,  ..., -7.8728e-02,\n",
      "           -2.5001e-01, -8.0072e-02],\n",
      "          [ 5.1736e-03, -6.8372e-02, -9.1940e-02,  ..., -1.0727e-01,\n",
      "            8.7973e-02,  1.0139e-01]],\n",
      "\n",
      "         [[-9.8760e-02,  6.2635e-02,  1.1495e-01,  ..., -1.3191e-02,\n",
      "            1.9574e-02, -1.0864e-03],\n",
      "          [ 8.3206e-02,  1.0300e-01, -1.5419e-01,  ...,  1.0864e-01,\n",
      "            1.2592e-02, -2.0278e-02],\n",
      "          [ 1.1248e-01, -1.6928e-01, -1.8876e-01,  ..., -6.3491e-02,\n",
      "           -9.3101e-02,  4.9006e-02],\n",
      "          ...,\n",
      "          [-1.8867e-01,  6.7374e-02,  4.8128e-01,  ...,  3.1371e-01,\n",
      "            1.6068e-01, -1.3449e-01],\n",
      "          [ 1.1207e-01,  2.0871e-01,  4.6815e-02,  ..., -7.0456e-03,\n",
      "           -2.2978e-01, -6.9528e-02],\n",
      "          [ 1.7255e-02, -9.1683e-02, -1.5943e-01,  ..., -8.0373e-02,\n",
      "            8.0035e-02,  1.1819e-01]],\n",
      "\n",
      "         [[-1.0580e-01,  5.4381e-02,  1.3048e-01,  ..., -3.9546e-02,\n",
      "            1.1924e-02, -2.7886e-03],\n",
      "          [ 5.7859e-02,  1.0646e-01, -1.3468e-01,  ...,  1.0645e-01,\n",
      "            1.8412e-02, -1.3245e-03],\n",
      "          [ 1.0398e-01, -1.0849e-01, -1.6758e-01,  ..., -4.2554e-02,\n",
      "           -8.5875e-02,  5.2581e-02],\n",
      "          ...,\n",
      "          [-1.8241e-01,  5.4228e-02,  3.9395e-01,  ...,  2.4432e-01,\n",
      "            1.0216e-01, -1.2876e-01],\n",
      "          [ 8.5720e-02,  1.8378e-01,  5.0316e-02,  ..., -4.7009e-02,\n",
      "           -2.1584e-01, -4.2482e-02],\n",
      "          [ 3.9612e-02, -7.6353e-02, -1.3502e-01,  ..., -4.8630e-02,\n",
      "            1.0063e-01,  9.0307e-02]]]], requires_grad=True)\n"
     ]
    }
   ],
   "source": [
    "net = torchvision.models.alexnet(pretrained=True)\n",
    "\n",
    "print(net)\n",
    "print(net.features[0].weight)\n",
    "\n",
    "# list of models: https://pytorch.org/vision/stable/models.html"
   ]
  },
  {
   "cell_type": "markdown",
   "metadata": {},
   "source": [
    "### Additional reading: saving and loading checkpoints\n",
    "https://pytorch.org/tutorials/recipes/recipes/saving_and_loading_a_general_checkpoint.html"
   ]
  },
  {
   "cell_type": "code",
   "execution_count": 18,
   "metadata": {},
   "outputs": [],
   "source": [
    "# define model, optimizer and criterion\n",
    "model = Linear_Reg()\n",
    "optimizer = torch.optim.Adam(model.parameters(), lr=0.001)\n",
    "criterion = torch.nn.MSELoss()"
   ]
  },
  {
   "cell_type": "code",
   "execution_count": 19,
   "metadata": {},
   "outputs": [
    {
     "name": "stdout",
     "output_type": "stream",
     "text": [
      "Epoch: 0, train loss: 2.81164288520813\n",
      "Epoch: 1, train loss: 2.6085450649261475\n",
      "Epoch: 2, train loss: 2.4163084030151367\n",
      "Epoch: 3, train loss: 2.2347705364227295\n",
      "Epoch: 4, train loss: 2.0653955936431885\n"
     ]
    }
   ],
   "source": [
    "# saving checkpoint at epoch 3\n",
    "EPOCHS = 5\n",
    "CHKPT_PATH = './chkpt_linear_reg.pt'\n",
    "for epoch in range(EPOCHS):\n",
    "    train_loss = 0\n",
    "    for batch_idx, (data, label) in enumerate(custom_dataloader):\n",
    "        data = torch.autograd.Variable(data.float())\n",
    "        label = torch.autograd.Variable(label.float())\n",
    "        optimizer.zero_grad()\n",
    "        out = model(data)\n",
    "        loss = criterion(out, label.view(label.shape[0],1))\n",
    "        loss.backward()\n",
    "        optimizer.step()\n",
    "        train_loss += loss\n",
    "\n",
    "    if epoch == 3:\n",
    "        torch.save({\n",
    "                'epoch': epoch,\n",
    "                'model_state_dict': model.state_dict(),\n",
    "                'optimizer_state_dict': optimizer.state_dict(),\n",
    "                'loss': loss,\n",
    "                }, CHKPT_PATH)\n",
    "\n",
    "    print(f'Epoch: {epoch}, train loss: {train_loss}')\n"
   ]
  },
  {
   "cell_type": "code",
   "execution_count": 20,
   "metadata": {},
   "outputs": [
    {
     "name": "stdout",
     "output_type": "stream",
     "text": [
      "3 tensor(0.4149, requires_grad=True)\n"
     ]
    }
   ],
   "source": [
    "# Load from checkpoint\n",
    "optimizer = torch.optim.Adam(model.parameters(), lr=0.001)\n",
    "\n",
    "checkpoint = torch.load(CHKPT_PATH)\n",
    "model.load_state_dict(checkpoint['model_state_dict'])\n",
    "optimizer.load_state_dict(checkpoint['optimizer_state_dict'])\n",
    "epoch = checkpoint['epoch']\n",
    "loss = checkpoint['loss']\n",
    "\n",
    "print(epoch, loss)"
   ]
  }
 ],
 "metadata": {
  "kernelspec": {
   "display_name": "Python 3 (ipykernel)",
   "language": "python",
   "name": "python3"
  },
  "language_info": {
   "codemirror_mode": {
    "name": "ipython",
    "version": 3
   },
   "file_extension": ".py",
   "mimetype": "text/x-python",
   "name": "python",
   "nbconvert_exporter": "python",
   "pygments_lexer": "ipython3",
   "version": "3.10.6"
  },
  "vscode": {
   "interpreter": {
    "hash": "9afbedeb8f918e0257feae8dffcd58de91e672fc6d361ae6590127510cf6ca50"
   }
  }
 },
 "nbformat": 4,
 "nbformat_minor": 4
}
