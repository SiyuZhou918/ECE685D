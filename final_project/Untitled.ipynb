{
 "cells": [
  {
   "cell_type": "code",
   "execution_count": 1,
   "id": "e321d27f-78f6-4ace-a310-a7c5e46f828b",
   "metadata": {},
   "outputs": [
    {
     "name": "stdout",
     "output_type": "stream",
     "text": [
      "Requirement already satisfied: medmnist in /opt/anaconda3/envs/ECE685D/lib/python3.10/site-packages (2.2.3)\n",
      "Requirement already satisfied: numpy in /opt/anaconda3/envs/ECE685D/lib/python3.10/site-packages (from medmnist) (1.23.5)\n",
      "Requirement already satisfied: pandas in /opt/anaconda3/envs/ECE685D/lib/python3.10/site-packages (from medmnist) (2.0.3)\n",
      "Requirement already satisfied: scikit-learn in /opt/anaconda3/envs/ECE685D/lib/python3.10/site-packages (from medmnist) (1.3.0)\n",
      "Requirement already satisfied: scikit-image in /opt/anaconda3/envs/ECE685D/lib/python3.10/site-packages (from medmnist) (0.22.0)\n",
      "Requirement already satisfied: tqdm in /opt/anaconda3/envs/ECE685D/lib/python3.10/site-packages (from medmnist) (4.66.1)\n",
      "Requirement already satisfied: Pillow in /opt/anaconda3/envs/ECE685D/lib/python3.10/site-packages (from medmnist) (10.0.1)\n",
      "Requirement already satisfied: fire in /opt/anaconda3/envs/ECE685D/lib/python3.10/site-packages (from medmnist) (0.5.0)\n",
      "Requirement already satisfied: torch in /opt/anaconda3/envs/ECE685D/lib/python3.10/site-packages (from medmnist) (2.0.1)\n",
      "Requirement already satisfied: torchvision in /opt/anaconda3/envs/ECE685D/lib/python3.10/site-packages (from medmnist) (0.15.2)\n",
      "Requirement already satisfied: six in /opt/anaconda3/envs/ECE685D/lib/python3.10/site-packages (from fire->medmnist) (1.16.0)\n",
      "Requirement already satisfied: termcolor in /opt/anaconda3/envs/ECE685D/lib/python3.10/site-packages (from fire->medmnist) (2.3.0)\n",
      "Requirement already satisfied: python-dateutil>=2.8.2 in /opt/anaconda3/envs/ECE685D/lib/python3.10/site-packages (from pandas->medmnist) (2.8.2)\n",
      "Requirement already satisfied: pytz>=2020.1 in /opt/anaconda3/envs/ECE685D/lib/python3.10/site-packages (from pandas->medmnist) (2023.3.post1)\n",
      "Requirement already satisfied: tzdata>=2022.1 in /opt/anaconda3/envs/ECE685D/lib/python3.10/site-packages (from pandas->medmnist) (2023.3)\n",
      "Requirement already satisfied: scipy>=1.8 in /opt/anaconda3/envs/ECE685D/lib/python3.10/site-packages (from scikit-image->medmnist) (1.10.1)\n",
      "Requirement already satisfied: networkx>=2.8 in /opt/anaconda3/envs/ECE685D/lib/python3.10/site-packages (from scikit-image->medmnist) (3.1)\n",
      "Requirement already satisfied: imageio>=2.27 in /opt/anaconda3/envs/ECE685D/lib/python3.10/site-packages (from scikit-image->medmnist) (2.31.5)\n",
      "Requirement already satisfied: tifffile>=2022.8.12 in /opt/anaconda3/envs/ECE685D/lib/python3.10/site-packages (from scikit-image->medmnist) (2023.9.26)\n",
      "Requirement already satisfied: packaging>=21 in /opt/anaconda3/envs/ECE685D/lib/python3.10/site-packages (from scikit-image->medmnist) (23.1)\n",
      "Requirement already satisfied: lazy_loader>=0.3 in /opt/anaconda3/envs/ECE685D/lib/python3.10/site-packages (from scikit-image->medmnist) (0.3)\n",
      "Requirement already satisfied: joblib>=1.1.1 in /opt/anaconda3/envs/ECE685D/lib/python3.10/site-packages (from scikit-learn->medmnist) (1.3.2)\n",
      "Requirement already satisfied: threadpoolctl>=2.0.0 in /opt/anaconda3/envs/ECE685D/lib/python3.10/site-packages (from scikit-learn->medmnist) (3.2.0)\n",
      "Requirement already satisfied: filelock in /opt/anaconda3/envs/ECE685D/lib/python3.10/site-packages (from torch->medmnist) (3.12.4)\n",
      "Requirement already satisfied: typing-extensions in /opt/anaconda3/envs/ECE685D/lib/python3.10/site-packages (from torch->medmnist) (4.7.1)\n",
      "Requirement already satisfied: sympy in /opt/anaconda3/envs/ECE685D/lib/python3.10/site-packages (from torch->medmnist) (1.12)\n",
      "Requirement already satisfied: jinja2 in /opt/anaconda3/envs/ECE685D/lib/python3.10/site-packages (from torch->medmnist) (3.1.2)\n",
      "Requirement already satisfied: requests in /opt/anaconda3/envs/ECE685D/lib/python3.10/site-packages (from torchvision->medmnist) (2.31.0)\n",
      "Requirement already satisfied: MarkupSafe>=2.0 in /opt/anaconda3/envs/ECE685D/lib/python3.10/site-packages (from jinja2->torch->medmnist) (2.1.3)\n",
      "Requirement already satisfied: charset-normalizer<4,>=2 in /opt/anaconda3/envs/ECE685D/lib/python3.10/site-packages (from requests->torchvision->medmnist) (3.2.0)\n",
      "Requirement already satisfied: idna<4,>=2.5 in /opt/anaconda3/envs/ECE685D/lib/python3.10/site-packages (from requests->torchvision->medmnist) (3.4)\n",
      "Requirement already satisfied: urllib3<3,>=1.21.1 in /opt/anaconda3/envs/ECE685D/lib/python3.10/site-packages (from requests->torchvision->medmnist) (2.0.4)\n",
      "Requirement already satisfied: certifi>=2017.4.17 in /opt/anaconda3/envs/ECE685D/lib/python3.10/site-packages (from requests->torchvision->medmnist) (2023.7.22)\n",
      "Requirement already satisfied: mpmath>=0.19 in /opt/anaconda3/envs/ECE685D/lib/python3.10/site-packages (from sympy->torch->medmnist) (1.3.0)\n",
      "Note: you may need to restart the kernel to use updated packages.\n"
     ]
    }
   ],
   "source": [
    "pip install medmnist"
   ]
  },
  {
   "cell_type": "code",
   "execution_count": 2,
   "id": "0d972c73-8f86-4a48-9d84-704af50d0c6d",
   "metadata": {},
   "outputs": [
    {
     "name": "stdout",
     "output_type": "stream",
     "text": [
      "2.2.3\n"
     ]
    }
   ],
   "source": [
    "import medmnist\n",
    "print(medmnist.__version__)"
   ]
  },
  {
   "cell_type": "code",
   "execution_count": null,
   "id": "9aff6099-857c-4e82-99a0-044230e21c26",
   "metadata": {},
   "outputs": [],
   "source": []
  }
 ],
 "metadata": {
  "kernelspec": {
   "display_name": "ECE685D",
   "language": "python",
   "name": "ece685d"
  },
  "language_info": {
   "codemirror_mode": {
    "name": "ipython",
    "version": 3
   },
   "file_extension": ".py",
   "mimetype": "text/x-python",
   "name": "python",
   "nbconvert_exporter": "python",
   "pygments_lexer": "ipython3",
   "version": "3.10.13"
  }
 },
 "nbformat": 4,
 "nbformat_minor": 5
}
