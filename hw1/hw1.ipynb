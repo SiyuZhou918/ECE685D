{
 "cells": [
  {
   "cell_type": "code",
   "execution_count": null,
   "id": "1b4645cd-2bb6-4de9-bf69-ef9db3af0d0b",
   "metadata": {},
   "outputs": [],
   "source": []
  }
 ],
 "metadata": {
  "kernelspec": {
   "display_name": "ECE685D",
   "language": "python",
   "name": "ece685d"
  },
  "language_info": {
   "codemirror_mode": {
    "name": "ipython",
    "version": 3
   },
   "file_extension": ".py",
   "mimetype": "text/x-python",
   "name": "python",
   "nbconvert_exporter": "python",
   "pygments_lexer": "ipython3",
   "version": "3.10.13"
  }
 },
 "nbformat": 4,
 "nbformat_minor": 5
}
