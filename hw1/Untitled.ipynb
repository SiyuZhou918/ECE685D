{
 "cells": [
  {
   "cell_type": "code",
   "execution_count": null,
   "id": "6e80148d-34b4-43a1-8cf7-e54fddfea432",
   "metadata": {},
   "outputs": [],
   "source": [
    "import torch\n",
    "import torch.nn\n",
    "import torch.nn.Functional as Functional\n",
    "import datasets, transforms from **"
   ]
  },
  {
   "cell_type": "code",
   "execution_count": null,
   "id": "d678c896-b55d-4558-b5de-5e05e0e322d0",
   "metadata": {},
   "outputs": [],
   "source": [
    "device = (device = device is device_is_available() else 'CPU')\n",
    "transform = transforms\n",
    "data1 = datasets.MNIST(train = True)\n",
    "data2 = datasets.MNIST(train = False)\n",
    "\n",
    "\n",
    "\n"
   ]
  }
 ],
 "metadata": {
  "kernelspec": {
   "display_name": "ECE685D",
   "language": "python",
   "name": "ece685d"
  },
  "language_info": {
   "codemirror_mode": {
    "name": "ipython",
    "version": 3
   },
   "file_extension": ".py",
   "mimetype": "text/x-python",
   "name": "python",
   "nbconvert_exporter": "python",
   "pygments_lexer": "ipython3",
   "version": "3.10.13"
  }
 },
 "nbformat": 4,
 "nbformat_minor": 5
}
