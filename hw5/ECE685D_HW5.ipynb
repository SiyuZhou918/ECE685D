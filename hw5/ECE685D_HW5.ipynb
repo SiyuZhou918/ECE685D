{
  "cells": [
    {
      "cell_type": "markdown",
      "id": "3cfeb61b-5841-48d1-9fe9-ee02a31704c8",
      "metadata": {
        "pycharm": {
          "name": "#%% md\n"
        },
        "id": "3cfeb61b-5841-48d1-9fe9-ee02a31704c8"
      },
      "source": [
        "# ECE685D Homework5"
      ]
    },
    {
      "cell_type": "markdown",
      "id": "681d6466-73ff-49a1-95fa-1424bf3283dd",
      "metadata": {
        "pycharm": {
          "name": "#%% md\n"
        },
        "id": "681d6466-73ff-49a1-95fa-1424bf3283dd"
      },
      "source": [
        "## Problem 1: GAN"
      ]
    },
    {
      "cell_type": "code",
      "execution_count": null,
      "id": "ebdf9025-816d-4239-890e-32bc4b4253a6",
      "metadata": {
        "pycharm": {
          "name": "#%%\n"
        },
        "id": "ebdf9025-816d-4239-890e-32bc4b4253a6"
      },
      "outputs": [],
      "source": [
        "import torch\n",
        "import torch.nn as nn\n",
        "import torchvision.datasets as datasets\n",
        "import torchvision.transforms as transforms\n",
        "from tqdm import tqdm\n",
        "import matplotlib.pyplot as plt"
      ]
    },
    {
      "cell_type": "code",
      "execution_count": null,
      "id": "a9893893-fc4b-43f8-9c0f-685516840629",
      "metadata": {
        "pycharm": {
          "name": "#%%\n"
        },
        "id": "a9893893-fc4b-43f8-9c0f-685516840629"
      },
      "outputs": [],
      "source": [
        "class TransConvNormActi(nn.Module):\n",
        "    \"\"\"Basic block consists of a transposed convolutional layer, a normalization layer and an activation.\"\"\"\n",
        "    def __init__(self, in_channels, out_channels, kernel_size=4, stride=2, padding=1, **kwargs):\n",
        "        super().__init__()\n",
        "        self.trans_conv = nn.ConvTranspose2d(in_channels=in_channels, out_channels=out_channels,\n",
        "                                             kernel_size=kernel_size, stride=stride, padding=padding)\n",
        "        self.bn = nn.BatchNorm2d(out_channels)\n",
        "        self.acti = nn.ReLU()\n",
        "\n",
        "    def forward(self, x):\n",
        "        return self.acti(self.bn(self.trans_conv(x)))\n",
        "\n",
        "\n",
        "class ConvNormActi(nn.Module):\n",
        "    \"\"\"Basic block consists of a convolutional layer, a normalization layer and an activation.\"\"\"\n",
        "    def __init__(self, in_channels, out_channels, kernel_size=4, stride=2, padding=1, **kwargs):\n",
        "        super().__init__()\n",
        "        self.conv = nn.Conv2d(in_channels=in_channels, out_channels=out_channels,\n",
        "                              kernel_size=kernel_size, stride=stride, padding=padding)\n",
        "        self.bn = nn.BatchNorm2d(out_channels)\n",
        "        self.acti = nn.ReLU()\n",
        "\n",
        "    def forward(self, x):\n",
        "        return self.acti(self.bn(self.conv(x)))\n",
        "\n",
        "\n",
        "class Generator(torch.nn.Module):\n",
        "    def __init__(self):\n",
        "\n",
        "        super(Generator, self).__init__()\n",
        "\n",
        "        self.net = nn.Sequential(\n",
        "            TransConvNormActi(100, 256, kernel_size=7, stride=1, padding=0),\n",
        "            TransConvNormActi(256, 128, kernel_size=4, stride=2, padding=1),\n",
        "            TransConvNormActi(128, 64, kernel_size=4, stride=2, padding=1),\n",
        "            ConvNormActi(64, 32, kernel_size=3, stride=1, padding=1),\n",
        "            nn.Conv2d(32, 1, kernel_size=3, stride=1, padding=1),\n",
        "            nn.Tanh()\n",
        "\n",
        "        )\n",
        "\n",
        "    def forward(self, x):\n",
        "        \"\"\"The forward function should return batch of images.\"\"\"\n",
        "        return self.net(x)\n",
        "\n",
        "\n",
        "class Discriminator(torch.nn.Module):\n",
        "    def __init__(self):\n",
        "        super(Discriminator, self).__init__()\n",
        "\n",
        "        self.net = nn.Sequential(\n",
        "            ConvNormActi(1, 64, kernel_size=3, stride=2, padding=1),\n",
        "            ConvNormActi(64, 128, kernel_size=3, stride=2, padding=1),\n",
        "            ConvNormActi(128, 256, kernel_size=3, stride=2, padding=1),\n",
        "            ConvNormActi(256, 512, kernel_size=3, stride=1, padding=1),\n",
        "            nn.Conv2d(512, 1, kernel_size=4, stride=4, padding=0),\n",
        "            nn.Flatten()\n",
        "        )\n",
        "\n",
        "    def forward(self, x):\n",
        "        \"\"\"The forward function should return the logits.\"\"\"\n",
        "        return self.net(x)\n",
        "\n",
        "\n",
        "class DCGAN(nn.Module):\n",
        "    def __init__(self, epochs, batch_size, device='cpu'):\n",
        "        super(DCGAN, self).__init__()\n",
        "        ##### ---- YOUR CODE HERE ---- #####\n",
        "        self.G = Generator()\n",
        "        self.D = Discriminator()\n",
        "        self.loss = nn.BCEWithLogitsLoss()\n",
        "        ##### ----                ---- #####\n",
        "\n",
        "        self.d_optimizer = torch.optim.Adam(self.D.parameters(), lr=0.0002, betas=(0.5, 0.999))\n",
        "        self.g_optimizer = torch.optim.Adam(self.G.parameters(), lr=0.0002, betas=(0.5, 0.999))\n",
        "\n",
        "        self.epochs = epochs\n",
        "        self.batch_size = batch_size\n",
        "        self.device = device\n",
        "\n",
        "        self.number_of_images = 10\n",
        "\n",
        "        self.to(device)\n",
        "\n",
        "    def train_loop(self, train_loader):\n",
        "\n",
        "        disc_loss = []\n",
        "        genr_loss = []\n",
        "\n",
        "        generator_iter = 0\n",
        "\n",
        "        for epoch in range(self.epochs):\n",
        "            d_loss_all, g_loss_all, num_all = 0., 0., 0\n",
        "            loader_tqdm = tqdm(train_loader, ncols=80)\n",
        "            for i, (images, _) in enumerate(loader_tqdm):\n",
        "\n",
        "                # Step 1: Train discriminator\n",
        "                current_batch_size = images.shape[0]\n",
        "                z = torch.randn((current_batch_size, 100, 1, 1), device=self.device)\n",
        "\n",
        "                real_labels = torch.ones(current_batch_size, device=self.device)\n",
        "                fake_labels = torch.zeros(current_batch_size, device=self.device)\n",
        "\n",
        "                images = images.to(self.device)\n",
        "\n",
        "                # Compute the BCE Loss using real images\n",
        "                real_logits = self.D(images)\n",
        "                real_logits = torch.squeeze(real_logits)\n",
        "                d_loss_real = self.loss(real_logits, real_labels)\n",
        "\n",
        "                # Compute the BCE Loss using fake images\n",
        "                fake_images = self.G(z)\n",
        "                fake_logits = self.D(fake_images)\n",
        "                fake_logits = torch.squeeze(fake_logits)\n",
        "                d_loss_fake = self.loss(fake_logits, fake_labels)\n",
        "\n",
        "                # Optimize discriminator\n",
        "                d_loss = d_loss_real + d_loss_fake\n",
        "                self.D.zero_grad()\n",
        "                d_loss.backward()\n",
        "                self.d_optimizer.step()\n",
        "\n",
        "                # Step 2: Train Generator\n",
        "                z = torch.randn((current_batch_size, 100, 1, 1), device=self.device)\n",
        "\n",
        "                fake_images = self.G(z)\n",
        "                fake_logits = self.D(fake_images)\n",
        "                fake_logits = torch.squeeze(fake_logits)\n",
        "                g_loss = self.loss(fake_logits, real_labels)\n",
        "\n",
        "                self.D.zero_grad()\n",
        "                self.G.zero_grad()\n",
        "                g_loss.backward()\n",
        "                self.g_optimizer.step()\n",
        "                generator_iter += 1\n",
        "\n",
        "                loader_tqdm.set_description('Ep %d' % epoch)\n",
        "\n",
        "                d_loss_all += d_loss.item() * current_batch_size\n",
        "                g_loss_all += g_loss.item() * current_batch_size\n",
        "                num_all += current_batch_size\n",
        "\n",
        "            disc_loss.append(d_loss_all / num_all)\n",
        "            genr_loss.append(g_loss_all / num_all)\n",
        "\n",
        "            loader_tqdm.close()\n",
        "\n",
        "        return disc_loss, genr_loss\n",
        "\n",
        "    def generate_img(self, z, number_of_images):\n",
        "        samples = self.G(z).data.cpu().numpy()[:number_of_images]\n",
        "        generated_images = []\n",
        "        for sample in samples:\n",
        "            generated_images.append(sample.reshape(28, 28))\n",
        "        return generated_images"
      ]
    },
    {
      "cell_type": "code",
      "execution_count": null,
      "outputs": [],
      "source": [
        "epochs = 20\n",
        "batch_size = 64\n",
        "device = torch.device('cuda' if torch.cuda.is_available() else 'cpu')"
      ],
      "metadata": {
        "pycharm": {
          "name": "#%%\n"
        },
        "id": "xD3ArldDUurs"
      },
      "id": "xD3ArldDUurs"
    },
    {
      "cell_type": "code",
      "execution_count": null,
      "outputs": [],
      "source": [
        "transform = transforms.Compose(\n",
        "    [transforms.ToTensor(),\n",
        "     transforms.Normalize((0.5,), (0.5,))])\n",
        "\n",
        "# transform = transforms.ToTensor()\n",
        "train_dataset = datasets.MNIST(root='./Data', train=True, transform=transform, download=True)\n",
        "test_dataset = datasets.MNIST(root='./Data', train=False, transform=transform, download=True)\n",
        "\n",
        "train_loader = torch.utils.data.DataLoader(train_dataset, batch_size=batch_size, num_workers=2, shuffle=True)\n",
        "test_loader = torch.utils.data.DataLoader(test_dataset, batch_size=batch_size, num_workers=2, shuffle=False)"
      ],
      "metadata": {
        "pycharm": {
          "name": "#%%\n"
        },
        "id": "58uujfxMUurt"
      },
      "id": "58uujfxMUurt"
    },
    {
      "cell_type": "code",
      "execution_count": null,
      "id": "f00b5225-c84a-4bae-a547-745af1f04957",
      "metadata": {
        "pycharm": {
          "name": "#%%\n"
        },
        "id": "f00b5225-c84a-4bae-a547-745af1f04957",
        "outputId": "bfca4b41-c442-454a-ac0c-eb8c62e27259"
      },
      "outputs": [
        {
          "name": "stderr",
          "output_type": "stream",
          "text": [
            "Ep 0: 100%|███████████████████████████████████| 938/938 [00:29<00:00, 31.31it/s]\n",
            "Ep 1: 100%|███████████████████████████████████| 938/938 [00:27<00:00, 34.66it/s]\n",
            "Ep 2: 100%|███████████████████████████████████| 938/938 [00:27<00:00, 34.71it/s]\n",
            "Ep 3: 100%|███████████████████████████████████| 938/938 [00:27<00:00, 34.50it/s]\n",
            "Ep 4: 100%|███████████████████████████████████| 938/938 [00:27<00:00, 34.04it/s]\n",
            "Ep 5: 100%|███████████████████████████████████| 938/938 [00:27<00:00, 33.59it/s]\n",
            "Ep 6: 100%|███████████████████████████████████| 938/938 [00:28<00:00, 32.78it/s]\n",
            "Ep 7: 100%|███████████████████████████████████| 938/938 [00:28<00:00, 32.59it/s]\n",
            "Ep 8: 100%|███████████████████████████████████| 938/938 [00:28<00:00, 32.43it/s]\n",
            "Ep 9: 100%|███████████████████████████████████| 938/938 [00:28<00:00, 32.67it/s]\n",
            "Ep 10: 100%|██████████████████████████████████| 938/938 [00:29<00:00, 32.24it/s]\n",
            "Ep 11: 100%|██████████████████████████████████| 938/938 [00:29<00:00, 32.29it/s]\n",
            "Ep 12: 100%|██████████████████████████████████| 938/938 [00:29<00:00, 31.31it/s]\n",
            "Ep 13: 100%|██████████████████████████████████| 938/938 [00:29<00:00, 32.21it/s]\n",
            "Ep 14: 100%|██████████████████████████████████| 938/938 [00:28<00:00, 32.42it/s]\n",
            "Ep 15: 100%|██████████████████████████████████| 938/938 [00:30<00:00, 31.02it/s]\n",
            "Ep 16: 100%|██████████████████████████████████| 938/938 [00:29<00:00, 31.37it/s]\n",
            "Ep 17: 100%|██████████████████████████████████| 938/938 [00:29<00:00, 31.40it/s]\n",
            "Ep 18: 100%|██████████████████████████████████| 938/938 [00:30<00:00, 31.17it/s]\n",
            "Ep 19: 100%|██████████████████████████████████| 938/938 [00:31<00:00, 29.73it/s]\n"
          ]
        }
      ],
      "source": [
        "model = DCGAN(epochs = epochs, batch_size=batch_size, device=device)\n",
        "disc_loss, genr_loss = model.train_loop(train_loader=train_loader)"
      ]
    },
    {
      "cell_type": "code",
      "execution_count": null,
      "outputs": [
        {
          "data": {
            "text/plain": "<Figure size 640x480 with 1 Axes>",
            "image/png": "[encoded data removed]"
          },
          "metadata": {},
          "output_type": "display_data"
        }
      ],
      "source": [
        "plt.figure()\n",
        "plt.plot(list(range(len(genr_loss))), genr_loss, label='generator')\n",
        "plt.plot(list(range(len(disc_loss))), disc_loss, label='discriminator')\n",
        "plt.legend()\n",
        "plt.xlabel('Epoch')\n",
        "plt.ylabel('Loss')\n",
        "plt.show()"
      ],
      "metadata": {
        "pycharm": {
          "name": "#%%\n"
        },
        "id": "59ohUBwAUurt",
        "outputId": "651c6f8d-77d9-4359-8f40-b53b47d8ee17"
      },
      "id": "59ohUBwAUurt"
    },
    {
      "cell_type": "code",
      "execution_count": null,
      "outputs": [],
      "source": [
        "z = torch.randn((20, 100, 1, 1), device=device)\n",
        "model.eval()\n",
        "image_generated = model.generate_img(z, 20)\n",
        "image_for_visual = torch.cat([torch.cat([torch.tensor(image_generated[i]) for i in range(10*j, 10*j+10)], dim=1) for j in range(2)], dim=0)"
      ],
      "metadata": {
        "pycharm": {
          "name": "#%%\n"
        },
        "id": "635wXS0PUuru"
      },
      "id": "635wXS0PUuru"
    },
    {
      "cell_type": "code",
      "execution_count": null,
      "outputs": [
        {
          "data": {
            "text/plain": "<Figure size 1000x200 with 1 Axes>",
            "image/png": "[encoded data removed]"
          },
          "metadata": {},
          "output_type": "display_data"
        }
      ],
      "source": [
        "plt.figure(figsize=(10, 2))\n",
        "plt.gray()\n",
        "plt.imshow(image_for_visual.numpy())\n",
        "plt.tight_layout()\n",
        "plt.axis('off')\n",
        "plt.title('Generated Images')\n",
        "plt.show()"
      ],
      "metadata": {
        "pycharm": {
          "name": "#%%\n"
        },
        "id": "cnKJBLOCUuru",
        "outputId": "1590041b-f7da-4ff5-886a-6b3b2f33e1eb"
      },
      "id": "cnKJBLOCUuru"
    },
    {
      "cell_type": "markdown",
      "source": [
        "## Problem 2: LSTM"
      ],
      "metadata": {
        "collapsed": false,
        "pycharm": {
          "name": "#%% md\n"
        },
        "id": "Y5SeZ1nZUuru"
      },
      "id": "Y5SeZ1nZUuru"
    },
    {
      "cell_type": "code",
      "execution_count": null,
      "outputs": [
        {
          "name": "stderr",
          "output_type": "stream",
          "text": [
            "[nltk_data] Downloading package gutenberg to\n",
            "[nltk_data]     /home/zihaochen/nltk_data...\n",
            "[nltk_data]   Package gutenberg is already up-to-date!\n",
            "[nltk_data] Downloading package stopwords to\n",
            "[nltk_data]     /home/zihaochen/nltk_data...\n",
            "[nltk_data]   Package stopwords is already up-to-date!\n"
          ]
        },
        {
          "data": {
            "text/plain": "True"
          },
          "execution_count": 39,
          "metadata": {},
          "output_type": "execute_result"
        }
      ],
      "source": [
        "import torch\n",
        "import torch.nn as nn\n",
        "import nltk\n",
        "from nltk.corpus import stopwords\n",
        "import numpy as np\n",
        "from tqdm import trange\n",
        "from bs4 import BeautifulSoup\n",
        "import re,string,unicodedata, copy\n",
        "import random\n",
        "import torch.nn.functional as F\n",
        "from torch.utils.data import TensorDataset, DataLoader\n",
        "from sklearn.model_selection import train_test_split\n",
        "from tqdm import tqdm\n",
        "#download corpus\n",
        "nltk.download('gutenberg')\n",
        "nltk.download('stopwords')"
      ],
      "metadata": {
        "pycharm": {
          "name": "#%%\n"
        },
        "id": "CXOrFBQlUurv",
        "outputId": "916091eb-1a34-4a2a-f514-a6beb8edc210"
      },
      "id": "CXOrFBQlUurv"
    },
    {
      "cell_type": "code",
      "execution_count": null,
      "outputs": [],
      "source": [
        "# prepare dataset\n",
        "corpus = nltk.corpus.gutenberg.raw('austen-sense.txt')\n",
        "\n",
        "#Removing all the noise\n",
        "def denoise_text(text):\n",
        "    #remove html strips\n",
        "    soup = BeautifulSoup(text, 'html.parser')\n",
        "    text = soup.get_text()\n",
        "    #remove \\n\n",
        "    text = re.sub('\\n', ' ', text)\n",
        "    #remove square brackets\n",
        "    text = re.sub('\\[[^]]*\\]', '', text)\n",
        "    #replace punctuation with space\n",
        "    text = re.sub(r'[,.;@#?!&$\\-]+\\ *', ' ', text, flags=re.VERBOSE)\n",
        "    #remove special characters\n",
        "    text=re.sub(r'[^a-zA-z0-9\\s]', '', text)\n",
        "    #remove extra spaces\n",
        "    text = re.sub(' +', ' ', text)\n",
        "    return text.lower().strip()\n",
        "\n",
        "corpus = denoise_text(corpus)\n",
        "words = corpus.split(' ')\n",
        "unique_words = np.unique(words)\n",
        "vocab_size = len(unique_words)"
      ],
      "metadata": {
        "pycharm": {
          "name": "#%%\n"
        },
        "id": "oPDY4JgmUurv"
      },
      "id": "oPDY4JgmUurv"
    },
    {
      "cell_type": "code",
      "execution_count": null,
      "outputs": [],
      "source": [
        "# create the mapping function between word and index\n",
        "word_to_idx = {word: idx for idx, word in enumerate(unique_words)}\n",
        "idx_to_word = {idx: word for word, idx in word_to_idx.items()}"
      ],
      "metadata": {
        "pycharm": {
          "name": "#%%\n"
        },
        "id": "S5QX41KUUurv"
      },
      "id": "S5QX41KUUurv"
    },
    {
      "cell_type": "code",
      "execution_count": null,
      "outputs": [
        {
          "name": "stdout",
          "output_type": "stream",
          "text": [
            "Sample input size:  torch.Size([50, 5])\n",
            "Sample input features: \n",
            " tensor([[ 744, 3231, 6289, 5251, 3735],\n",
            "        [6371, 2712, 4382, 2729, 5678],\n",
            "        [4411, 3917, 2348, 2764,  319],\n",
            "        [5107, 6173, 3769, 1872, 4931],\n",
            "        [ 319, 5973, 6289,   52, 2733],\n",
            "        [3717, 5256, 5664, 6289, 2791],\n",
            "        [1217, 5678, 4087, 2883, 4962],\n",
            "        [ 416, 6173, 4710, 6222, 2791],\n",
            "        [6211,  749, 4693, 5618, 2362],\n",
            "        [2791, 5863, 5722, 4279,  319],\n",
            "        [3526, 6247, 6184, 2712,  263],\n",
            "        [2968, 2056, 4798, 5107, 6173],\n",
            "        [5678, 4380, 3917, 2599, 5678],\n",
            "        [ 243, 5670, 2764, 3718, 3946],\n",
            "        [1901,  281,  125,  319, 3859],\n",
            "        [5251, 3051,  435, 3734,  764],\n",
            "        [5752, 5678, 1767,  319, 5685],\n",
            "        [6184, 5135,  583, 6095, 2539],\n",
            "        [2883, 6211, 6371, 2883, 6339],\n",
            "        [ 607, 4188, 3011, 3495, 2765],\n",
            "        [2362,  787, 2764, 5200,  545],\n",
            "        [3960, 5752, 5678, 4201,  319],\n",
            "        [5752, 2553, 6095, 6208, 2968],\n",
            "        [3917, 1328,  837, 3516, 3824],\n",
            "        [5676,  358, 3704, 6173, 4764],\n",
            "        [6339,  583, 5752, 1532, 5682],\n",
            "        [3411, 6184, 5096, 3669, 2764],\n",
            "        [2764, 3267,  319, 5254, 2764],\n",
            "        [1628, 3231, 3229, 3917, 2941],\n",
            "        [3311,  435, 3735, 2651,  317],\n",
            "        [5691, 6339, 5030, 2718, 4931],\n",
            "        [4071, 6211, 2066,  825, 5752],\n",
            "        [3231, 5752, 4500,  317, 1942],\n",
            "        [2316,  963, 6228, 2459, 5678],\n",
            "        [4013, 3643, 1873, 3552, 6289],\n",
            "        [6316, 3946,  597, 2718, 2623],\n",
            "        [3845, 3308, 5678, 2157, 3917],\n",
            "        [ 263, 6371, 6339, 3845,  583],\n",
            "        [5678, 6316,  817, 2883,  293],\n",
            "        [3019, 5752,  276, 2056, 5696],\n",
            "        [2883,  294, 6095, 4956,  817],\n",
            "        [6173, 1967, 1909, 1967,  817],\n",
            "        [1192, 6289, 5199, 3248, 2316],\n",
            "        [6214,  435, 6208,  435, 3748],\n",
            "        [ 669, 6052, 3943, 2049,  475],\n",
            "        [2764, 5678, 4171, 5678, 3399],\n",
            "        [5752, 1285, 6289, 2764,  319],\n",
            "        [2533, 5691, 4963,  817, 3845],\n",
            "        [5696, 6173, 5175, 5705, 1315],\n",
            "        [3960, 3941, 5251, 5657,   52]])\n",
            "Sample input labels: \n",
            " tensor([[3231, 6289, 5251, 3735, 1110],\n",
            "        [2712, 4382, 2729, 5678, 6245],\n",
            "        [3917, 2348, 2764,  319, 6230],\n",
            "        [6173, 3769, 1872, 4931, 3545],\n",
            "        [5973, 6289,   52, 2733, 2681],\n",
            "        [5256, 5664, 6289, 2791, 2212],\n",
            "        [5678, 4087, 2883, 4962, 2968],\n",
            "        [6173, 4710, 6222, 2791, 2266],\n",
            "        [ 749, 4693, 5618, 2362, 5680],\n",
            "        [5863, 5722, 4279,  319, 6220],\n",
            "        [6247, 6184, 2712,  263, 5509],\n",
            "        [2056, 4798, 5107, 6173, 5130],\n",
            "        [4380, 3917, 2599, 5678, 3669],\n",
            "        [5670, 2764, 3718, 3946, 2968],\n",
            "        [ 281,  125,  319, 3859, 5448],\n",
            "        [3051,  435, 3734,  764, 6173],\n",
            "        [5678, 1767,  319, 5685, 3733],\n",
            "        [5135,  583, 6095, 2539, 5752],\n",
            "        [6211, 6371, 2883, 6339, 3845],\n",
            "        [4188, 3011, 3495, 2765, 3467],\n",
            "        [ 787, 2764, 5200,  545, 6014],\n",
            "        [5752, 5678, 4201,  319, 3612],\n",
            "        [2553, 6095, 6208, 2968, 3747],\n",
            "        [1328,  837, 3516, 3824, 3104],\n",
            "        [ 358, 3704, 6173, 4764, 5752],\n",
            "        [ 583, 5752, 1532, 5682,  749],\n",
            "        [6184, 5096, 3669, 2764,  817],\n",
            "        [3267,  319, 5254, 2764, 4013],\n",
            "        [3231, 3229, 3917, 2941, 5676],\n",
            "        [ 435, 3735, 2651,  317, 2841],\n",
            "        [6339, 5030, 2718, 4931, 3946],\n",
            "        [6211, 2066,  825, 5752, 2535],\n",
            "        [5752, 4500,  317, 1942, 5752],\n",
            "        [ 963, 6228, 2459, 5678, 2996],\n",
            "        [3643, 1873, 3552, 6289, 3495],\n",
            "        [3946,  597, 2718, 2623, 4251],\n",
            "        [3308, 5678, 2157, 3917, 5678],\n",
            "        [6371, 6339, 3845,  583, 5251],\n",
            "        [6316,  817, 2883,  293, 5716],\n",
            "        [5752,  276, 2056, 5696, 1908],\n",
            "        [ 294, 6095, 4956,  817, 2883],\n",
            "        [1967, 1909, 1967,  817, 6220],\n",
            "        [6289, 5199, 3248, 2316,  798],\n",
            "        [ 435, 6208,  435, 3748, 3130],\n",
            "        [6052, 3943, 2049,  475,  577],\n",
            "        [5678, 4171, 5678, 3399, 5678],\n",
            "        [1285, 6289, 2764,  319, 2791],\n",
            "        [5691, 4963,  817, 3845, 2662],\n",
            "        [6173, 5175, 5705, 1315, 3845],\n",
            "        [3941, 5251, 5657,   52, 5486]])\n"
          ]
        }
      ],
      "source": [
        "# convert the words to indexes\n",
        "indexes = [word_to_idx[word] for word in words]\n",
        "X = np.array([indexes[i:i+5] for i in range(len(indexes) - 5)])\n",
        "y = np.array([indexes[i+1:i+6] for i in range(len(indexes) - 5)])\n",
        "\n",
        "# Convert your dataset to tensors\n",
        "train_data = TensorDataset(torch.from_numpy(X.astype('int')), torch.from_numpy(y.astype('int')))\n",
        "\n",
        "# dataloaders\n",
        "batch_size = 50\n",
        "\n",
        "# make sure to SHUFFLE your data\n",
        "train_loader = DataLoader(train_data, shuffle=True, batch_size=batch_size, drop_last=True)\n",
        "\n",
        "# obtain one batch of training data\n",
        "dataiter = iter(train_loader)\n",
        "sample_x, sample_y = next(dataiter)\n",
        "\n",
        "print('Sample input size: ', sample_x.size()) # batch_size, seq_length\n",
        "print('Sample input features: \\n', sample_x)\n",
        "print('Sample input labels: \\n', sample_y)"
      ],
      "metadata": {
        "pycharm": {
          "name": "#%%\n"
        },
        "id": "nX_yzB4xUurv",
        "outputId": "57076001-4bea-4412-93b7-1f16399c76dd"
      },
      "id": "nX_yzB4xUurv"
    },
    {
      "cell_type": "code",
      "execution_count": null,
      "outputs": [],
      "source": [
        "class LSTMGenerator(nn.Module):\n",
        "    def __init__(self, n_layers, vocab_size, hidden_dim, embedding_dim, device='cpu'):\n",
        "        super(LSTMGenerator,self).__init__()\n",
        "        self.output_dim = vocab_size\n",
        "        self.hidden_dim = hidden_dim\n",
        "        self.n_layers = n_layers\n",
        "        self.vocab_size = vocab_size\n",
        "        self.embedding_dim = embedding_dim\n",
        "        self.device=device\n",
        "\n",
        "        \"\"\"Initializes the constructor and defines the model parameters.\"\"\"\n",
        "\n",
        "        self.embeddings = nn.Embedding(num_embeddings=self.vocab_size, embedding_dim=self.embedding_dim)\n",
        "        self.lstm = nn.LSTM(input_size=self.embedding_dim, hidden_size=self.hidden_dim, num_layers=self.n_layers, batch_first=True)\n",
        "        self.fc = nn.Linear(self.hidden_dim, self.output_dim)\n",
        "\n",
        "        self.to(device)\n",
        "\n",
        "    def forward(self, x, hidden):\n",
        "        \"\"\"Computes the model forward pass.\n",
        "\n",
        "        Args:\n",
        "            x: The input text sequence with shape [batch_size, seq_len].\n",
        "\n",
        "        Returns:\n",
        "            logit: Expected shape is [batch_size, vocab_size].\n",
        "        \"\"\"\n",
        "        embeds = self.embeddings(x)\n",
        "        lstm_out, (hn, cn) = self.lstm(embeds, hidden)\n",
        "        logits = self.fc(lstm_out)\n",
        "\n",
        "        return logits, (hn, cn)\n",
        "\n",
        "    def init_hidden(self, batch_size):\n",
        "        ''' Initializes hidden state '''\n",
        "        h0 = torch.zeros((self.n_layers, batch_size, self.hidden_dim)).to(self.device)\n",
        "        c0 = torch.zeros((self.n_layers, batch_size, self.hidden_dim)).to(self.device)\n",
        "        hidden = (h0,c0)\n",
        "        return hidden\n",
        "\n",
        "    def detach_hidden(self, hidden):\n",
        "        h, c = hidden\n",
        "        h = h.detach()\n",
        "        c = c.detach()\n",
        "        return (h, c)"
      ],
      "metadata": {
        "pycharm": {
          "name": "#%%\n"
        },
        "id": "OfcGlxAKUurw"
      },
      "id": "OfcGlxAKUurw"
    },
    {
      "cell_type": "code",
      "execution_count": null,
      "outputs": [],
      "source": [
        "def make_optimizer(optimizer_name, model, **kwargs):\n",
        "    if optimizer_name=='Adam':\n",
        "        optimizer = torch.optim.Adam(model.parameters(),lr=kwargs['lr'])\n",
        "    elif optimizer_name=='SGD':\n",
        "        optimizer = torch.optim.SGD(model.parameters(),lr=kwargs['lr'], momentum=kwargs['momentum'], weight_decay=kwargs['weight_decay'])\n",
        "    else:\n",
        "        raise ValueError('Not valid optimizer name')\n",
        "    return optimizer\n",
        "\n",
        "def make_scheduler(scheduler_name, optimizer, **kwargs):\n",
        "    if scheduler_name=='MultiStepLR':\n",
        "        scheduler = torch.optim.lr_scheduler.MultiStepLR(optimizer, milestones=kwargs['milestones'], gamma=kwargs['factor'])\n",
        "    else:\n",
        "        raise ValueError('Not valid scheduler name')\n",
        "    return scheduler\n",
        "\n",
        "def train(model, hidden, loader, optimizer, criterion, device='cpu'):\n",
        "    train_loss = 0\n",
        "    num_all = 0\n",
        "    model.train()\n",
        "    for batch in loader:\n",
        "        current_batch_size = batch[0].shape[0]\n",
        "        optimizer.zero_grad()\n",
        "        hidden = model.detach_hidden(hidden)\n",
        "        output, hidden = model(batch[0].to(device), hidden)\n",
        "        loss = criterion(output.reshape(current_batch_size * 5, -1), batch[1].reshape(current_batch_size * 5).to(device))\n",
        "        loss.backward()\n",
        "        optimizer.step()\n",
        "        train_loss += loss.item() * current_batch_size\n",
        "        num_all += current_batch_size\n",
        "    return hidden, train_loss / num_all"
      ],
      "metadata": {
        "pycharm": {
          "name": "#%%\n"
        },
        "id": "nJQSUX-HUurw"
      },
      "id": "nJQSUX-HUurw"
    },
    {
      "cell_type": "code",
      "execution_count": null,
      "outputs": [
        {
          "name": "stdout",
          "output_type": "stream",
          "text": [
            "Start training...\n"
          ]
        },
        {
          "name": "stderr",
          "output_type": "stream",
          "text": [
            "Ep 19, loss 1.5761, lr 1e-04: 100%|█████████████████████████████████| 20/20 [11:32<00:00, 34.64s/it]"
          ]
        },
        {
          "name": "stdout",
          "output_type": "stream",
          "text": [
            "Done!\n"
          ]
        },
        {
          "name": "stderr",
          "output_type": "stream",
          "text": [
            "\n"
          ]
        }
      ],
      "source": [
        "##### ---- YOUR CODE HERE ---- #####\n",
        "device = torch.device('cuda' if torch.cuda.is_available() else 'cpu')\n",
        "\n",
        "# Step 1: Define model hyperparameters.\n",
        "embedding_dim = 400\n",
        "hidden_dim = 1024\n",
        "out_dim = vocab_size\n",
        "num_layers = 2\n",
        "num_epochs = 20\n",
        "\n",
        "\n",
        "# Step 2: Initialize the LSTM model.\n",
        "model_lstm = LSTMGenerator(\n",
        "    n_layers=num_layers,\n",
        "    vocab_size=vocab_size,\n",
        "    hidden_dim=hidden_dim,\n",
        "    embedding_dim=embedding_dim,\n",
        "    device=device\n",
        ")\n",
        "\n",
        "# Step 3: Set optimizer params for the utility functions (See usage below).\n",
        "learning_rate = 0.001\n",
        "optimizer_name = 'Adam'\n",
        "scheduler_name = 'MultiStepLR'\n",
        "##### ----                ---- #####\n",
        "\n",
        "criterion = nn.CrossEntropyLoss().to(device)\n",
        "optimizer = make_optimizer(optimizer_name, model_lstm, lr=learning_rate, momentum=0, weight_decay=0)\n",
        "scheduler = make_scheduler(scheduler_name, optimizer, milestones=[5], factor=0.1)\n",
        "\n",
        "print('Start training...')\n",
        "t = tqdm(range(num_epochs), ncols=100)\n",
        "for epoch in t:\n",
        "    hidden = model_lstm.init_hidden(batch_size=batch_size)\n",
        "    hidden, train_loss = train(model_lstm, hidden, train_loader, optimizer, criterion, device=device)\n",
        "    scheduler.step()\n",
        "    t.set_description('Ep %d, loss %.4f, lr %.0e' % (epoch, train_loss, optimizer.param_groups[0]['lr']))\n",
        "print('Done!')"
      ],
      "metadata": {
        "pycharm": {
          "name": "#%%\n"
        },
        "id": "l7hycVytUurw",
        "outputId": "61615638-8cf9-464c-8c98-30ade97582dc"
      },
      "id": "l7hycVytUurw"
    },
    {
      "cell_type": "code",
      "execution_count": null,
      "outputs": [
        {
          "name": "stdout",
          "output_type": "stream",
          "text": [
            "his natural shyness was overcome his behaviour gave every indication of an open affectionate heart his understanding was good and his education had given it solid improvement but he was neither fitted by abilities nor disposition to answer the wishes of his mother and sister would have begun but while she wondered at the difference of the two young men she did not find that the emptiness of conceit of the one put her out of all charity with the modesty and worth of the other why they were different robert exclaimed to her himself in the course of a\n"
          ]
        }
      ],
      "source": [
        "def predict_text(model, text, text_len=100):\n",
        "    model.eval()\n",
        "    state_hidden = model.init_hidden(1)\n",
        "    sentence = text.split(' ')\n",
        "    for i in range(text_len - len(text.split(' '))):\n",
        "        data = [word_to_idx[word] for word in sentence[-5:]]\n",
        "        data = torch.tensor(data, device=model.device).unsqueeze(0)\n",
        "        #your code here\n",
        "        state_hidden = model.detach_hidden(state_hidden)\n",
        "        new_word, state_hidden = model(data, state_hidden)\n",
        "        new_word = torch.argmax(new_word.squeeze(0), dim=1)[-1]\n",
        "\n",
        "        sentence.append(idx_to_word[new_word.item()])\n",
        "\n",
        "    return sentence\n",
        "\n",
        "text = 'his natural shyness was overcome'\n",
        "\n",
        "sentence = predict_text(model_lstm, text)\n",
        "\n",
        "print(' '.join(sentence))"
      ],
      "metadata": {
        "pycharm": {
          "name": "#%%\n"
        },
        "id": "mHU6OzPCUurw",
        "outputId": "f295e84a-5662-44d2-89ee-07ea7a5ade87"
      },
      "id": "mHU6OzPCUurw"
    },
    {
      "cell_type": "markdown",
      "source": [
        "## Problem 3: Recurrent model for human activity prediction"
      ],
      "metadata": {
        "collapsed": false,
        "pycharm": {
          "name": "#%% md\n"
        },
        "id": "PFTKMzurUurw"
      },
      "id": "PFTKMzurUurw"
    },
    {
      "cell_type": "markdown",
      "source": [
        "### Clean the data"
      ],
      "metadata": {
        "collapsed": false,
        "pycharm": {
          "name": "#%% md\n"
        },
        "id": "fUTHAcRaUurx"
      },
      "id": "fUTHAcRaUurx"
    },
    {
      "cell_type": "code",
      "execution_count": 3,
      "outputs": [
        {
          "output_type": "stream",
          "name": "stdout",
          "text": [
            "/content/Data/Data\n",
            "--2023-11-29 14:45:21--  http://www.cis.fordham.edu/wisdm/includes/datasets/latest/WISDM_ar_latest.tar.gz\n",
            "Resolving www.cis.fordham.edu (www.cis.fordham.edu)... 150.108.68.29\n",
            "Connecting to www.cis.fordham.edu (www.cis.fordham.edu)|150.108.68.29|:80... connected.\n",
            "HTTP request sent, awaiting response... 301 Moved Permanently\n",
            "Location: https://www.cis.fordham.edu/wisdm/includes/datasets/latest/WISDM_ar_latest.tar.gz [following]\n",
            "--2023-11-29 14:45:21--  https://www.cis.fordham.edu/wisdm/includes/datasets/latest/WISDM_ar_latest.tar.gz\n",
            "Connecting to www.cis.fordham.edu (www.cis.fordham.edu)|150.108.68.29|:443... connected.\n",
            "HTTP request sent, awaiting response... 200 OK\n",
            "Length: 11404612 (11M) [application/x-gzip]\n",
            "Saving to: ‘./Data/WISDM_ar_latest.tar.gz’\n",
            "\n",
            "WISDM_ar_latest.tar 100%[===================>]  10.88M  4.37MB/s    in 2.5s    \n",
            "\n",
            "2023-11-29 14:45:25 (4.37 MB/s) - ‘./Data/WISDM_ar_latest.tar.gz’ saved [11404612/11404612]\n",
            "\n",
            "WISDM_ar_v1.1/\n",
            "WISDM_ar_v1.1/readme.txt\n",
            "WISDM_ar_v1.1/WISDM_ar_v1.1_raw.txt\n",
            "WISDM_ar_v1.1/WISDM_ar_v1.1_raw_about.txt\n",
            "WISDM_ar_v1.1/WISDM_ar_v1.1_transformed.arff\n",
            "WISDM_ar_v1.1/WISDM_ar_v1.1_trans_about.txt\n"
          ]
        }
      ],
      "source": [
        "%cd Data\n",
        "!wget -P \"./Data\" -c 'http://www.cis.fordham.edu/wisdm/includes/datasets/latest/WISDM_ar_latest.tar.gz'\n",
        "!tar -xvzf \"./Data/WISDM_ar_latest.tar.gz\" -C \"./Data\""
      ],
      "metadata": {
        "pycharm": {
          "name": "#%%\n"
        },
        "colab": {
          "base_uri": "https://localhost:8080/"
        },
        "id": "rsMlSly1Uurx",
        "outputId": "9c16d1df-3288-42ed-a288-9dc88ede40a7"
      },
      "id": "rsMlSly1Uurx"
    },
    {
      "cell_type": "code",
      "execution_count": 1,
      "outputs": [],
      "source": [
        "import pandas as pd\n",
        "import numpy as np"
      ],
      "metadata": {
        "pycharm": {
          "name": "#%%\n"
        },
        "id": "tWgeWysMUurx"
      },
      "id": "tWgeWysMUurx"
    },
    {
      "cell_type": "code",
      "execution_count": 2,
      "outputs": [],
      "source": [
        "with open('./Data/WISDM_ar_v1.1/WISDM_ar_v1.1_raw.txt','r') as f:\n",
        "    data = f.read()\n",
        "    f.close()\n",
        "data = data.replace('\\n', '')\n",
        "data = data.replace(',;', ';')\n",
        "data = data.replace(' ', '')\n",
        "data = data.split(';')\n",
        "data = [x.split(',') for x in data]"
      ],
      "metadata": {
        "pycharm": {
          "name": "#%%\n"
        },
        "id": "_dxA7wXwUurx"
      },
      "id": "_dxA7wXwUurx"
    },
    {
      "cell_type": "code",
      "execution_count": 3,
      "outputs": [
        {
          "output_type": "stream",
          "name": "stdout",
          "text": [
            "11\n"
          ]
        }
      ],
      "source": [
        "length = [len(x) for x in data]\n",
        "print(np.max(length))"
      ],
      "metadata": {
        "pycharm": {
          "name": "#%%\n"
        },
        "colab": {
          "base_uri": "https://localhost:8080/"
        },
        "id": "1bvYMxNcUurx",
        "outputId": "487062ee-be57-456b-f1de-37da6a2f710d"
      },
      "id": "1bvYMxNcUurx"
    },
    {
      "cell_type": "code",
      "execution_count": 4,
      "outputs": [
        {
          "output_type": "stream",
          "name": "stdout",
          "text": [
            "(array([343419]),)\n"
          ]
        }
      ],
      "source": [
        "idxes = np.where(np.array(length) == 11)\n",
        "print(idxes)"
      ],
      "metadata": {
        "pycharm": {
          "name": "#%%\n"
        },
        "colab": {
          "base_uri": "https://localhost:8080/"
        },
        "id": "FYckP3fVUurx",
        "outputId": "03c8c18f-e707-44b5-f9f3-a1e82b153e50"
      },
      "id": "FYckP3fVUurx"
    },
    {
      "cell_type": "code",
      "execution_count": 5,
      "outputs": [
        {
          "output_type": "stream",
          "name": "stdout",
          "text": [
            "343419\n",
            "['11', 'Walking', '1867172313000', '4.4', '4.4', '11', 'Walking', '1867222270000', '5.48', '8.43', '9.724928']\n",
            "[['11', 'Walking', '1787022227000', '-1.57', '8.69', '1.4165162'], ['11', 'Walking', '1787072368000', '-2.56', '8.58', '1.879608'], ['11', 'Walking', '1867172313000', '4.4', '4.4', '11', 'Walking', '1867222270000', '5.48', '8.43', '9.724928'], ['11', 'Walking', '1867272288000', '5.71', '10.19', '1.4165162']]\n"
          ]
        }
      ],
      "source": [
        "print(idxes[0][0])\n",
        "print(data[idxes[0][0]])\n",
        "print(data[idxes[0][0]-2:idxes[0][0]+2])"
      ],
      "metadata": {
        "pycharm": {
          "name": "#%%\n"
        },
        "colab": {
          "base_uri": "https://localhost:8080/"
        },
        "id": "3xaXxbACUurx",
        "outputId": "7a26cbcf-3fd1-430f-cc4d-6adad719b159"
      },
      "id": "3xaXxbACUurx"
    },
    {
      "cell_type": "code",
      "execution_count": 6,
      "outputs": [
        {
          "output_type": "stream",
          "name": "stdout",
          "text": [
            "[['11', 'Walking', '1787022227000', '-1.57', '8.69', '1.4165162'], ['11', 'Walking', '1787072368000', '-2.56', '8.58', '1.879608'], ['11', 'Walking', '1867172313000', '4.4', '4.4'], ['11', 'Walking', '1867222270000', '5.48', '8.43', '9.724928'], ['11', 'Walking', '1867272288000', '5.71', '10.19', '1.4165162']]\n"
          ]
        }
      ],
      "source": [
        "problem_line = data[idxes[0][0]].copy()\n",
        "data.insert(idxes[0][0] + 1, problem_line[:5])\n",
        "data.insert(idxes[0][0] + 2, problem_line[5:])\n",
        "del data[idxes[0][0]]\n",
        "print(data[idxes[0][0]-2:idxes[0][0]+3])"
      ],
      "metadata": {
        "pycharm": {
          "name": "#%%\n"
        },
        "colab": {
          "base_uri": "https://localhost:8080/"
        },
        "id": "xfviRAARUurx",
        "outputId": "78af6ae1-5ef1-454a-f90a-57bbfc861d8c"
      },
      "id": "xfviRAARUurx"
    },
    {
      "cell_type": "code",
      "execution_count": 7,
      "outputs": [
        {
          "output_type": "stream",
          "name": "stdout",
          "text": [
            "6\n"
          ]
        }
      ],
      "source": [
        "length = [len(x) for x in data]\n",
        "print(np.max(length))"
      ],
      "metadata": {
        "pycharm": {
          "name": "#%%\n"
        },
        "colab": {
          "base_uri": "https://localhost:8080/"
        },
        "id": "Q8EsYo4SUury",
        "outputId": "50e44708-0e86-46db-d70a-2e07e4d75cbb"
      },
      "id": "Q8EsYo4SUury"
    },
    {
      "cell_type": "code",
      "execution_count": 8,
      "outputs": [],
      "source": [
        "df = pd.DataFrame(data)"
      ],
      "metadata": {
        "pycharm": {
          "name": "#%%\n"
        },
        "id": "Wvy2sw4eUury"
      },
      "id": "Wvy2sw4eUury"
    },
    {
      "cell_type": "code",
      "execution_count": 9,
      "outputs": [],
      "source": [
        "df.columns = [\"user\", \"activity\", \"timeastamp\", \"x\", 'y','z']\n",
        "df.head()\n",
        "df[['x','y','z']] = df[['x','y','z']].apply(pd.to_numeric, errors='coerce')"
      ],
      "metadata": {
        "pycharm": {
          "name": "#%%\n"
        },
        "id": "YkrzI9VqUury"
      },
      "id": "YkrzI9VqUury"
    },
    {
      "cell_type": "code",
      "execution_count": 10,
      "outputs": [
        {
          "output_type": "execute_result",
          "data": {
            "text/plain": [
              "        user activity     timeastamp    x    y   z\n",
              "343419    11  Walking  1867172313000  4.4  4.4 NaN\n",
              "1098209          None           None  NaN  NaN NaN"
            ],
            "text/html": [
              "\n",
              "  <div id=\"df-4d57a391-0929-4af3-be29-c0a65bfb2a77\" class=\"colab-df-container\">\n",
              "    <div>\n",
              "<style scoped>\n",
              "    .dataframe tbody tr th:only-of-type {\n",
              "        vertical-align: middle;\n",
              "    }\n",
              "\n",
              "    .dataframe tbody tr th {\n",
              "        vertical-align: top;\n",
              "    }\n",
              "\n",
              "    .dataframe thead th {\n",
              "        text-align: right;\n",
              "    }\n",
              "</style>\n",
              "<table border=\"1\" class=\"dataframe\">\n",
              "  <thead>\n",
              "    <tr style=\"text-align: right;\">\n",
              "      <th></th>\n",
              "      <th>user</th>\n",
              "      <th>activity</th>\n",
              "      <th>timeastamp</th>\n",
              "      <th>x</th>\n",
              "      <th>y</th>\n",
              "      <th>z</th>\n",
              "    </tr>\n",
              "  </thead>\n",
              "  <tbody>\n",
              "    <tr>\n",
              "      <th>343419</th>\n",
              "      <td>11</td>\n",
              "      <td>Walking</td>\n",
              "      <td>1867172313000</td>\n",
              "      <td>4.4</td>\n",
              "      <td>4.4</td>\n",
              "      <td>NaN</td>\n",
              "    </tr>\n",
              "    <tr>\n",
              "      <th>1098209</th>\n",
              "      <td></td>\n",
              "      <td>None</td>\n",
              "      <td>None</td>\n",
              "      <td>NaN</td>\n",
              "      <td>NaN</td>\n",
              "      <td>NaN</td>\n",
              "    </tr>\n",
              "  </tbody>\n",
              "</table>\n",
              "</div>\n",
              "    <div class=\"colab-df-buttons\">\n",
              "\n",
              "  <div class=\"colab-df-container\">\n",
              "    <button class=\"colab-df-convert\" onclick=\"convertToInteractive('df-4d57a391-0929-4af3-be29-c0a65bfb2a77')\"\n",
              "            title=\"Convert this dataframe to an interactive table.\"\n",
              "            style=\"display:none;\">\n",
              "\n",
              "  <svg xmlns=\"http://www.w3.org/2000/svg\" height=\"24px\" viewBox=\"0 -960 960 960\">\n",
              "    <path d=\"M120-120v-720h720v720H120Zm60-500h600v-160H180v160Zm220 220h160v-160H400v160Zm0 220h160v-160H400v160ZM180-400h160v-160H180v160Zm440 0h160v-160H620v160ZM180-180h160v-160H180v160Zm440 0h160v-160H620v160Z\"/>\n",
              "  </svg>\n",
              "    </button>\n",
              "\n",
              "  <style>\n",
              "    .colab-df-container {\n",
              "      display:flex;\n",
              "      gap: 12px;\n",
              "    }\n",
              "\n",
              "    .colab-df-convert {\n",
              "      background-color: #E8F0FE;\n",
              "      border: none;\n",
              "      border-radius: 50%;\n",
              "      cursor: pointer;\n",
              "      display: none;\n",
              "      fill: #1967D2;\n",
              "      height: 32px;\n",
              "      padding: 0 0 0 0;\n",
              "      width: 32px;\n",
              "    }\n",
              "\n",
              "    .colab-df-convert:hover {\n",
              "      background-color: #E2EBFA;\n",
              "      box-shadow: 0px 1px 2px rgba(60, 64, 67, 0.3), 0px 1px 3px 1px rgba(60, 64, 67, 0.15);\n",
              "      fill: #174EA6;\n",
              "    }\n",
              "\n",
              "    .colab-df-buttons div {\n",
              "      margin-bottom: 4px;\n",
              "    }\n",
              "\n",
              "    [theme=dark] .colab-df-convert {\n",
              "      background-color: #3B4455;\n",
              "      fill: #D2E3FC;\n",
              "    }\n",
              "\n",
              "    [theme=dark] .colab-df-convert:hover {\n",
              "      background-color: #434B5C;\n",
              "      box-shadow: 0px 1px 3px 1px rgba(0, 0, 0, 0.15);\n",
              "      filter: drop-shadow(0px 1px 2px rgba(0, 0, 0, 0.3));\n",
              "      fill: #FFFFFF;\n",
              "    }\n",
              "  </style>\n",
              "\n",
              "    <script>\n",
              "      const buttonEl =\n",
              "        document.querySelector('#df-4d57a391-0929-4af3-be29-c0a65bfb2a77 button.colab-df-convert');\n",
              "      buttonEl.style.display =\n",
              "        google.colab.kernel.accessAllowed ? 'block' : 'none';\n",
              "\n",
              "      async function convertToInteractive(key) {\n",
              "        const element = document.querySelector('#df-4d57a391-0929-4af3-be29-c0a65bfb2a77');\n",
              "        const dataTable =\n",
              "          await google.colab.kernel.invokeFunction('convertToInteractive',\n",
              "                                                    [key], {});\n",
              "        if (!dataTable) return;\n",
              "\n",
              "        const docLinkHtml = 'Like what you see? Visit the ' +\n",
              "          '<a target=\"_blank\" href=https://colab.research.google.com/notebooks/data_table.ipynb>data table notebook</a>'\n",
              "          + ' to learn more about interactive tables.';\n",
              "        element.innerHTML = '';\n",
              "        dataTable['output_type'] = 'display_data';\n",
              "        await google.colab.output.renderOutput(dataTable, element);\n",
              "        const docLink = document.createElement('div');\n",
              "        docLink.innerHTML = docLinkHtml;\n",
              "        element.appendChild(docLink);\n",
              "      }\n",
              "    </script>\n",
              "  </div>\n",
              "\n",
              "\n",
              "<div id=\"df-98a4d39a-5381-466a-bbb6-c37ec408a880\">\n",
              "  <button class=\"colab-df-quickchart\" onclick=\"quickchart('df-98a4d39a-5381-466a-bbb6-c37ec408a880')\"\n",
              "            title=\"Suggest charts\"\n",
              "            style=\"display:none;\">\n",
              "\n",
              "<svg xmlns=\"http://www.w3.org/2000/svg\" height=\"24px\"viewBox=\"0 0 24 24\"\n",
              "     width=\"24px\">\n",
              "    <g>\n",
              "        <path d=\"M19 3H5c-1.1 0-2 .9-2 2v14c0 1.1.9 2 2 2h14c1.1 0 2-.9 2-2V5c0-1.1-.9-2-2-2zM9 17H7v-7h2v7zm4 0h-2V7h2v10zm4 0h-2v-4h2v4z\"/>\n",
              "    </g>\n",
              "</svg>\n",
              "  </button>\n",
              "\n",
              "<style>\n",
              "  .colab-df-quickchart {\n",
              "      --bg-color: #E8F0FE;\n",
              "      --fill-color: #1967D2;\n",
              "      --hover-bg-color: #E2EBFA;\n",
              "      --hover-fill-color: #174EA6;\n",
              "      --disabled-fill-color: #AAA;\n",
              "      --disabled-bg-color: #DDD;\n",
              "  }\n",
              "\n",
              "  [theme=dark] .colab-df-quickchart {\n",
              "      --bg-color: #3B4455;\n",
              "      --fill-color: #D2E3FC;\n",
              "      --hover-bg-color: #434B5C;\n",
              "      --hover-fill-color: #FFFFFF;\n",
              "      --disabled-bg-color: #3B4455;\n",
              "      --disabled-fill-color: #666;\n",
              "  }\n",
              "\n",
              "  .colab-df-quickchart {\n",
              "    background-color: var(--bg-color);\n",
              "    border: none;\n",
              "    border-radius: 50%;\n",
              "    cursor: pointer;\n",
              "    display: none;\n",
              "    fill: var(--fill-color);\n",
              "    height: 32px;\n",
              "    padding: 0;\n",
              "    width: 32px;\n",
              "  }\n",
              "\n",
              "  .colab-df-quickchart:hover {\n",
              "    background-color: var(--hover-bg-color);\n",
              "    box-shadow: 0 1px 2px rgba(60, 64, 67, 0.3), 0 1px 3px 1px rgba(60, 64, 67, 0.15);\n",
              "    fill: var(--button-hover-fill-color);\n",
              "  }\n",
              "\n",
              "  .colab-df-quickchart-complete:disabled,\n",
              "  .colab-df-quickchart-complete:disabled:hover {\n",
              "    background-color: var(--disabled-bg-color);\n",
              "    fill: var(--disabled-fill-color);\n",
              "    box-shadow: none;\n",
              "  }\n",
              "\n",
              "  .colab-df-spinner {\n",
              "    border: 2px solid var(--fill-color);\n",
              "    border-color: transparent;\n",
              "    border-bottom-color: var(--fill-color);\n",
              "    animation:\n",
              "      spin 1s steps(1) infinite;\n",
              "  }\n",
              "\n",
              "  @keyframes spin {\n",
              "    0% {\n",
              "      border-color: transparent;\n",
              "      border-bottom-color: var(--fill-color);\n",
              "      border-left-color: var(--fill-color);\n",
              "    }\n",
              "    20% {\n",
              "      border-color: transparent;\n",
              "      border-left-color: var(--fill-color);\n",
              "      border-top-color: var(--fill-color);\n",
              "    }\n",
              "    30% {\n",
              "      border-color: transparent;\n",
              "      border-left-color: var(--fill-color);\n",
              "      border-top-color: var(--fill-color);\n",
              "      border-right-color: var(--fill-color);\n",
              "    }\n",
              "    40% {\n",
              "      border-color: transparent;\n",
              "      border-right-color: var(--fill-color);\n",
              "      border-top-color: var(--fill-color);\n",
              "    }\n",
              "    60% {\n",
              "      border-color: transparent;\n",
              "      border-right-color: var(--fill-color);\n",
              "    }\n",
              "    80% {\n",
              "      border-color: transparent;\n",
              "      border-right-color: var(--fill-color);\n",
              "      border-bottom-color: var(--fill-color);\n",
              "    }\n",
              "    90% {\n",
              "      border-color: transparent;\n",
              "      border-bottom-color: var(--fill-color);\n",
              "    }\n",
              "  }\n",
              "</style>\n",
              "\n",
              "  <script>\n",
              "    async function quickchart(key) {\n",
              "      const quickchartButtonEl =\n",
              "        document.querySelector('#' + key + ' button');\n",
              "      quickchartButtonEl.disabled = true;  // To prevent multiple clicks.\n",
              "      quickchartButtonEl.classList.add('colab-df-spinner');\n",
              "      try {\n",
              "        const charts = await google.colab.kernel.invokeFunction(\n",
              "            'suggestCharts', [key], {});\n",
              "      } catch (error) {\n",
              "        console.error('Error during call to suggestCharts:', error);\n",
              "      }\n",
              "      quickchartButtonEl.classList.remove('colab-df-spinner');\n",
              "      quickchartButtonEl.classList.add('colab-df-quickchart-complete');\n",
              "    }\n",
              "    (() => {\n",
              "      let quickchartButtonEl =\n",
              "        document.querySelector('#df-98a4d39a-5381-466a-bbb6-c37ec408a880 button');\n",
              "      quickchartButtonEl.style.display =\n",
              "        google.colab.kernel.accessAllowed ? 'block' : 'none';\n",
              "    })();\n",
              "  </script>\n",
              "</div>\n",
              "    </div>\n",
              "  </div>\n"
            ]
          },
          "metadata": {},
          "execution_count": 10
        }
      ],
      "source": [
        "null_rows = df[df.isnull().any(axis=1)]\n",
        "null_rows"
      ],
      "metadata": {
        "pycharm": {
          "name": "#%%\n"
        },
        "colab": {
          "base_uri": "https://localhost:8080/",
          "height": 112
        },
        "id": "YHs51c10Uury",
        "outputId": "ac5fe871-b4b6-4778-b363-7513a987cf32"
      },
      "id": "YHs51c10Uury"
    },
    {
      "cell_type": "code",
      "execution_count": 11,
      "outputs": [
        {
          "output_type": "execute_result",
          "data": {
            "text/plain": [
              "        user activity     timeastamp    x    y   z\n",
              "343419    11  Walking  1867172313000  4.4  4.4 NaN\n",
              "1098209          None           None  NaN  NaN NaN"
            ],
            "text/html": [
              "\n",
              "  <div id=\"df-ce181c22-5778-49fe-9991-2b314088f342\" class=\"colab-df-container\">\n",
              "    <div>\n",
              "<style scoped>\n",
              "    .dataframe tbody tr th:only-of-type {\n",
              "        vertical-align: middle;\n",
              "    }\n",
              "\n",
              "    .dataframe tbody tr th {\n",
              "        vertical-align: top;\n",
              "    }\n",
              "\n",
              "    .dataframe thead th {\n",
              "        text-align: right;\n",
              "    }\n",
              "</style>\n",
              "<table border=\"1\" class=\"dataframe\">\n",
              "  <thead>\n",
              "    <tr style=\"text-align: right;\">\n",
              "      <th></th>\n",
              "      <th>user</th>\n",
              "      <th>activity</th>\n",
              "      <th>timeastamp</th>\n",
              "      <th>x</th>\n",
              "      <th>y</th>\n",
              "      <th>z</th>\n",
              "    </tr>\n",
              "  </thead>\n",
              "  <tbody>\n",
              "    <tr>\n",
              "      <th>343419</th>\n",
              "      <td>11</td>\n",
              "      <td>Walking</td>\n",
              "      <td>1867172313000</td>\n",
              "      <td>4.4</td>\n",
              "      <td>4.4</td>\n",
              "      <td>NaN</td>\n",
              "    </tr>\n",
              "    <tr>\n",
              "      <th>1098209</th>\n",
              "      <td></td>\n",
              "      <td>None</td>\n",
              "      <td>None</td>\n",
              "      <td>NaN</td>\n",
              "      <td>NaN</td>\n",
              "      <td>NaN</td>\n",
              "    </tr>\n",
              "  </tbody>\n",
              "</table>\n",
              "</div>\n",
              "    <div class=\"colab-df-buttons\">\n",
              "\n",
              "  <div class=\"colab-df-container\">\n",
              "    <button class=\"colab-df-convert\" onclick=\"convertToInteractive('df-ce181c22-5778-49fe-9991-2b314088f342')\"\n",
              "            title=\"Convert this dataframe to an interactive table.\"\n",
              "            style=\"display:none;\">\n",
              "\n",
              "  <svg xmlns=\"http://www.w3.org/2000/svg\" height=\"24px\" viewBox=\"0 -960 960 960\">\n",
              "    <path d=\"M120-120v-720h720v720H120Zm60-500h600v-160H180v160Zm220 220h160v-160H400v160Zm0 220h160v-160H400v160ZM180-400h160v-160H180v160Zm440 0h160v-160H620v160ZM180-180h160v-160H180v160Zm440 0h160v-160H620v160Z\"/>\n",
              "  </svg>\n",
              "    </button>\n",
              "\n",
              "  <style>\n",
              "    .colab-df-container {\n",
              "      display:flex;\n",
              "      gap: 12px;\n",
              "    }\n",
              "\n",
              "    .colab-df-convert {\n",
              "      background-color: #E8F0FE;\n",
              "      border: none;\n",
              "      border-radius: 50%;\n",
              "      cursor: pointer;\n",
              "      display: none;\n",
              "      fill: #1967D2;\n",
              "      height: 32px;\n",
              "      padding: 0 0 0 0;\n",
              "      width: 32px;\n",
              "    }\n",
              "\n",
              "    .colab-df-convert:hover {\n",
              "      background-color: #E2EBFA;\n",
              "      box-shadow: 0px 1px 2px rgba(60, 64, 67, 0.3), 0px 1px 3px 1px rgba(60, 64, 67, 0.15);\n",
              "      fill: #174EA6;\n",
              "    }\n",
              "\n",
              "    .colab-df-buttons div {\n",
              "      margin-bottom: 4px;\n",
              "    }\n",
              "\n",
              "    [theme=dark] .colab-df-convert {\n",
              "      background-color: #3B4455;\n",
              "      fill: #D2E3FC;\n",
              "    }\n",
              "\n",
              "    [theme=dark] .colab-df-convert:hover {\n",
              "      background-color: #434B5C;\n",
              "      box-shadow: 0px 1px 3px 1px rgba(0, 0, 0, 0.15);\n",
              "      filter: drop-shadow(0px 1px 2px rgba(0, 0, 0, 0.3));\n",
              "      fill: #FFFFFF;\n",
              "    }\n",
              "  </style>\n",
              "\n",
              "    <script>\n",
              "      const buttonEl =\n",
              "        document.querySelector('#df-ce181c22-5778-49fe-9991-2b314088f342 button.colab-df-convert');\n",
              "      buttonEl.style.display =\n",
              "        google.colab.kernel.accessAllowed ? 'block' : 'none';\n",
              "\n",
              "      async function convertToInteractive(key) {\n",
              "        const element = document.querySelector('#df-ce181c22-5778-49fe-9991-2b314088f342');\n",
              "        const dataTable =\n",
              "          await google.colab.kernel.invokeFunction('convertToInteractive',\n",
              "                                                    [key], {});\n",
              "        if (!dataTable) return;\n",
              "\n",
              "        const docLinkHtml = 'Like what you see? Visit the ' +\n",
              "          '<a target=\"_blank\" href=https://colab.research.google.com/notebooks/data_table.ipynb>data table notebook</a>'\n",
              "          + ' to learn more about interactive tables.';\n",
              "        element.innerHTML = '';\n",
              "        dataTable['output_type'] = 'display_data';\n",
              "        await google.colab.output.renderOutput(dataTable, element);\n",
              "        const docLink = document.createElement('div');\n",
              "        docLink.innerHTML = docLinkHtml;\n",
              "        element.appendChild(docLink);\n",
              "      }\n",
              "    </script>\n",
              "  </div>\n",
              "\n",
              "\n",
              "<div id=\"df-d418c2b8-7872-4d81-9eb9-3fc4d4df7a19\">\n",
              "  <button class=\"colab-df-quickchart\" onclick=\"quickchart('df-d418c2b8-7872-4d81-9eb9-3fc4d4df7a19')\"\n",
              "            title=\"Suggest charts\"\n",
              "            style=\"display:none;\">\n",
              "\n",
              "<svg xmlns=\"http://www.w3.org/2000/svg\" height=\"24px\"viewBox=\"0 0 24 24\"\n",
              "     width=\"24px\">\n",
              "    <g>\n",
              "        <path d=\"M19 3H5c-1.1 0-2 .9-2 2v14c0 1.1.9 2 2 2h14c1.1 0 2-.9 2-2V5c0-1.1-.9-2-2-2zM9 17H7v-7h2v7zm4 0h-2V7h2v10zm4 0h-2v-4h2v4z\"/>\n",
              "    </g>\n",
              "</svg>\n",
              "  </button>\n",
              "\n",
              "<style>\n",
              "  .colab-df-quickchart {\n",
              "      --bg-color: #E8F0FE;\n",
              "      --fill-color: #1967D2;\n",
              "      --hover-bg-color: #E2EBFA;\n",
              "      --hover-fill-color: #174EA6;\n",
              "      --disabled-fill-color: #AAA;\n",
              "      --disabled-bg-color: #DDD;\n",
              "  }\n",
              "\n",
              "  [theme=dark] .colab-df-quickchart {\n",
              "      --bg-color: #3B4455;\n",
              "      --fill-color: #D2E3FC;\n",
              "      --hover-bg-color: #434B5C;\n",
              "      --hover-fill-color: #FFFFFF;\n",
              "      --disabled-bg-color: #3B4455;\n",
              "      --disabled-fill-color: #666;\n",
              "  }\n",
              "\n",
              "  .colab-df-quickchart {\n",
              "    background-color: var(--bg-color);\n",
              "    border: none;\n",
              "    border-radius: 50%;\n",
              "    cursor: pointer;\n",
              "    display: none;\n",
              "    fill: var(--fill-color);\n",
              "    height: 32px;\n",
              "    padding: 0;\n",
              "    width: 32px;\n",
              "  }\n",
              "\n",
              "  .colab-df-quickchart:hover {\n",
              "    background-color: var(--hover-bg-color);\n",
              "    box-shadow: 0 1px 2px rgba(60, 64, 67, 0.3), 0 1px 3px 1px rgba(60, 64, 67, 0.15);\n",
              "    fill: var(--button-hover-fill-color);\n",
              "  }\n",
              "\n",
              "  .colab-df-quickchart-complete:disabled,\n",
              "  .colab-df-quickchart-complete:disabled:hover {\n",
              "    background-color: var(--disabled-bg-color);\n",
              "    fill: var(--disabled-fill-color);\n",
              "    box-shadow: none;\n",
              "  }\n",
              "\n",
              "  .colab-df-spinner {\n",
              "    border: 2px solid var(--fill-color);\n",
              "    border-color: transparent;\n",
              "    border-bottom-color: var(--fill-color);\n",
              "    animation:\n",
              "      spin 1s steps(1) infinite;\n",
              "  }\n",
              "\n",
              "  @keyframes spin {\n",
              "    0% {\n",
              "      border-color: transparent;\n",
              "      border-bottom-color: var(--fill-color);\n",
              "      border-left-color: var(--fill-color);\n",
              "    }\n",
              "    20% {\n",
              "      border-color: transparent;\n",
              "      border-left-color: var(--fill-color);\n",
              "      border-top-color: var(--fill-color);\n",
              "    }\n",
              "    30% {\n",
              "      border-color: transparent;\n",
              "      border-left-color: var(--fill-color);\n",
              "      border-top-color: var(--fill-color);\n",
              "      border-right-color: var(--fill-color);\n",
              "    }\n",
              "    40% {\n",
              "      border-color: transparent;\n",
              "      border-right-color: var(--fill-color);\n",
              "      border-top-color: var(--fill-color);\n",
              "    }\n",
              "    60% {\n",
              "      border-color: transparent;\n",
              "      border-right-color: var(--fill-color);\n",
              "    }\n",
              "    80% {\n",
              "      border-color: transparent;\n",
              "      border-right-color: var(--fill-color);\n",
              "      border-bottom-color: var(--fill-color);\n",
              "    }\n",
              "    90% {\n",
              "      border-color: transparent;\n",
              "      border-bottom-color: var(--fill-color);\n",
              "    }\n",
              "  }\n",
              "</style>\n",
              "\n",
              "  <script>\n",
              "    async function quickchart(key) {\n",
              "      const quickchartButtonEl =\n",
              "        document.querySelector('#' + key + ' button');\n",
              "      quickchartButtonEl.disabled = true;  // To prevent multiple clicks.\n",
              "      quickchartButtonEl.classList.add('colab-df-spinner');\n",
              "      try {\n",
              "        const charts = await google.colab.kernel.invokeFunction(\n",
              "            'suggestCharts', [key], {});\n",
              "      } catch (error) {\n",
              "        console.error('Error during call to suggestCharts:', error);\n",
              "      }\n",
              "      quickchartButtonEl.classList.remove('colab-df-spinner');\n",
              "      quickchartButtonEl.classList.add('colab-df-quickchart-complete');\n",
              "    }\n",
              "    (() => {\n",
              "      let quickchartButtonEl =\n",
              "        document.querySelector('#df-d418c2b8-7872-4d81-9eb9-3fc4d4df7a19 button');\n",
              "      quickchartButtonEl.style.display =\n",
              "        google.colab.kernel.accessAllowed ? 'block' : 'none';\n",
              "    })();\n",
              "  </script>\n",
              "</div>\n",
              "    </div>\n",
              "  </div>\n"
            ]
          },
          "metadata": {},
          "execution_count": 11
        }
      ],
      "source": [
        "z = df['z']\n",
        "z = pd.to_numeric(z, errors='coerce')\n",
        "bad_samples = z.index[z.apply(np.isnan)]\n",
        "df.iloc[bad_samples]"
      ],
      "metadata": {
        "pycharm": {
          "name": "#%%\n"
        },
        "colab": {
          "base_uri": "https://localhost:8080/",
          "height": 112
        },
        "id": "E_hFY7wTUury",
        "outputId": "d5363205-07e1-47c0-9a4a-8b6ed78f7076"
      },
      "id": "E_hFY7wTUury"
    },
    {
      "cell_type": "code",
      "execution_count": 12,
      "outputs": [
        {
          "output_type": "stream",
          "name": "stdout",
          "text": [
            "       user activity     timeastamp     x     y         z\n",
            "343417   11  Walking  1787022227000 -1.57  8.69  1.416516\n",
            "343418   11  Walking  1787072368000 -2.56  8.58  1.879608\n",
            "343419   11  Walking  1867172313000  4.40  4.40       NaN\n",
            "343420   11  Walking  1867222270000  5.48  8.43  9.724928\n"
          ]
        }
      ],
      "source": [
        "print(df.iloc[343417:343421])"
      ],
      "metadata": {
        "pycharm": {
          "name": "#%%\n"
        },
        "colab": {
          "base_uri": "https://localhost:8080/"
        },
        "id": "EdsxzBFEUury",
        "outputId": "2eafbb0c-3526-4871-e05a-da1172c451b7"
      },
      "id": "EdsxzBFEUury"
    },
    {
      "cell_type": "code",
      "execution_count": 13,
      "outputs": [
        {
          "output_type": "execute_result",
          "data": {
            "text/plain": [
              "       user activity     timeastamp     x     y         z\n",
              "343418   11  Walking  1787072368000 -2.56  8.58  1.879608\n",
              "343419   11  Walking  1867172313000  4.40  4.40  5.802268\n",
              "343420   11  Walking  1867222270000  5.48  8.43  9.724928"
            ],
            "text/html": [
              "\n",
              "  <div id=\"df-a24b6fa6-75f4-48c7-89b8-61c5e63cf0a3\" class=\"colab-df-container\">\n",
              "    <div>\n",
              "<style scoped>\n",
              "    .dataframe tbody tr th:only-of-type {\n",
              "        vertical-align: middle;\n",
              "    }\n",
              "\n",
              "    .dataframe tbody tr th {\n",
              "        vertical-align: top;\n",
              "    }\n",
              "\n",
              "    .dataframe thead th {\n",
              "        text-align: right;\n",
              "    }\n",
              "</style>\n",
              "<table border=\"1\" class=\"dataframe\">\n",
              "  <thead>\n",
              "    <tr style=\"text-align: right;\">\n",
              "      <th></th>\n",
              "      <th>user</th>\n",
              "      <th>activity</th>\n",
              "      <th>timeastamp</th>\n",
              "      <th>x</th>\n",
              "      <th>y</th>\n",
              "      <th>z</th>\n",
              "    </tr>\n",
              "  </thead>\n",
              "  <tbody>\n",
              "    <tr>\n",
              "      <th>343418</th>\n",
              "      <td>11</td>\n",
              "      <td>Walking</td>\n",
              "      <td>1787072368000</td>\n",
              "      <td>-2.56</td>\n",
              "      <td>8.58</td>\n",
              "      <td>1.879608</td>\n",
              "    </tr>\n",
              "    <tr>\n",
              "      <th>343419</th>\n",
              "      <td>11</td>\n",
              "      <td>Walking</td>\n",
              "      <td>1867172313000</td>\n",
              "      <td>4.40</td>\n",
              "      <td>4.40</td>\n",
              "      <td>5.802268</td>\n",
              "    </tr>\n",
              "    <tr>\n",
              "      <th>343420</th>\n",
              "      <td>11</td>\n",
              "      <td>Walking</td>\n",
              "      <td>1867222270000</td>\n",
              "      <td>5.48</td>\n",
              "      <td>8.43</td>\n",
              "      <td>9.724928</td>\n",
              "    </tr>\n",
              "  </tbody>\n",
              "</table>\n",
              "</div>\n",
              "    <div class=\"colab-df-buttons\">\n",
              "\n",
              "  <div class=\"colab-df-container\">\n",
              "    <button class=\"colab-df-convert\" onclick=\"convertToInteractive('df-a24b6fa6-75f4-48c7-89b8-61c5e63cf0a3')\"\n",
              "            title=\"Convert this dataframe to an interactive table.\"\n",
              "            style=\"display:none;\">\n",
              "\n",
              "  <svg xmlns=\"http://www.w3.org/2000/svg\" height=\"24px\" viewBox=\"0 -960 960 960\">\n",
              "    <path d=\"M120-120v-720h720v720H120Zm60-500h600v-160H180v160Zm220 220h160v-160H400v160Zm0 220h160v-160H400v160ZM180-400h160v-160H180v160Zm440 0h160v-160H620v160ZM180-180h160v-160H180v160Zm440 0h160v-160H620v160Z\"/>\n",
              "  </svg>\n",
              "    </button>\n",
              "\n",
              "  <style>\n",
              "    .colab-df-container {\n",
              "      display:flex;\n",
              "      gap: 12px;\n",
              "    }\n",
              "\n",
              "    .colab-df-convert {\n",
              "      background-color: #E8F0FE;\n",
              "      border: none;\n",
              "      border-radius: 50%;\n",
              "      cursor: pointer;\n",
              "      display: none;\n",
              "      fill: #1967D2;\n",
              "      height: 32px;\n",
              "      padding: 0 0 0 0;\n",
              "      width: 32px;\n",
              "    }\n",
              "\n",
              "    .colab-df-convert:hover {\n",
              "      background-color: #E2EBFA;\n",
              "      box-shadow: 0px 1px 2px rgba(60, 64, 67, 0.3), 0px 1px 3px 1px rgba(60, 64, 67, 0.15);\n",
              "      fill: #174EA6;\n",
              "    }\n",
              "\n",
              "    .colab-df-buttons div {\n",
              "      margin-bottom: 4px;\n",
              "    }\n",
              "\n",
              "    [theme=dark] .colab-df-convert {\n",
              "      background-color: #3B4455;\n",
              "      fill: #D2E3FC;\n",
              "    }\n",
              "\n",
              "    [theme=dark] .colab-df-convert:hover {\n",
              "      background-color: #434B5C;\n",
              "      box-shadow: 0px 1px 3px 1px rgba(0, 0, 0, 0.15);\n",
              "      filter: drop-shadow(0px 1px 2px rgba(0, 0, 0, 0.3));\n",
              "      fill: #FFFFFF;\n",
              "    }\n",
              "  </style>\n",
              "\n",
              "    <script>\n",
              "      const buttonEl =\n",
              "        document.querySelector('#df-a24b6fa6-75f4-48c7-89b8-61c5e63cf0a3 button.colab-df-convert');\n",
              "      buttonEl.style.display =\n",
              "        google.colab.kernel.accessAllowed ? 'block' : 'none';\n",
              "\n",
              "      async function convertToInteractive(key) {\n",
              "        const element = document.querySelector('#df-a24b6fa6-75f4-48c7-89b8-61c5e63cf0a3');\n",
              "        const dataTable =\n",
              "          await google.colab.kernel.invokeFunction('convertToInteractive',\n",
              "                                                    [key], {});\n",
              "        if (!dataTable) return;\n",
              "\n",
              "        const docLinkHtml = 'Like what you see? Visit the ' +\n",
              "          '<a target=\"_blank\" href=https://colab.research.google.com/notebooks/data_table.ipynb>data table notebook</a>'\n",
              "          + ' to learn more about interactive tables.';\n",
              "        element.innerHTML = '';\n",
              "        dataTable['output_type'] = 'display_data';\n",
              "        await google.colab.output.renderOutput(dataTable, element);\n",
              "        const docLink = document.createElement('div');\n",
              "        docLink.innerHTML = docLinkHtml;\n",
              "        element.appendChild(docLink);\n",
              "      }\n",
              "    </script>\n",
              "  </div>\n",
              "\n",
              "\n",
              "<div id=\"df-7ecc47c9-5bbf-49b6-a308-e0fba8f8bdad\">\n",
              "  <button class=\"colab-df-quickchart\" onclick=\"quickchart('df-7ecc47c9-5bbf-49b6-a308-e0fba8f8bdad')\"\n",
              "            title=\"Suggest charts\"\n",
              "            style=\"display:none;\">\n",
              "\n",
              "<svg xmlns=\"http://www.w3.org/2000/svg\" height=\"24px\"viewBox=\"0 0 24 24\"\n",
              "     width=\"24px\">\n",
              "    <g>\n",
              "        <path d=\"M19 3H5c-1.1 0-2 .9-2 2v14c0 1.1.9 2 2 2h14c1.1 0 2-.9 2-2V5c0-1.1-.9-2-2-2zM9 17H7v-7h2v7zm4 0h-2V7h2v10zm4 0h-2v-4h2v4z\"/>\n",
              "    </g>\n",
              "</svg>\n",
              "  </button>\n",
              "\n",
              "<style>\n",
              "  .colab-df-quickchart {\n",
              "      --bg-color: #E8F0FE;\n",
              "      --fill-color: #1967D2;\n",
              "      --hover-bg-color: #E2EBFA;\n",
              "      --hover-fill-color: #174EA6;\n",
              "      --disabled-fill-color: #AAA;\n",
              "      --disabled-bg-color: #DDD;\n",
              "  }\n",
              "\n",
              "  [theme=dark] .colab-df-quickchart {\n",
              "      --bg-color: #3B4455;\n",
              "      --fill-color: #D2E3FC;\n",
              "      --hover-bg-color: #434B5C;\n",
              "      --hover-fill-color: #FFFFFF;\n",
              "      --disabled-bg-color: #3B4455;\n",
              "      --disabled-fill-color: #666;\n",
              "  }\n",
              "\n",
              "  .colab-df-quickchart {\n",
              "    background-color: var(--bg-color);\n",
              "    border: none;\n",
              "    border-radius: 50%;\n",
              "    cursor: pointer;\n",
              "    display: none;\n",
              "    fill: var(--fill-color);\n",
              "    height: 32px;\n",
              "    padding: 0;\n",
              "    width: 32px;\n",
              "  }\n",
              "\n",
              "  .colab-df-quickchart:hover {\n",
              "    background-color: var(--hover-bg-color);\n",
              "    box-shadow: 0 1px 2px rgba(60, 64, 67, 0.3), 0 1px 3px 1px rgba(60, 64, 67, 0.15);\n",
              "    fill: var(--button-hover-fill-color);\n",
              "  }\n",
              "\n",
              "  .colab-df-quickchart-complete:disabled,\n",
              "  .colab-df-quickchart-complete:disabled:hover {\n",
              "    background-color: var(--disabled-bg-color);\n",
              "    fill: var(--disabled-fill-color);\n",
              "    box-shadow: none;\n",
              "  }\n",
              "\n",
              "  .colab-df-spinner {\n",
              "    border: 2px solid var(--fill-color);\n",
              "    border-color: transparent;\n",
              "    border-bottom-color: var(--fill-color);\n",
              "    animation:\n",
              "      spin 1s steps(1) infinite;\n",
              "  }\n",
              "\n",
              "  @keyframes spin {\n",
              "    0% {\n",
              "      border-color: transparent;\n",
              "      border-bottom-color: var(--fill-color);\n",
              "      border-left-color: var(--fill-color);\n",
              "    }\n",
              "    20% {\n",
              "      border-color: transparent;\n",
              "      border-left-color: var(--fill-color);\n",
              "      border-top-color: var(--fill-color);\n",
              "    }\n",
              "    30% {\n",
              "      border-color: transparent;\n",
              "      border-left-color: var(--fill-color);\n",
              "      border-top-color: var(--fill-color);\n",
              "      border-right-color: var(--fill-color);\n",
              "    }\n",
              "    40% {\n",
              "      border-color: transparent;\n",
              "      border-right-color: var(--fill-color);\n",
              "      border-top-color: var(--fill-color);\n",
              "    }\n",
              "    60% {\n",
              "      border-color: transparent;\n",
              "      border-right-color: var(--fill-color);\n",
              "    }\n",
              "    80% {\n",
              "      border-color: transparent;\n",
              "      border-right-color: var(--fill-color);\n",
              "      border-bottom-color: var(--fill-color);\n",
              "    }\n",
              "    90% {\n",
              "      border-color: transparent;\n",
              "      border-bottom-color: var(--fill-color);\n",
              "    }\n",
              "  }\n",
              "</style>\n",
              "\n",
              "  <script>\n",
              "    async function quickchart(key) {\n",
              "      const quickchartButtonEl =\n",
              "        document.querySelector('#' + key + ' button');\n",
              "      quickchartButtonEl.disabled = true;  // To prevent multiple clicks.\n",
              "      quickchartButtonEl.classList.add('colab-df-spinner');\n",
              "      try {\n",
              "        const charts = await google.colab.kernel.invokeFunction(\n",
              "            'suggestCharts', [key], {});\n",
              "      } catch (error) {\n",
              "        console.error('Error during call to suggestCharts:', error);\n",
              "      }\n",
              "      quickchartButtonEl.classList.remove('colab-df-spinner');\n",
              "      quickchartButtonEl.classList.add('colab-df-quickchart-complete');\n",
              "    }\n",
              "    (() => {\n",
              "      let quickchartButtonEl =\n",
              "        document.querySelector('#df-7ecc47c9-5bbf-49b6-a308-e0fba8f8bdad button');\n",
              "      quickchartButtonEl.style.display =\n",
              "        google.colab.kernel.accessAllowed ? 'block' : 'none';\n",
              "    })();\n",
              "  </script>\n",
              "</div>\n",
              "    </div>\n",
              "  </div>\n"
            ]
          },
          "metadata": {},
          "execution_count": 13
        }
      ],
      "source": [
        "df.iloc[343418:343421] = df.iloc[343418:343421].interpolate()\n",
        "df.iloc[343418:343421]"
      ],
      "metadata": {
        "pycharm": {
          "name": "#%%\n"
        },
        "colab": {
          "base_uri": "https://localhost:8080/",
          "height": 143
        },
        "id": "Y8VE8oeVUury",
        "outputId": "af431163-3f58-43c8-c709-8103c5fa6a3d"
      },
      "id": "Y8VE8oeVUury"
    },
    {
      "cell_type": "code",
      "execution_count": 14,
      "outputs": [
        {
          "output_type": "execute_result",
          "data": {
            "text/plain": [
              "        user activity       timeastamp     x     y     z\n",
              "1098207   19  Sitting  131623491487000  9.00 -1.46  1.73\n",
              "1098208   19  Sitting  131623531465000  8.88 -1.33  1.61\n",
              "1098209          None             None   NaN   NaN   NaN"
            ],
            "text/html": [
              "\n",
              "  <div id=\"df-c8455adf-ca4d-45a5-89fb-91f76e6fb42b\" class=\"colab-df-container\">\n",
              "    <div>\n",
              "<style scoped>\n",
              "    .dataframe tbody tr th:only-of-type {\n",
              "        vertical-align: middle;\n",
              "    }\n",
              "\n",
              "    .dataframe tbody tr th {\n",
              "        vertical-align: top;\n",
              "    }\n",
              "\n",
              "    .dataframe thead th {\n",
              "        text-align: right;\n",
              "    }\n",
              "</style>\n",
              "<table border=\"1\" class=\"dataframe\">\n",
              "  <thead>\n",
              "    <tr style=\"text-align: right;\">\n",
              "      <th></th>\n",
              "      <th>user</th>\n",
              "      <th>activity</th>\n",
              "      <th>timeastamp</th>\n",
              "      <th>x</th>\n",
              "      <th>y</th>\n",
              "      <th>z</th>\n",
              "    </tr>\n",
              "  </thead>\n",
              "  <tbody>\n",
              "    <tr>\n",
              "      <th>1098207</th>\n",
              "      <td>19</td>\n",
              "      <td>Sitting</td>\n",
              "      <td>131623491487000</td>\n",
              "      <td>9.00</td>\n",
              "      <td>-1.46</td>\n",
              "      <td>1.73</td>\n",
              "    </tr>\n",
              "    <tr>\n",
              "      <th>1098208</th>\n",
              "      <td>19</td>\n",
              "      <td>Sitting</td>\n",
              "      <td>131623531465000</td>\n",
              "      <td>8.88</td>\n",
              "      <td>-1.33</td>\n",
              "      <td>1.61</td>\n",
              "    </tr>\n",
              "    <tr>\n",
              "      <th>1098209</th>\n",
              "      <td></td>\n",
              "      <td>None</td>\n",
              "      <td>None</td>\n",
              "      <td>NaN</td>\n",
              "      <td>NaN</td>\n",
              "      <td>NaN</td>\n",
              "    </tr>\n",
              "  </tbody>\n",
              "</table>\n",
              "</div>\n",
              "    <div class=\"colab-df-buttons\">\n",
              "\n",
              "  <div class=\"colab-df-container\">\n",
              "    <button class=\"colab-df-convert\" onclick=\"convertToInteractive('df-c8455adf-ca4d-45a5-89fb-91f76e6fb42b')\"\n",
              "            title=\"Convert this dataframe to an interactive table.\"\n",
              "            style=\"display:none;\">\n",
              "\n",
              "  <svg xmlns=\"http://www.w3.org/2000/svg\" height=\"24px\" viewBox=\"0 -960 960 960\">\n",
              "    <path d=\"M120-120v-720h720v720H120Zm60-500h600v-160H180v160Zm220 220h160v-160H400v160Zm0 220h160v-160H400v160ZM180-400h160v-160H180v160Zm440 0h160v-160H620v160ZM180-180h160v-160H180v160Zm440 0h160v-160H620v160Z\"/>\n",
              "  </svg>\n",
              "    </button>\n",
              "\n",
              "  <style>\n",
              "    .colab-df-container {\n",
              "      display:flex;\n",
              "      gap: 12px;\n",
              "    }\n",
              "\n",
              "    .colab-df-convert {\n",
              "      background-color: #E8F0FE;\n",
              "      border: none;\n",
              "      border-radius: 50%;\n",
              "      cursor: pointer;\n",
              "      display: none;\n",
              "      fill: #1967D2;\n",
              "      height: 32px;\n",
              "      padding: 0 0 0 0;\n",
              "      width: 32px;\n",
              "    }\n",
              "\n",
              "    .colab-df-convert:hover {\n",
              "      background-color: #E2EBFA;\n",
              "      box-shadow: 0px 1px 2px rgba(60, 64, 67, 0.3), 0px 1px 3px 1px rgba(60, 64, 67, 0.15);\n",
              "      fill: #174EA6;\n",
              "    }\n",
              "\n",
              "    .colab-df-buttons div {\n",
              "      margin-bottom: 4px;\n",
              "    }\n",
              "\n",
              "    [theme=dark] .colab-df-convert {\n",
              "      background-color: #3B4455;\n",
              "      fill: #D2E3FC;\n",
              "    }\n",
              "\n",
              "    [theme=dark] .colab-df-convert:hover {\n",
              "      background-color: #434B5C;\n",
              "      box-shadow: 0px 1px 3px 1px rgba(0, 0, 0, 0.15);\n",
              "      filter: drop-shadow(0px 1px 2px rgba(0, 0, 0, 0.3));\n",
              "      fill: #FFFFFF;\n",
              "    }\n",
              "  </style>\n",
              "\n",
              "    <script>\n",
              "      const buttonEl =\n",
              "        document.querySelector('#df-c8455adf-ca4d-45a5-89fb-91f76e6fb42b button.colab-df-convert');\n",
              "      buttonEl.style.display =\n",
              "        google.colab.kernel.accessAllowed ? 'block' : 'none';\n",
              "\n",
              "      async function convertToInteractive(key) {\n",
              "        const element = document.querySelector('#df-c8455adf-ca4d-45a5-89fb-91f76e6fb42b');\n",
              "        const dataTable =\n",
              "          await google.colab.kernel.invokeFunction('convertToInteractive',\n",
              "                                                    [key], {});\n",
              "        if (!dataTable) return;\n",
              "\n",
              "        const docLinkHtml = 'Like what you see? Visit the ' +\n",
              "          '<a target=\"_blank\" href=https://colab.research.google.com/notebooks/data_table.ipynb>data table notebook</a>'\n",
              "          + ' to learn more about interactive tables.';\n",
              "        element.innerHTML = '';\n",
              "        dataTable['output_type'] = 'display_data';\n",
              "        await google.colab.output.renderOutput(dataTable, element);\n",
              "        const docLink = document.createElement('div');\n",
              "        docLink.innerHTML = docLinkHtml;\n",
              "        element.appendChild(docLink);\n",
              "      }\n",
              "    </script>\n",
              "  </div>\n",
              "\n",
              "\n",
              "<div id=\"df-faabe848-851d-4d66-9b89-9f89fd5708cb\">\n",
              "  <button class=\"colab-df-quickchart\" onclick=\"quickchart('df-faabe848-851d-4d66-9b89-9f89fd5708cb')\"\n",
              "            title=\"Suggest charts\"\n",
              "            style=\"display:none;\">\n",
              "\n",
              "<svg xmlns=\"http://www.w3.org/2000/svg\" height=\"24px\"viewBox=\"0 0 24 24\"\n",
              "     width=\"24px\">\n",
              "    <g>\n",
              "        <path d=\"M19 3H5c-1.1 0-2 .9-2 2v14c0 1.1.9 2 2 2h14c1.1 0 2-.9 2-2V5c0-1.1-.9-2-2-2zM9 17H7v-7h2v7zm4 0h-2V7h2v10zm4 0h-2v-4h2v4z\"/>\n",
              "    </g>\n",
              "</svg>\n",
              "  </button>\n",
              "\n",
              "<style>\n",
              "  .colab-df-quickchart {\n",
              "      --bg-color: #E8F0FE;\n",
              "      --fill-color: #1967D2;\n",
              "      --hover-bg-color: #E2EBFA;\n",
              "      --hover-fill-color: #174EA6;\n",
              "      --disabled-fill-color: #AAA;\n",
              "      --disabled-bg-color: #DDD;\n",
              "  }\n",
              "\n",
              "  [theme=dark] .colab-df-quickchart {\n",
              "      --bg-color: #3B4455;\n",
              "      --fill-color: #D2E3FC;\n",
              "      --hover-bg-color: #434B5C;\n",
              "      --hover-fill-color: #FFFFFF;\n",
              "      --disabled-bg-color: #3B4455;\n",
              "      --disabled-fill-color: #666;\n",
              "  }\n",
              "\n",
              "  .colab-df-quickchart {\n",
              "    background-color: var(--bg-color);\n",
              "    border: none;\n",
              "    border-radius: 50%;\n",
              "    cursor: pointer;\n",
              "    display: none;\n",
              "    fill: var(--fill-color);\n",
              "    height: 32px;\n",
              "    padding: 0;\n",
              "    width: 32px;\n",
              "  }\n",
              "\n",
              "  .colab-df-quickchart:hover {\n",
              "    background-color: var(--hover-bg-color);\n",
              "    box-shadow: 0 1px 2px rgba(60, 64, 67, 0.3), 0 1px 3px 1px rgba(60, 64, 67, 0.15);\n",
              "    fill: var(--button-hover-fill-color);\n",
              "  }\n",
              "\n",
              "  .colab-df-quickchart-complete:disabled,\n",
              "  .colab-df-quickchart-complete:disabled:hover {\n",
              "    background-color: var(--disabled-bg-color);\n",
              "    fill: var(--disabled-fill-color);\n",
              "    box-shadow: none;\n",
              "  }\n",
              "\n",
              "  .colab-df-spinner {\n",
              "    border: 2px solid var(--fill-color);\n",
              "    border-color: transparent;\n",
              "    border-bottom-color: var(--fill-color);\n",
              "    animation:\n",
              "      spin 1s steps(1) infinite;\n",
              "  }\n",
              "\n",
              "  @keyframes spin {\n",
              "    0% {\n",
              "      border-color: transparent;\n",
              "      border-bottom-color: var(--fill-color);\n",
              "      border-left-color: var(--fill-color);\n",
              "    }\n",
              "    20% {\n",
              "      border-color: transparent;\n",
              "      border-left-color: var(--fill-color);\n",
              "      border-top-color: var(--fill-color);\n",
              "    }\n",
              "    30% {\n",
              "      border-color: transparent;\n",
              "      border-left-color: var(--fill-color);\n",
              "      border-top-color: var(--fill-color);\n",
              "      border-right-color: var(--fill-color);\n",
              "    }\n",
              "    40% {\n",
              "      border-color: transparent;\n",
              "      border-right-color: var(--fill-color);\n",
              "      border-top-color: var(--fill-color);\n",
              "    }\n",
              "    60% {\n",
              "      border-color: transparent;\n",
              "      border-right-color: var(--fill-color);\n",
              "    }\n",
              "    80% {\n",
              "      border-color: transparent;\n",
              "      border-right-color: var(--fill-color);\n",
              "      border-bottom-color: var(--fill-color);\n",
              "    }\n",
              "    90% {\n",
              "      border-color: transparent;\n",
              "      border-bottom-color: var(--fill-color);\n",
              "    }\n",
              "  }\n",
              "</style>\n",
              "\n",
              "  <script>\n",
              "    async function quickchart(key) {\n",
              "      const quickchartButtonEl =\n",
              "        document.querySelector('#' + key + ' button');\n",
              "      quickchartButtonEl.disabled = true;  // To prevent multiple clicks.\n",
              "      quickchartButtonEl.classList.add('colab-df-spinner');\n",
              "      try {\n",
              "        const charts = await google.colab.kernel.invokeFunction(\n",
              "            'suggestCharts', [key], {});\n",
              "      } catch (error) {\n",
              "        console.error('Error during call to suggestCharts:', error);\n",
              "      }\n",
              "      quickchartButtonEl.classList.remove('colab-df-spinner');\n",
              "      quickchartButtonEl.classList.add('colab-df-quickchart-complete');\n",
              "    }\n",
              "    (() => {\n",
              "      let quickchartButtonEl =\n",
              "        document.querySelector('#df-faabe848-851d-4d66-9b89-9f89fd5708cb button');\n",
              "      quickchartButtonEl.style.display =\n",
              "        google.colab.kernel.accessAllowed ? 'block' : 'none';\n",
              "    })();\n",
              "  </script>\n",
              "</div>\n",
              "    </div>\n",
              "  </div>\n"
            ]
          },
          "metadata": {},
          "execution_count": 14
        }
      ],
      "source": [
        "df.iloc[1098207:1098212]"
      ],
      "metadata": {
        "pycharm": {
          "name": "#%%\n"
        },
        "colab": {
          "base_uri": "https://localhost:8080/",
          "height": 143
        },
        "id": "wnA_pKoBUury",
        "outputId": "4e027491-c9f9-4167-9c1f-3f49923aa187"
      },
      "id": "wnA_pKoBUury"
    },
    {
      "cell_type": "code",
      "execution_count": 15,
      "outputs": [
        {
          "output_type": "execute_result",
          "data": {
            "text/plain": [
              "        user activity       timeastamp     x     y     z\n",
              "1098207   19  Sitting  131623491487000  9.00 -1.46  1.73\n",
              "1098208   19  Sitting  131623531465000  8.88 -1.33  1.61"
            ],
            "text/html": [
              "\n",
              "  <div id=\"df-04ea3829-4691-49b1-80a1-75b37c68f53b\" class=\"colab-df-container\">\n",
              "    <div>\n",
              "<style scoped>\n",
              "    .dataframe tbody tr th:only-of-type {\n",
              "        vertical-align: middle;\n",
              "    }\n",
              "\n",
              "    .dataframe tbody tr th {\n",
              "        vertical-align: top;\n",
              "    }\n",
              "\n",
              "    .dataframe thead th {\n",
              "        text-align: right;\n",
              "    }\n",
              "</style>\n",
              "<table border=\"1\" class=\"dataframe\">\n",
              "  <thead>\n",
              "    <tr style=\"text-align: right;\">\n",
              "      <th></th>\n",
              "      <th>user</th>\n",
              "      <th>activity</th>\n",
              "      <th>timeastamp</th>\n",
              "      <th>x</th>\n",
              "      <th>y</th>\n",
              "      <th>z</th>\n",
              "    </tr>\n",
              "  </thead>\n",
              "  <tbody>\n",
              "    <tr>\n",
              "      <th>1098207</th>\n",
              "      <td>19</td>\n",
              "      <td>Sitting</td>\n",
              "      <td>131623491487000</td>\n",
              "      <td>9.00</td>\n",
              "      <td>-1.46</td>\n",
              "      <td>1.73</td>\n",
              "    </tr>\n",
              "    <tr>\n",
              "      <th>1098208</th>\n",
              "      <td>19</td>\n",
              "      <td>Sitting</td>\n",
              "      <td>131623531465000</td>\n",
              "      <td>8.88</td>\n",
              "      <td>-1.33</td>\n",
              "      <td>1.61</td>\n",
              "    </tr>\n",
              "  </tbody>\n",
              "</table>\n",
              "</div>\n",
              "    <div class=\"colab-df-buttons\">\n",
              "\n",
              "  <div class=\"colab-df-container\">\n",
              "    <button class=\"colab-df-convert\" onclick=\"convertToInteractive('df-04ea3829-4691-49b1-80a1-75b37c68f53b')\"\n",
              "            title=\"Convert this dataframe to an interactive table.\"\n",
              "            style=\"display:none;\">\n",
              "\n",
              "  <svg xmlns=\"http://www.w3.org/2000/svg\" height=\"24px\" viewBox=\"0 -960 960 960\">\n",
              "    <path d=\"M120-120v-720h720v720H120Zm60-500h600v-160H180v160Zm220 220h160v-160H400v160Zm0 220h160v-160H400v160ZM180-400h160v-160H180v160Zm440 0h160v-160H620v160ZM180-180h160v-160H180v160Zm440 0h160v-160H620v160Z\"/>\n",
              "  </svg>\n",
              "    </button>\n",
              "\n",
              "  <style>\n",
              "    .colab-df-container {\n",
              "      display:flex;\n",
              "      gap: 12px;\n",
              "    }\n",
              "\n",
              "    .colab-df-convert {\n",
              "      background-color: #E8F0FE;\n",
              "      border: none;\n",
              "      border-radius: 50%;\n",
              "      cursor: pointer;\n",
              "      display: none;\n",
              "      fill: #1967D2;\n",
              "      height: 32px;\n",
              "      padding: 0 0 0 0;\n",
              "      width: 32px;\n",
              "    }\n",
              "\n",
              "    .colab-df-convert:hover {\n",
              "      background-color: #E2EBFA;\n",
              "      box-shadow: 0px 1px 2px rgba(60, 64, 67, 0.3), 0px 1px 3px 1px rgba(60, 64, 67, 0.15);\n",
              "      fill: #174EA6;\n",
              "    }\n",
              "\n",
              "    .colab-df-buttons div {\n",
              "      margin-bottom: 4px;\n",
              "    }\n",
              "\n",
              "    [theme=dark] .colab-df-convert {\n",
              "      background-color: #3B4455;\n",
              "      fill: #D2E3FC;\n",
              "    }\n",
              "\n",
              "    [theme=dark] .colab-df-convert:hover {\n",
              "      background-color: #434B5C;\n",
              "      box-shadow: 0px 1px 3px 1px rgba(0, 0, 0, 0.15);\n",
              "      filter: drop-shadow(0px 1px 2px rgba(0, 0, 0, 0.3));\n",
              "      fill: #FFFFFF;\n",
              "    }\n",
              "  </style>\n",
              "\n",
              "    <script>\n",
              "      const buttonEl =\n",
              "        document.querySelector('#df-04ea3829-4691-49b1-80a1-75b37c68f53b button.colab-df-convert');\n",
              "      buttonEl.style.display =\n",
              "        google.colab.kernel.accessAllowed ? 'block' : 'none';\n",
              "\n",
              "      async function convertToInteractive(key) {\n",
              "        const element = document.querySelector('#df-04ea3829-4691-49b1-80a1-75b37c68f53b');\n",
              "        const dataTable =\n",
              "          await google.colab.kernel.invokeFunction('convertToInteractive',\n",
              "                                                    [key], {});\n",
              "        if (!dataTable) return;\n",
              "\n",
              "        const docLinkHtml = 'Like what you see? Visit the ' +\n",
              "          '<a target=\"_blank\" href=https://colab.research.google.com/notebooks/data_table.ipynb>data table notebook</a>'\n",
              "          + ' to learn more about interactive tables.';\n",
              "        element.innerHTML = '';\n",
              "        dataTable['output_type'] = 'display_data';\n",
              "        await google.colab.output.renderOutput(dataTable, element);\n",
              "        const docLink = document.createElement('div');\n",
              "        docLink.innerHTML = docLinkHtml;\n",
              "        element.appendChild(docLink);\n",
              "      }\n",
              "    </script>\n",
              "  </div>\n",
              "\n",
              "\n",
              "<div id=\"df-6a9d0133-a535-4727-b5fd-21390ed3b9ff\">\n",
              "  <button class=\"colab-df-quickchart\" onclick=\"quickchart('df-6a9d0133-a535-4727-b5fd-21390ed3b9ff')\"\n",
              "            title=\"Suggest charts\"\n",
              "            style=\"display:none;\">\n",
              "\n",
              "<svg xmlns=\"http://www.w3.org/2000/svg\" height=\"24px\"viewBox=\"0 0 24 24\"\n",
              "     width=\"24px\">\n",
              "    <g>\n",
              "        <path d=\"M19 3H5c-1.1 0-2 .9-2 2v14c0 1.1.9 2 2 2h14c1.1 0 2-.9 2-2V5c0-1.1-.9-2-2-2zM9 17H7v-7h2v7zm4 0h-2V7h2v10zm4 0h-2v-4h2v4z\"/>\n",
              "    </g>\n",
              "</svg>\n",
              "  </button>\n",
              "\n",
              "<style>\n",
              "  .colab-df-quickchart {\n",
              "      --bg-color: #E8F0FE;\n",
              "      --fill-color: #1967D2;\n",
              "      --hover-bg-color: #E2EBFA;\n",
              "      --hover-fill-color: #174EA6;\n",
              "      --disabled-fill-color: #AAA;\n",
              "      --disabled-bg-color: #DDD;\n",
              "  }\n",
              "\n",
              "  [theme=dark] .colab-df-quickchart {\n",
              "      --bg-color: #3B4455;\n",
              "      --fill-color: #D2E3FC;\n",
              "      --hover-bg-color: #434B5C;\n",
              "      --hover-fill-color: #FFFFFF;\n",
              "      --disabled-bg-color: #3B4455;\n",
              "      --disabled-fill-color: #666;\n",
              "  }\n",
              "\n",
              "  .colab-df-quickchart {\n",
              "    background-color: var(--bg-color);\n",
              "    border: none;\n",
              "    border-radius: 50%;\n",
              "    cursor: pointer;\n",
              "    display: none;\n",
              "    fill: var(--fill-color);\n",
              "    height: 32px;\n",
              "    padding: 0;\n",
              "    width: 32px;\n",
              "  }\n",
              "\n",
              "  .colab-df-quickchart:hover {\n",
              "    background-color: var(--hover-bg-color);\n",
              "    box-shadow: 0 1px 2px rgba(60, 64, 67, 0.3), 0 1px 3px 1px rgba(60, 64, 67, 0.15);\n",
              "    fill: var(--button-hover-fill-color);\n",
              "  }\n",
              "\n",
              "  .colab-df-quickchart-complete:disabled,\n",
              "  .colab-df-quickchart-complete:disabled:hover {\n",
              "    background-color: var(--disabled-bg-color);\n",
              "    fill: var(--disabled-fill-color);\n",
              "    box-shadow: none;\n",
              "  }\n",
              "\n",
              "  .colab-df-spinner {\n",
              "    border: 2px solid var(--fill-color);\n",
              "    border-color: transparent;\n",
              "    border-bottom-color: var(--fill-color);\n",
              "    animation:\n",
              "      spin 1s steps(1) infinite;\n",
              "  }\n",
              "\n",
              "  @keyframes spin {\n",
              "    0% {\n",
              "      border-color: transparent;\n",
              "      border-bottom-color: var(--fill-color);\n",
              "      border-left-color: var(--fill-color);\n",
              "    }\n",
              "    20% {\n",
              "      border-color: transparent;\n",
              "      border-left-color: var(--fill-color);\n",
              "      border-top-color: var(--fill-color);\n",
              "    }\n",
              "    30% {\n",
              "      border-color: transparent;\n",
              "      border-left-color: var(--fill-color);\n",
              "      border-top-color: var(--fill-color);\n",
              "      border-right-color: var(--fill-color);\n",
              "    }\n",
              "    40% {\n",
              "      border-color: transparent;\n",
              "      border-right-color: var(--fill-color);\n",
              "      border-top-color: var(--fill-color);\n",
              "    }\n",
              "    60% {\n",
              "      border-color: transparent;\n",
              "      border-right-color: var(--fill-color);\n",
              "    }\n",
              "    80% {\n",
              "      border-color: transparent;\n",
              "      border-right-color: var(--fill-color);\n",
              "      border-bottom-color: var(--fill-color);\n",
              "    }\n",
              "    90% {\n",
              "      border-color: transparent;\n",
              "      border-bottom-color: var(--fill-color);\n",
              "    }\n",
              "  }\n",
              "</style>\n",
              "\n",
              "  <script>\n",
              "    async function quickchart(key) {\n",
              "      const quickchartButtonEl =\n",
              "        document.querySelector('#' + key + ' button');\n",
              "      quickchartButtonEl.disabled = true;  // To prevent multiple clicks.\n",
              "      quickchartButtonEl.classList.add('colab-df-spinner');\n",
              "      try {\n",
              "        const charts = await google.colab.kernel.invokeFunction(\n",
              "            'suggestCharts', [key], {});\n",
              "      } catch (error) {\n",
              "        console.error('Error during call to suggestCharts:', error);\n",
              "      }\n",
              "      quickchartButtonEl.classList.remove('colab-df-spinner');\n",
              "      quickchartButtonEl.classList.add('colab-df-quickchart-complete');\n",
              "    }\n",
              "    (() => {\n",
              "      let quickchartButtonEl =\n",
              "        document.querySelector('#df-6a9d0133-a535-4727-b5fd-21390ed3b9ff button');\n",
              "      quickchartButtonEl.style.display =\n",
              "        google.colab.kernel.accessAllowed ? 'block' : 'none';\n",
              "    })();\n",
              "  </script>\n",
              "</div>\n",
              "    </div>\n",
              "  </div>\n"
            ]
          },
          "metadata": {},
          "execution_count": 15
        }
      ],
      "source": [
        "df = df.drop(1098209)\n",
        "df.iloc[1098207:1098212]"
      ],
      "metadata": {
        "pycharm": {
          "name": "#%%\n"
        },
        "colab": {
          "base_uri": "https://localhost:8080/",
          "height": 112
        },
        "id": "Uqrtedn0Uury",
        "outputId": "51e6abc1-a874-4dc1-a2d5-7b458f20bc11"
      },
      "id": "Uqrtedn0Uury"
    },
    {
      "cell_type": "code",
      "execution_count": 16,
      "outputs": [
        {
          "output_type": "execute_result",
          "data": {
            "text/plain": [
              "  user activity      timeastamp         x          y         z\n",
              "0   33  Jogging  49105962326000 -0.694638  12.680544  0.503953\n",
              "1   33  Jogging  49106062271000  5.012288  11.264028  0.953424\n",
              "2   33  Jogging  49106112167000  4.903325  10.882658 -0.081722\n",
              "3   33  Jogging  49106222305000 -0.612916  18.496431  3.023717\n",
              "4   33  Jogging  49106332290000 -1.184970  12.108489  7.205164"
            ],
            "text/html": [
              "\n",
              "  <div id=\"df-4cf82741-cdcc-4f43-bbe0-975fbd56340b\" class=\"colab-df-container\">\n",
              "    <div>\n",
              "<style scoped>\n",
              "    .dataframe tbody tr th:only-of-type {\n",
              "        vertical-align: middle;\n",
              "    }\n",
              "\n",
              "    .dataframe tbody tr th {\n",
              "        vertical-align: top;\n",
              "    }\n",
              "\n",
              "    .dataframe thead th {\n",
              "        text-align: right;\n",
              "    }\n",
              "</style>\n",
              "<table border=\"1\" class=\"dataframe\">\n",
              "  <thead>\n",
              "    <tr style=\"text-align: right;\">\n",
              "      <th></th>\n",
              "      <th>user</th>\n",
              "      <th>activity</th>\n",
              "      <th>timeastamp</th>\n",
              "      <th>x</th>\n",
              "      <th>y</th>\n",
              "      <th>z</th>\n",
              "    </tr>\n",
              "  </thead>\n",
              "  <tbody>\n",
              "    <tr>\n",
              "      <th>0</th>\n",
              "      <td>33</td>\n",
              "      <td>Jogging</td>\n",
              "      <td>49105962326000</td>\n",
              "      <td>-0.694638</td>\n",
              "      <td>12.680544</td>\n",
              "      <td>0.503953</td>\n",
              "    </tr>\n",
              "    <tr>\n",
              "      <th>1</th>\n",
              "      <td>33</td>\n",
              "      <td>Jogging</td>\n",
              "      <td>49106062271000</td>\n",
              "      <td>5.012288</td>\n",
              "      <td>11.264028</td>\n",
              "      <td>0.953424</td>\n",
              "    </tr>\n",
              "    <tr>\n",
              "      <th>2</th>\n",
              "      <td>33</td>\n",
              "      <td>Jogging</td>\n",
              "      <td>49106112167000</td>\n",
              "      <td>4.903325</td>\n",
              "      <td>10.882658</td>\n",
              "      <td>-0.081722</td>\n",
              "    </tr>\n",
              "    <tr>\n",
              "      <th>3</th>\n",
              "      <td>33</td>\n",
              "      <td>Jogging</td>\n",
              "      <td>49106222305000</td>\n",
              "      <td>-0.612916</td>\n",
              "      <td>18.496431</td>\n",
              "      <td>3.023717</td>\n",
              "    </tr>\n",
              "    <tr>\n",
              "      <th>4</th>\n",
              "      <td>33</td>\n",
              "      <td>Jogging</td>\n",
              "      <td>49106332290000</td>\n",
              "      <td>-1.184970</td>\n",
              "      <td>12.108489</td>\n",
              "      <td>7.205164</td>\n",
              "    </tr>\n",
              "  </tbody>\n",
              "</table>\n",
              "</div>\n",
              "    <div class=\"colab-df-buttons\">\n",
              "\n",
              "  <div class=\"colab-df-container\">\n",
              "    <button class=\"colab-df-convert\" onclick=\"convertToInteractive('df-4cf82741-cdcc-4f43-bbe0-975fbd56340b')\"\n",
              "            title=\"Convert this dataframe to an interactive table.\"\n",
              "            style=\"display:none;\">\n",
              "\n",
              "  <svg xmlns=\"http://www.w3.org/2000/svg\" height=\"24px\" viewBox=\"0 -960 960 960\">\n",
              "    <path d=\"M120-120v-720h720v720H120Zm60-500h600v-160H180v160Zm220 220h160v-160H400v160Zm0 220h160v-160H400v160ZM180-400h160v-160H180v160Zm440 0h160v-160H620v160ZM180-180h160v-160H180v160Zm440 0h160v-160H620v160Z\"/>\n",
              "  </svg>\n",
              "    </button>\n",
              "\n",
              "  <style>\n",
              "    .colab-df-container {\n",
              "      display:flex;\n",
              "      gap: 12px;\n",
              "    }\n",
              "\n",
              "    .colab-df-convert {\n",
              "      background-color: #E8F0FE;\n",
              "      border: none;\n",
              "      border-radius: 50%;\n",
              "      cursor: pointer;\n",
              "      display: none;\n",
              "      fill: #1967D2;\n",
              "      height: 32px;\n",
              "      padding: 0 0 0 0;\n",
              "      width: 32px;\n",
              "    }\n",
              "\n",
              "    .colab-df-convert:hover {\n",
              "      background-color: #E2EBFA;\n",
              "      box-shadow: 0px 1px 2px rgba(60, 64, 67, 0.3), 0px 1px 3px 1px rgba(60, 64, 67, 0.15);\n",
              "      fill: #174EA6;\n",
              "    }\n",
              "\n",
              "    .colab-df-buttons div {\n",
              "      margin-bottom: 4px;\n",
              "    }\n",
              "\n",
              "    [theme=dark] .colab-df-convert {\n",
              "      background-color: #3B4455;\n",
              "      fill: #D2E3FC;\n",
              "    }\n",
              "\n",
              "    [theme=dark] .colab-df-convert:hover {\n",
              "      background-color: #434B5C;\n",
              "      box-shadow: 0px 1px 3px 1px rgba(0, 0, 0, 0.15);\n",
              "      filter: drop-shadow(0px 1px 2px rgba(0, 0, 0, 0.3));\n",
              "      fill: #FFFFFF;\n",
              "    }\n",
              "  </style>\n",
              "\n",
              "    <script>\n",
              "      const buttonEl =\n",
              "        document.querySelector('#df-4cf82741-cdcc-4f43-bbe0-975fbd56340b button.colab-df-convert');\n",
              "      buttonEl.style.display =\n",
              "        google.colab.kernel.accessAllowed ? 'block' : 'none';\n",
              "\n",
              "      async function convertToInteractive(key) {\n",
              "        const element = document.querySelector('#df-4cf82741-cdcc-4f43-bbe0-975fbd56340b');\n",
              "        const dataTable =\n",
              "          await google.colab.kernel.invokeFunction('convertToInteractive',\n",
              "                                                    [key], {});\n",
              "        if (!dataTable) return;\n",
              "\n",
              "        const docLinkHtml = 'Like what you see? Visit the ' +\n",
              "          '<a target=\"_blank\" href=https://colab.research.google.com/notebooks/data_table.ipynb>data table notebook</a>'\n",
              "          + ' to learn more about interactive tables.';\n",
              "        element.innerHTML = '';\n",
              "        dataTable['output_type'] = 'display_data';\n",
              "        await google.colab.output.renderOutput(dataTable, element);\n",
              "        const docLink = document.createElement('div');\n",
              "        docLink.innerHTML = docLinkHtml;\n",
              "        element.appendChild(docLink);\n",
              "      }\n",
              "    </script>\n",
              "  </div>\n",
              "\n",
              "\n",
              "<div id=\"df-c7fcfd78-9db1-4962-a4d1-ad45ac73e4bc\">\n",
              "  <button class=\"colab-df-quickchart\" onclick=\"quickchart('df-c7fcfd78-9db1-4962-a4d1-ad45ac73e4bc')\"\n",
              "            title=\"Suggest charts\"\n",
              "            style=\"display:none;\">\n",
              "\n",
              "<svg xmlns=\"http://www.w3.org/2000/svg\" height=\"24px\"viewBox=\"0 0 24 24\"\n",
              "     width=\"24px\">\n",
              "    <g>\n",
              "        <path d=\"M19 3H5c-1.1 0-2 .9-2 2v14c0 1.1.9 2 2 2h14c1.1 0 2-.9 2-2V5c0-1.1-.9-2-2-2zM9 17H7v-7h2v7zm4 0h-2V7h2v10zm4 0h-2v-4h2v4z\"/>\n",
              "    </g>\n",
              "</svg>\n",
              "  </button>\n",
              "\n",
              "<style>\n",
              "  .colab-df-quickchart {\n",
              "      --bg-color: #E8F0FE;\n",
              "      --fill-color: #1967D2;\n",
              "      --hover-bg-color: #E2EBFA;\n",
              "      --hover-fill-color: #174EA6;\n",
              "      --disabled-fill-color: #AAA;\n",
              "      --disabled-bg-color: #DDD;\n",
              "  }\n",
              "\n",
              "  [theme=dark] .colab-df-quickchart {\n",
              "      --bg-color: #3B4455;\n",
              "      --fill-color: #D2E3FC;\n",
              "      --hover-bg-color: #434B5C;\n",
              "      --hover-fill-color: #FFFFFF;\n",
              "      --disabled-bg-color: #3B4455;\n",
              "      --disabled-fill-color: #666;\n",
              "  }\n",
              "\n",
              "  .colab-df-quickchart {\n",
              "    background-color: var(--bg-color);\n",
              "    border: none;\n",
              "    border-radius: 50%;\n",
              "    cursor: pointer;\n",
              "    display: none;\n",
              "    fill: var(--fill-color);\n",
              "    height: 32px;\n",
              "    padding: 0;\n",
              "    width: 32px;\n",
              "  }\n",
              "\n",
              "  .colab-df-quickchart:hover {\n",
              "    background-color: var(--hover-bg-color);\n",
              "    box-shadow: 0 1px 2px rgba(60, 64, 67, 0.3), 0 1px 3px 1px rgba(60, 64, 67, 0.15);\n",
              "    fill: var(--button-hover-fill-color);\n",
              "  }\n",
              "\n",
              "  .colab-df-quickchart-complete:disabled,\n",
              "  .colab-df-quickchart-complete:disabled:hover {\n",
              "    background-color: var(--disabled-bg-color);\n",
              "    fill: var(--disabled-fill-color);\n",
              "    box-shadow: none;\n",
              "  }\n",
              "\n",
              "  .colab-df-spinner {\n",
              "    border: 2px solid var(--fill-color);\n",
              "    border-color: transparent;\n",
              "    border-bottom-color: var(--fill-color);\n",
              "    animation:\n",
              "      spin 1s steps(1) infinite;\n",
              "  }\n",
              "\n",
              "  @keyframes spin {\n",
              "    0% {\n",
              "      border-color: transparent;\n",
              "      border-bottom-color: var(--fill-color);\n",
              "      border-left-color: var(--fill-color);\n",
              "    }\n",
              "    20% {\n",
              "      border-color: transparent;\n",
              "      border-left-color: var(--fill-color);\n",
              "      border-top-color: var(--fill-color);\n",
              "    }\n",
              "    30% {\n",
              "      border-color: transparent;\n",
              "      border-left-color: var(--fill-color);\n",
              "      border-top-color: var(--fill-color);\n",
              "      border-right-color: var(--fill-color);\n",
              "    }\n",
              "    40% {\n",
              "      border-color: transparent;\n",
              "      border-right-color: var(--fill-color);\n",
              "      border-top-color: var(--fill-color);\n",
              "    }\n",
              "    60% {\n",
              "      border-color: transparent;\n",
              "      border-right-color: var(--fill-color);\n",
              "    }\n",
              "    80% {\n",
              "      border-color: transparent;\n",
              "      border-right-color: var(--fill-color);\n",
              "      border-bottom-color: var(--fill-color);\n",
              "    }\n",
              "    90% {\n",
              "      border-color: transparent;\n",
              "      border-bottom-color: var(--fill-color);\n",
              "    }\n",
              "  }\n",
              "</style>\n",
              "\n",
              "  <script>\n",
              "    async function quickchart(key) {\n",
              "      const quickchartButtonEl =\n",
              "        document.querySelector('#' + key + ' button');\n",
              "      quickchartButtonEl.disabled = true;  // To prevent multiple clicks.\n",
              "      quickchartButtonEl.classList.add('colab-df-spinner');\n",
              "      try {\n",
              "        const charts = await google.colab.kernel.invokeFunction(\n",
              "            'suggestCharts', [key], {});\n",
              "      } catch (error) {\n",
              "        console.error('Error during call to suggestCharts:', error);\n",
              "      }\n",
              "      quickchartButtonEl.classList.remove('colab-df-spinner');\n",
              "      quickchartButtonEl.classList.add('colab-df-quickchart-complete');\n",
              "    }\n",
              "    (() => {\n",
              "      let quickchartButtonEl =\n",
              "        document.querySelector('#df-c7fcfd78-9db1-4962-a4d1-ad45ac73e4bc button');\n",
              "      quickchartButtonEl.style.display =\n",
              "        google.colab.kernel.accessAllowed ? 'block' : 'none';\n",
              "    })();\n",
              "  </script>\n",
              "</div>\n",
              "    </div>\n",
              "  </div>\n"
            ]
          },
          "metadata": {},
          "execution_count": 16
        }
      ],
      "source": [
        "df = df.reset_index()\n",
        "df = df.drop('index', axis=1)\n",
        "df.head()"
      ],
      "metadata": {
        "pycharm": {
          "name": "#%%\n"
        },
        "colab": {
          "base_uri": "https://localhost:8080/",
          "height": 206
        },
        "id": "CP0I0VE9Uurz",
        "outputId": "785edc6f-eda0-4d2f-89f3-55da35e8255b"
      },
      "id": "CP0I0VE9Uurz"
    },
    {
      "cell_type": "code",
      "execution_count": 17,
      "outputs": [],
      "source": [
        "df.to_csv('./Data/cleaned_WISDM_v1.csv', index=False)"
      ],
      "metadata": {
        "pycharm": {
          "name": "#%%\n"
        },
        "id": "U7yPGShKUurz"
      },
      "id": "U7yPGShKUurz"
    },
    {
      "cell_type": "markdown",
      "source": [
        "### Preprocess and Split Data"
      ],
      "metadata": {
        "collapsed": false,
        "pycharm": {
          "name": "#%% md\n"
        },
        "id": "ft_sK835Uur5"
      },
      "id": "ft_sK835Uur5"
    },
    {
      "cell_type": "code",
      "execution_count": 29,
      "outputs": [],
      "source": [
        "import pandas as pd\n",
        "import numpy as np\n",
        "from sklearn.model_selection import train_test_split\n",
        "from torch.utils.data import Dataset, DataLoader\n",
        "import torch\n",
        "import torch.nn as nn\n",
        "from torch.optim import Adam\n",
        "from tqdm import tqdm\n",
        "from sklearn.metrics import confusion_matrix"
      ],
      "metadata": {
        "pycharm": {
          "name": "#%%\n"
        },
        "id": "_bvI8cOKUur5"
      },
      "id": "_bvI8cOKUur5"
    },
    {
      "cell_type": "code",
      "execution_count": 19,
      "outputs": [
        {
          "output_type": "stream",
          "name": "stdout",
          "text": [
            "   user activity      timeastamp         x          y         z\n",
            "0    33  Jogging  49105962326000 -0.694638  12.680544  0.503953\n",
            "1    33  Jogging  49106062271000  5.012288  11.264028  0.953424\n",
            "2    33  Jogging  49106112167000  4.903325  10.882658 -0.081722\n",
            "3    33  Jogging  49106222305000 -0.612916  18.496431  3.023717\n",
            "4    33  Jogging  49106332290000 -1.184970  12.108489  7.205164\n"
          ]
        }
      ],
      "source": [
        "df = pd.read_csv('./Data/cleaned_WISDM_v1.csv')\n",
        "print(df.head())"
      ],
      "metadata": {
        "pycharm": {
          "name": "#%%\n"
        },
        "colab": {
          "base_uri": "https://localhost:8080/"
        },
        "id": "mkMCVl9NUur5",
        "outputId": "8b5f355f-37bd-4f0a-aa57-92624264c2e1"
      },
      "id": "mkMCVl9NUur5"
    },
    {
      "cell_type": "code",
      "execution_count": 20,
      "outputs": [],
      "source": [
        "labels = np.unique(df['activity'])\n",
        "label_to_idx = {label:idx for idx, label in enumerate(labels)}\n",
        "idx_to_label = {idx: label for label, idx in label_to_idx.items()}"
      ],
      "metadata": {
        "pycharm": {
          "name": "#%%\n"
        },
        "id": "mchwgk7rUur5"
      },
      "id": "mchwgk7rUur5"
    },
    {
      "cell_type": "code",
      "execution_count": 21,
      "outputs": [
        {
          "output_type": "stream",
          "name": "stdout",
          "text": [
            "   user      timeastamp         x          y         z\n",
            "0    33  49105962326000 -0.694638  12.680544  0.503953\n",
            "1    33  49106062271000  5.012288  11.264028  0.953424\n",
            "2    33  49106112167000  4.903325  10.882658 -0.081722\n",
            "3    33  49106222305000 -0.612916  18.496431  3.023717\n",
            "4    33  49106332290000 -1.184970  12.108489  7.205164\n",
            "0    1\n",
            "1    1\n",
            "2    1\n",
            "3    1\n",
            "4    1\n",
            "Name: activity, dtype: int64\n"
          ]
        }
      ],
      "source": [
        "X = df.drop('activity', axis=1)\n",
        "Y = df['activity'].map(lambda x: label_to_idx[x])\n",
        "print(X.head())\n",
        "print(Y.head())"
      ],
      "metadata": {
        "pycharm": {
          "name": "#%%\n"
        },
        "colab": {
          "base_uri": "https://localhost:8080/"
        },
        "id": "MrXo_IKfUur5",
        "outputId": "8adbf31a-a499-4b69-9f9e-784c8baf94fc"
      },
      "id": "MrXo_IKfUur5"
    },
    {
      "cell_type": "code",
      "execution_count": 22,
      "outputs": [
        {
          "output_type": "stream",
          "name": "stdout",
          "text": [
            "Train Users: [13 19 26  4 11  6  1 15 17 18 34 10 23  2 22 36 20 24 21 16 30  5 31  7\n",
            " 35 27  3]\n",
            "Test Users: [28 25 14  9 29 32  8 33 12]\n"
          ]
        }
      ],
      "source": [
        "unique_users = np.unique(df['user'])\n",
        "train_users, test_users = train_test_split(unique_users, test_size=0.25)\n",
        "print('Train Users:', train_users)\n",
        "print('Test Users:', test_users)"
      ],
      "metadata": {
        "pycharm": {
          "name": "#%%\n"
        },
        "colab": {
          "base_uri": "https://localhost:8080/"
        },
        "id": "RDAlQCnpUur5",
        "outputId": "91632e71-3124-4207-bf37-597907b2c9ef"
      },
      "id": "RDAlQCnpUur5"
    },
    {
      "cell_type": "code",
      "execution_count": 23,
      "outputs": [],
      "source": [
        "# segment the dataset for training, use the next time point's activity as label\n",
        "window_size = 128\n",
        "stride = 64\n",
        "train_list, test_list = [], []\n",
        "for user in train_users:\n",
        "    X_user = X[X['user'] == user]\n",
        "    Y_user = Y[X['user'] == user]\n",
        "\n",
        "    for i in range(0, X_user.shape[0] - window_size - 1, stride):\n",
        "        train_list.append((user, i))\n",
        "\n",
        "for user in test_users:\n",
        "    X_user = X[X['user'] == user]\n",
        "    Y_user = Y[X['user'] == user]\n",
        "\n",
        "    for i in range(0, X_user.shape[0] - window_size - 1, stride):\n",
        "        test_list.append((user, i))"
      ],
      "metadata": {
        "pycharm": {
          "name": "#%%\n"
        },
        "id": "KEhhEUo4Uur6"
      },
      "id": "KEhhEUo4Uur6"
    },
    {
      "cell_type": "markdown",
      "source": [
        "### Training"
      ],
      "metadata": {
        "collapsed": false,
        "pycharm": {
          "name": "#%% md\n"
        },
        "id": "ewTLY45mUur6"
      },
      "id": "ewTLY45mUur6"
    },
    {
      "cell_type": "code",
      "execution_count": 24,
      "outputs": [],
      "source": [
        "class MyDataset(Dataset):\n",
        "    def __init__(self, case_list, X_all, Y_all, window_size):\n",
        "        self.case_list = case_list\n",
        "        self.X_all = X_all\n",
        "        self.Y_all = Y_all\n",
        "        self.window_size = window_size\n",
        "\n",
        "    def __len__(self):\n",
        "        return len(self.case_list)\n",
        "\n",
        "    def __getitem__(self, item):\n",
        "        case = self.case_list[item]\n",
        "        x = self.X_all[self.X_all['user']==case[0]].iloc[case[1]:case[1]+self.window_size, 2:].to_numpy().astype(float)\n",
        "        y = self.Y_all[self.X_all['user']==case[0]].iloc[case[1]+self.window_size+1].astype(np.uint8)\n",
        "        return torch.tensor(x, dtype=torch.float32), torch.tensor(y, dtype=torch.long)"
      ],
      "metadata": {
        "pycharm": {
          "name": "#%%\n"
        },
        "id": "oKKcFDrGUur6"
      },
      "id": "oKKcFDrGUur6"
    },
    {
      "cell_type": "code",
      "execution_count": 25,
      "outputs": [],
      "source": [
        "batch_size = 64\n",
        "train_set = MyDataset(case_list=train_list, X_all=X, Y_all=Y, window_size=window_size)\n",
        "test_set = MyDataset(case_list=test_list, X_all=X, Y_all=Y, window_size=window_size)\n",
        "train_loader = DataLoader(train_set, batch_size=batch_size, num_workers=2, shuffle=True)\n",
        "test_loader = DataLoader(test_set, batch_size=batch_size, num_workers=2, shuffle=False)"
      ],
      "metadata": {
        "pycharm": {
          "name": "#%%\n"
        },
        "id": "B1mt7-o4Uur6"
      },
      "id": "B1mt7-o4Uur6"
    },
    {
      "cell_type": "code",
      "execution_count": 26,
      "outputs": [],
      "source": [
        "class MyLSTM(nn.Module):\n",
        "    def __init__(self, n_layers, input_dim, hidden_dim, output_dim, device='cpu'):\n",
        "        super(MyLSTM,self).__init__()\n",
        "        self.input_dim = input_dim\n",
        "        self.hidden_dim = hidden_dim\n",
        "        self.output_dim = output_dim\n",
        "        self.n_layers = n_layers\n",
        "        self.device=device\n",
        "\n",
        "        \"\"\"Initializes the constructor and defines the model parameters.\"\"\"\n",
        "        self.lstm = nn.LSTM(input_size=self.input_dim, hidden_size=self.hidden_dim, num_layers=self.n_layers, batch_first=True)\n",
        "        self.fc = nn.Linear(self.hidden_dim, self.output_dim)\n",
        "\n",
        "        self.to(device)\n",
        "\n",
        "    def forward(self, x, hidden):\n",
        "        lstm_out, (hn, cn) = self.lstm(x, hidden)\n",
        "        logits = self.fc(lstm_out)\n",
        "        return logits, (hn, cn)\n",
        "\n",
        "    def init_hidden(self, batch_size):\n",
        "        h0 = torch.zeros((self.n_layers, batch_size, self.hidden_dim)).to(self.device)\n",
        "        c0 = torch.zeros((self.n_layers, batch_size, self.hidden_dim)).to(self.device)\n",
        "        hidden = (h0,c0)\n",
        "        return hidden\n",
        "\n",
        "    def detach_hidden(self, hidden):\n",
        "        h, c = hidden\n",
        "        h = h.detach()\n",
        "        c = c.detach()\n",
        "        return (h, c)"
      ],
      "metadata": {
        "pycharm": {
          "name": "#%%\n"
        },
        "id": "NAs4SRcOUur6"
      },
      "id": "NAs4SRcOUur6"
    },
    {
      "cell_type": "code",
      "execution_count": 27,
      "outputs": [],
      "source": [
        "def train(model, loader, optimizer, criterion, device='cpu'):\n",
        "    num_correct = 0\n",
        "    num_all = 0\n",
        "    model.train()\n",
        "    loader_tqdm = tqdm(loader, ncols=80)\n",
        "    for batch in loader_tqdm:\n",
        "        current_batch_size = batch[0].shape[0]\n",
        "        optimizer.zero_grad()\n",
        "        hidden = model.init_hidden(current_batch_size)\n",
        "        data, target = batch[0].to(device), batch[1].to(device)\n",
        "        output, _ = model(data, hidden)\n",
        "        loss = criterion(output[:, -1], target)\n",
        "        loss.backward()\n",
        "        optimizer.step()\n",
        "        pred = torch.argmax(output[:, -1].detach(), dim=1)\n",
        "        num_correct += torch.sum(pred == target).item()\n",
        "        num_all += current_batch_size\n",
        "        loader_tqdm.set_description('Train acc %.4f' % (num_correct / num_all))\n",
        "    return num_correct / num_all\n",
        "\n",
        "def test(model, loader, device='cpu'):\n",
        "    num_correct = 0\n",
        "    num_all = 0\n",
        "    model.eval()\n",
        "    for batch in loader:\n",
        "        current_batch_size = batch[0].shape[0]\n",
        "        hidden = model.init_hidden(current_batch_size)\n",
        "        data, target = batch[0].to(device), batch[1].to(device)\n",
        "        output, _ = model(data, hidden)\n",
        "        pred = torch.argmax(output[:, -1].detach(), dim=1)\n",
        "        num_correct += torch.sum(pred == target).item()\n",
        "        num_all += current_batch_size\n",
        "    return num_correct / num_all"
      ],
      "metadata": {
        "pycharm": {
          "name": "#%%\n"
        },
        "id": "5x4cZFxIUur6"
      },
      "id": "5x4cZFxIUur6"
    },
    {
      "cell_type": "code",
      "execution_count": 28,
      "outputs": [
        {
          "output_type": "stream",
          "name": "stdout",
          "text": [
            "Start training...\n"
          ]
        },
        {
          "output_type": "stream",
          "name": "stderr",
          "text": [
            "Train acc 0.7098: 100%|███████████████████████| 204/204 [01:09<00:00,  2.93it/s]\n"
          ]
        },
        {
          "output_type": "stream",
          "name": "stdout",
          "text": [
            "Ep 0, test acc 0.7931\n"
          ]
        },
        {
          "output_type": "stream",
          "name": "stderr",
          "text": [
            "Train acc 0.8447: 100%|███████████████████████| 204/204 [01:06<00:00,  3.07it/s]\n"
          ]
        },
        {
          "output_type": "stream",
          "name": "stdout",
          "text": [
            "Ep 1, test acc 0.7882\n"
          ]
        },
        {
          "output_type": "stream",
          "name": "stderr",
          "text": [
            "Train acc 0.8929: 100%|███████████████████████| 204/204 [01:07<00:00,  3.04it/s]\n"
          ]
        },
        {
          "output_type": "stream",
          "name": "stdout",
          "text": [
            "Ep 2, test acc 0.8339\n"
          ]
        },
        {
          "output_type": "stream",
          "name": "stderr",
          "text": [
            "Train acc 0.9127: 100%|███████████████████████| 204/204 [01:08<00:00,  2.97it/s]\n"
          ]
        },
        {
          "output_type": "stream",
          "name": "stdout",
          "text": [
            "Ep 3, test acc 0.8481\n"
          ]
        },
        {
          "output_type": "stream",
          "name": "stderr",
          "text": [
            "Train acc 0.9341: 100%|███████████████████████| 204/204 [01:05<00:00,  3.10it/s]\n"
          ]
        },
        {
          "output_type": "stream",
          "name": "stdout",
          "text": [
            "Ep 4, test acc 0.8298\n"
          ]
        },
        {
          "output_type": "stream",
          "name": "stderr",
          "text": [
            "Train acc 0.9529: 100%|███████████████████████| 204/204 [01:09<00:00,  2.92it/s]\n"
          ]
        },
        {
          "output_type": "stream",
          "name": "stdout",
          "text": [
            "Ep 5, test acc 0.8757\n"
          ]
        },
        {
          "output_type": "stream",
          "name": "stderr",
          "text": [
            "Train acc 0.9590: 100%|███████████████████████| 204/204 [01:09<00:00,  2.94it/s]\n"
          ]
        },
        {
          "output_type": "stream",
          "name": "stdout",
          "text": [
            "Ep 6, test acc 0.8610\n"
          ]
        },
        {
          "output_type": "stream",
          "name": "stderr",
          "text": [
            "Train acc 0.9694: 100%|███████████████████████| 204/204 [01:07<00:00,  3.02it/s]\n"
          ]
        },
        {
          "output_type": "stream",
          "name": "stdout",
          "text": [
            "Ep 7, test acc 0.8674\n"
          ]
        },
        {
          "output_type": "stream",
          "name": "stderr",
          "text": [
            "Train acc 0.9666: 100%|███████████████████████| 204/204 [01:07<00:00,  3.02it/s]\n"
          ]
        },
        {
          "output_type": "stream",
          "name": "stdout",
          "text": [
            "Ep 8, test acc 0.8715\n"
          ]
        },
        {
          "output_type": "stream",
          "name": "stderr",
          "text": [
            "Train acc 0.9698: 100%|███████████████████████| 204/204 [01:07<00:00,  3.01it/s]\n"
          ]
        },
        {
          "output_type": "stream",
          "name": "stdout",
          "text": [
            "Ep 9, test acc 0.8691\n",
            "Done!\n"
          ]
        }
      ],
      "source": [
        "device = torch.device('cuda' if torch.cuda.is_available() else 'cpu')\n",
        "input_dim = 3\n",
        "hidden_dim = 512\n",
        "output_dim = len(np.unique(df['activity']))\n",
        "num_layers = 3\n",
        "num_epochs = 10\n",
        "\n",
        "model = MyLSTM(\n",
        "    n_layers=num_layers,\n",
        "    input_dim=input_dim,\n",
        "    hidden_dim=hidden_dim,\n",
        "    output_dim=output_dim,\n",
        "    device=device\n",
        ")\n",
        "\n",
        "criterion = nn.CrossEntropyLoss().to(device)\n",
        "\n",
        "learning_rate = 0.001\n",
        "optimizer = Adam(model.parameters(), lr=learning_rate)\n",
        "\n",
        "print('Start training...')\n",
        "for epoch in range(num_epochs):\n",
        "    hidden = model.init_hidden(batch_size=batch_size)\n",
        "    train_acc = train(model, train_loader, optimizer, criterion, device=device)\n",
        "    test_acc = test(model, test_loader, device=device)\n",
        "    print('Ep %d, test acc %.4f' % (epoch, test_acc))\n",
        "print('Done!')"
      ],
      "metadata": {
        "pycharm": {
          "name": "#%%\n",
          "is_executing": true
        },
        "colab": {
          "base_uri": "https://localhost:8080/"
        },
        "id": "IEs6-UnGUur6",
        "outputId": "43f36c4f-3c93-453e-b9ed-3daf41089f28"
      },
      "id": "IEs6-UnGUur6"
    },
    {
      "cell_type": "code",
      "source": [
        "model.eval()\n",
        "y_pred, y_true = [], []\n",
        "for batch in test_loader:\n",
        "    current_batch_size = batch[0].shape[0]\n",
        "    hidden = model.init_hidden(current_batch_size)\n",
        "    data, target = batch[0].to(device), batch[1].to(device)\n",
        "    output, _ = model(data, hidden)\n",
        "    y_pred.append(torch.argmax(output[:, -1], dim=1))\n",
        "    y_true.append(target)\n",
        "y_pred = torch.cat(y_pred)\n",
        "y_true = torch.cat(y_true)"
      ],
      "metadata": {
        "id": "zYkRy3cJXi4K"
      },
      "id": "zYkRy3cJXi4K",
      "execution_count": 33,
      "outputs": []
    },
    {
      "cell_type": "code",
      "source": [
        "result = confusion_matrix(y_true.cpu().numpy(), y_pred.cpu().numpy())"
      ],
      "metadata": {
        "id": "lNjBxri-oNhp"
      },
      "id": "lNjBxri-oNhp",
      "execution_count": 34,
      "outputs": []
    },
    {
      "cell_type": "code",
      "source": [
        "result_df = pd.DataFrame(result, index=[idx_to_label[idx] for idx in range(len(labels))], columns=[idx_to_label[idx] for idx in range(len(labels))])"
      ],
      "metadata": {
        "id": "hmjb-hRsoYcW"
      },
      "id": "hmjb-hRsoYcW",
      "execution_count": 40,
      "outputs": []
    },
    {
      "cell_type": "code",
      "source": [
        "print('Confusion Matrix:')\n",
        "print(result_df)"
      ],
      "metadata": {
        "colab": {
          "base_uri": "https://localhost:8080/"
        },
        "id": "AyOukCK_oraH",
        "outputId": "16c9bac3-cbe9-45bd-baf6-aa529502f6b5"
      },
      "id": "AyOukCK_oraH",
      "execution_count": 43,
      "outputs": [
        {
          "output_type": "stream",
          "name": "stdout",
          "text": [
            "Confusion Matrix:\n",
            "            Downstairs  Jogging  Sitting  Standing  Upstairs  Walking\n",
            "Downstairs         281        2        2         0        30       48\n",
            "Jogging              5     1063        0         0         9       20\n",
            "Sitting              1        0      211         0         1        0\n",
            "Standing             0        0        0       172         1        0\n",
            "Upstairs            34        9        1         0       315       94\n",
            "Walking             82        0        2         0       195     1516\n"
          ]
        }
      ]
    },
    {
      "cell_type": "markdown",
      "source": [
        "**Analysis:** Model achieved 87% accuracy in predicting activities. But the model will misclassify upstairs, walking and sometime downstairs. The reason might be that these activities have similar patterns."
      ],
      "metadata": {
        "id": "flno9ANYqzaj"
      },
      "id": "flno9ANYqzaj"
    }
  ],
  "metadata": {
    "kernelspec": {
      "display_name": "courseUbuntu",
      "language": "python",
      "name": "course"
    },
    "language_info": {
      "codemirror_mode": {
        "name": "ipython",
        "version": 3
      },
      "file_extension": ".py",
      "mimetype": "text/x-python",
      "name": "python",
      "nbconvert_exporter": "python",
      "pygments_lexer": "ipython3",
      "version": "3.10.13"
    },
    "colab": {
      "provenance": [],
      "gpuType": "T4"
    },
    "accelerator": "GPU"
  },
  "nbformat": 4,
  "nbformat_minor": 5
}